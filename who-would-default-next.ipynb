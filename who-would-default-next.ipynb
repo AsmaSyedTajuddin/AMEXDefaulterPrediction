{
 "cells": [
  {
   "cell_type": "code",
   "execution_count": 1,
   "id": "63d90c25",
   "metadata": {
    "_cell_guid": "b1076dfc-b9ad-4769-8c92-a6c4dae69d19",
    "_uuid": "8f2839f25d086af736a60e9eeb907d3b93b6e0e5",
    "execution": {
     "iopub.execute_input": "2022-05-31T12:54:38.456481Z",
     "iopub.status.busy": "2022-05-31T12:54:38.455998Z",
     "iopub.status.idle": "2022-05-31T12:54:41.982909Z",
     "shell.execute_reply": "2022-05-31T12:54:41.982061Z"
    },
    "papermill": {
     "duration": 3.54664,
     "end_time": "2022-05-31T12:54:41.985284",
     "exception": false,
     "start_time": "2022-05-31T12:54:38.438644",
     "status": "completed"
    },
    "tags": []
   },
   "outputs": [
    {
     "data": {
      "text/html": [
       "<style type='text/css'>\n",
       ".datatable table.frame { margin-bottom: 0; }\n",
       ".datatable table.frame thead { border-bottom: none; }\n",
       ".datatable table.frame tr.coltypes td {  color: #FFFFFF;  line-height: 6px;  padding: 0 0.5em;}\n",
       ".datatable .bool    { background: #DDDD99; }\n",
       ".datatable .object  { background: #565656; }\n",
       ".datatable .int     { background: #5D9E5D; }\n",
       ".datatable .float   { background: #4040CC; }\n",
       ".datatable .str     { background: #CC4040; }\n",
       ".datatable .time    { background: #40CC40; }\n",
       ".datatable .row_index {  background: var(--jp-border-color3);  border-right: 1px solid var(--jp-border-color0);  color: var(--jp-ui-font-color3);  font-size: 9px;}\n",
       ".datatable .frame tbody td { text-align: left; }\n",
       ".datatable .frame tr.coltypes .row_index {  background: var(--jp-border-color0);}\n",
       ".datatable th:nth-child(2) { padding-left: 12px; }\n",
       ".datatable .hellipsis {  color: var(--jp-cell-editor-border-color);}\n",
       ".datatable .vellipsis {  background: var(--jp-layout-color0);  color: var(--jp-cell-editor-border-color);}\n",
       ".datatable .na {  color: var(--jp-cell-editor-border-color);  font-size: 80%;}\n",
       ".datatable .sp {  opacity: 0.25;}\n",
       ".datatable .footer { font-size: 9px; }\n",
       ".datatable .frame_dimensions {  background: var(--jp-border-color3);  border-top: 1px solid var(--jp-border-color0);  color: var(--jp-ui-font-color3);  display: inline-block;  opacity: 0.6;  padding: 1px 10px 1px 5px;}\n",
       "</style>\n"
      ],
      "text/plain": [
       "<IPython.core.display.HTML object>"
      ]
     },
     "metadata": {},
     "output_type": "display_data"
    }
   ],
   "source": [
    "import numpy as np # linear algebra\n",
    "import pandas as pd # data processing, CSV file I/O (e.g. pd.read_csv)\n",
    "import os\n",
    "import matplotlib.pyplot as plt\n",
    "import seaborn as sns\n",
    "import plotly.express as px\n",
    "from sklearn.preprocessing import OrdinalEncoder\n",
    "from sklearn.model_selection import train_test_split, StratifiedKFold, GridSearchCV\n",
    "from sklearn.preprocessing import StandardScaler, OneHotEncoder, LabelEncoder\n",
    "from sklearn.impute import SimpleImputer\n",
    "from sklearn.pipeline import make_pipeline\n",
    "from sklearn.compose import make_column_transformer\n",
    "from sklearn.metrics import confusion_matrix, ConfusionMatrixDisplay, accuracy_score\n",
    "from sklearn.ensemble import RandomForestClassifier\n",
    "from lightgbm import LGBMClassifier, early_stopping, log_evaluation\n",
    "# Models\n",
    "from xgboost import XGBClassifier, XGBRegressor\n",
    "from catboost import CatBoostClassifier\n",
    "from lightgbm import LGBMClassifier\n",
    "from sklearn.linear_model import LogisticRegression"
   ]
  },
  {
   "cell_type": "code",
   "execution_count": 2,
   "id": "170d6814",
   "metadata": {
    "execution": {
     "iopub.execute_input": "2022-05-31T12:54:42.017765Z",
     "iopub.status.busy": "2022-05-31T12:54:42.017237Z",
     "iopub.status.idle": "2022-05-31T12:55:16.236394Z",
     "shell.execute_reply": "2022-05-31T12:55:16.235391Z"
    },
    "papermill": {
     "duration": 34.238952,
     "end_time": "2022-05-31T12:55:16.239337",
     "exception": false,
     "start_time": "2022-05-31T12:54:42.000385",
     "status": "completed"
    },
    "tags": []
   },
   "outputs": [],
   "source": [
    "train = pd.read_parquet(\"../input/amex-parquet/train_data.parquet\")"
   ]
  },
  {
   "cell_type": "code",
   "execution_count": 3,
   "id": "010fcee3",
   "metadata": {
    "execution": {
     "iopub.execute_input": "2022-05-31T12:55:16.272682Z",
     "iopub.status.busy": "2022-05-31T12:55:16.272023Z",
     "iopub.status.idle": "2022-05-31T12:55:16.279829Z",
     "shell.execute_reply": "2022-05-31T12:55:16.279159Z"
    },
    "papermill": {
     "duration": 0.026172,
     "end_time": "2022-05-31T12:55:16.281927",
     "exception": false,
     "start_time": "2022-05-31T12:55:16.255755",
     "status": "completed"
    },
    "tags": []
   },
   "outputs": [
    {
     "data": {
      "text/plain": [
       "Index(['customer_ID', 'S_2', 'P_2', 'D_39', 'B_1', 'B_2', 'R_1', 'S_3', 'D_41',\n",
       "       'B_3',\n",
       "       ...\n",
       "       'D_137', 'D_138', 'D_139', 'D_140', 'D_141', 'D_142', 'D_143', 'D_144',\n",
       "       'D_145', 'target'],\n",
       "      dtype='object', length=191)"
      ]
     },
     "execution_count": 3,
     "metadata": {},
     "output_type": "execute_result"
    }
   ],
   "source": [
    "train.columns"
   ]
  },
  {
   "cell_type": "code",
   "execution_count": 4,
   "id": "aa64d74c",
   "metadata": {
    "execution": {
     "iopub.execute_input": "2022-05-31T12:55:16.313582Z",
     "iopub.status.busy": "2022-05-31T12:55:16.312884Z",
     "iopub.status.idle": "2022-05-31T12:56:03.941813Z",
     "shell.execute_reply": "2022-05-31T12:56:03.940899Z"
    },
    "papermill": {
     "duration": 47.66238,
     "end_time": "2022-05-31T12:56:03.959173",
     "exception": false,
     "start_time": "2022-05-31T12:55:16.296793",
     "status": "completed"
    },
    "tags": []
   },
   "outputs": [
    {
     "data": {
      "text/html": [
       "<div>\n",
       "<style scoped>\n",
       "    .dataframe tbody tr th:only-of-type {\n",
       "        vertical-align: middle;\n",
       "    }\n",
       "\n",
       "    .dataframe tbody tr th {\n",
       "        vertical-align: top;\n",
       "    }\n",
       "\n",
       "    .dataframe thead th {\n",
       "        text-align: right;\n",
       "    }\n",
       "</style>\n",
       "<table border=\"1\" class=\"dataframe\">\n",
       "  <thead>\n",
       "    <tr style=\"text-align: right;\">\n",
       "      <th></th>\n",
       "      <th>P_2</th>\n",
       "      <th>D_39</th>\n",
       "      <th>B_1</th>\n",
       "      <th>B_2</th>\n",
       "      <th>R_1</th>\n",
       "      <th>S_3</th>\n",
       "      <th>D_41</th>\n",
       "      <th>B_3</th>\n",
       "      <th>D_42</th>\n",
       "      <th>D_43</th>\n",
       "      <th>...</th>\n",
       "      <th>D_137</th>\n",
       "      <th>D_138</th>\n",
       "      <th>D_139</th>\n",
       "      <th>D_140</th>\n",
       "      <th>D_141</th>\n",
       "      <th>D_142</th>\n",
       "      <th>D_143</th>\n",
       "      <th>D_144</th>\n",
       "      <th>D_145</th>\n",
       "      <th>target</th>\n",
       "    </tr>\n",
       "  </thead>\n",
       "  <tbody>\n",
       "    <tr>\n",
       "      <th>count</th>\n",
       "      <td>5.485466e+06</td>\n",
       "      <td>5.531451e+06</td>\n",
       "      <td>5.531451e+06</td>\n",
       "      <td>5.529435e+06</td>\n",
       "      <td>5.531451e+06</td>\n",
       "      <td>4.510907e+06</td>\n",
       "      <td>5.529435e+06</td>\n",
       "      <td>5.529435e+06</td>\n",
       "      <td>791314.000000</td>\n",
       "      <td>3.873055e+06</td>\n",
       "      <td>...</td>\n",
       "      <td>1.946990e+05</td>\n",
       "      <td>1.946990e+05</td>\n",
       "      <td>5.429903e+06</td>\n",
       "      <td>5.490819e+06</td>\n",
       "      <td>5.429903e+06</td>\n",
       "      <td>944408.000000</td>\n",
       "      <td>5.429903e+06</td>\n",
       "      <td>5.490724e+06</td>\n",
       "      <td>5.429903e+06</td>\n",
       "      <td>5.531451e+06</td>\n",
       "    </tr>\n",
       "    <tr>\n",
       "      <th>mean</th>\n",
       "      <td>6.563343e-01</td>\n",
       "      <td>1.531172e-01</td>\n",
       "      <td>1.240101e-01</td>\n",
       "      <td>6.214890e-01</td>\n",
       "      <td>7.880273e-02</td>\n",
       "      <td>2.258454e-01</td>\n",
       "      <td>5.978473e-02</td>\n",
       "      <td>1.325390e-01</td>\n",
       "      <td>0.184974</td>\n",
       "      <td>1.546841e-01</td>\n",
       "      <td>...</td>\n",
       "      <td>1.424409e-02</td>\n",
       "      <td>1.646184e-01</td>\n",
       "      <td>1.789304e-01</td>\n",
       "      <td>2.664348e-02</td>\n",
       "      <td>1.645212e-01</td>\n",
       "      <td>0.390799</td>\n",
       "      <td>1.788023e-01</td>\n",
       "      <td>5.238953e-02</td>\n",
       "      <td>6.233494e-02</td>\n",
       "      <td>2.490972e-01</td>\n",
       "    </tr>\n",
       "    <tr>\n",
       "      <th>std</th>\n",
       "      <td>2.446494e-01</td>\n",
       "      <td>2.700709e-01</td>\n",
       "      <td>2.119869e-01</td>\n",
       "      <td>4.014876e-01</td>\n",
       "      <td>2.263971e-01</td>\n",
       "      <td>1.933475e-01</td>\n",
       "      <td>2.025443e-01</td>\n",
       "      <td>2.349929e-01</td>\n",
       "      <td>0.228185</td>\n",
       "      <td>2.133977e-01</td>\n",
       "      <td>...</td>\n",
       "      <td>9.571116e-02</td>\n",
       "      <td>2.670208e-01</td>\n",
       "      <td>3.790614e-01</td>\n",
       "      <td>1.455480e-01</td>\n",
       "      <td>3.482771e-01</td>\n",
       "      <td>0.236182</td>\n",
       "      <td>3.789498e-01</td>\n",
       "      <td>1.825135e-01</td>\n",
       "      <td>1.934937e-01</td>\n",
       "      <td>4.324903e-01</td>\n",
       "    </tr>\n",
       "    <tr>\n",
       "      <th>min</th>\n",
       "      <td>-4.589548e-01</td>\n",
       "      <td>5.026190e-09</td>\n",
       "      <td>-7.588799e+00</td>\n",
       "      <td>9.192280e-09</td>\n",
       "      <td>1.534223e-09</td>\n",
       "      <td>-6.271321e-01</td>\n",
       "      <td>5.566545e-10</td>\n",
       "      <td>6.285293e-09</td>\n",
       "      <td>-0.000454</td>\n",
       "      <td>1.154550e-07</td>\n",
       "      <td>...</td>\n",
       "      <td>1.078787e-08</td>\n",
       "      <td>3.307923e-08</td>\n",
       "      <td>3.767347e-10</td>\n",
       "      <td>3.725073e-09</td>\n",
       "      <td>1.650100e-10</td>\n",
       "      <td>-0.014539</td>\n",
       "      <td>5.549692e-09</td>\n",
       "      <td>2.500991e-09</td>\n",
       "      <td>1.226024e-09</td>\n",
       "      <td>0.000000e+00</td>\n",
       "    </tr>\n",
       "    <tr>\n",
       "      <th>25%</th>\n",
       "      <td>4.803307e-01</td>\n",
       "      <td>4.528464e-03</td>\n",
       "      <td>8.863645e-03</td>\n",
       "      <td>1.053313e-01</td>\n",
       "      <td>2.895934e-03</td>\n",
       "      <td>1.272588e-01</td>\n",
       "      <td>2.873244e-03</td>\n",
       "      <td>5.227570e-03</td>\n",
       "      <td>0.037516</td>\n",
       "      <td>4.227546e-02</td>\n",
       "      <td>...</td>\n",
       "      <td>2.532470e-03</td>\n",
       "      <td>3.517452e-03</td>\n",
       "      <td>3.027212e-03</td>\n",
       "      <td>2.555848e-03</td>\n",
       "      <td>3.026087e-03</td>\n",
       "      <td>0.199399</td>\n",
       "      <td>3.028116e-03</td>\n",
       "      <td>2.752895e-03</td>\n",
       "      <td>3.028347e-03</td>\n",
       "      <td>0.000000e+00</td>\n",
       "    </tr>\n",
       "    <tr>\n",
       "      <th>50%</th>\n",
       "      <td>6.942950e-01</td>\n",
       "      <td>9.056902e-03</td>\n",
       "      <td>3.132968e-02</td>\n",
       "      <td>8.143328e-01</td>\n",
       "      <td>5.782230e-03</td>\n",
       "      <td>1.639082e-01</td>\n",
       "      <td>5.746725e-03</td>\n",
       "      <td>9.777229e-03</td>\n",
       "      <td>0.120519</td>\n",
       "      <td>8.851244e-02</td>\n",
       "      <td>...</td>\n",
       "      <td>5.069830e-03</td>\n",
       "      <td>7.037814e-03</td>\n",
       "      <td>6.053010e-03</td>\n",
       "      <td>5.110523e-03</td>\n",
       "      <td>6.051590e-03</td>\n",
       "      <td>0.382136</td>\n",
       "      <td>6.053151e-03</td>\n",
       "      <td>5.508129e-03</td>\n",
       "      <td>6.053247e-03</td>\n",
       "      <td>0.000000e+00</td>\n",
       "    </tr>\n",
       "    <tr>\n",
       "      <th>75%</th>\n",
       "      <td>8.648159e-01</td>\n",
       "      <td>2.366407e-01</td>\n",
       "      <td>1.259019e-01</td>\n",
       "      <td>1.002403e+00</td>\n",
       "      <td>8.660590e-03</td>\n",
       "      <td>2.581017e-01</td>\n",
       "      <td>8.615665e-03</td>\n",
       "      <td>1.550507e-01</td>\n",
       "      <td>0.250869</td>\n",
       "      <td>1.843206e-01</td>\n",
       "      <td>...</td>\n",
       "      <td>7.573434e-03</td>\n",
       "      <td>5.015469e-01</td>\n",
       "      <td>9.080455e-03</td>\n",
       "      <td>7.663697e-03</td>\n",
       "      <td>9.078914e-03</td>\n",
       "      <td>0.559307</td>\n",
       "      <td>9.076287e-03</td>\n",
       "      <td>8.260448e-03</td>\n",
       "      <td>9.080930e-03</td>\n",
       "      <td>0.000000e+00</td>\n",
       "    </tr>\n",
       "    <tr>\n",
       "      <th>max</th>\n",
       "      <td>1.010000e+00</td>\n",
       "      <td>5.389619e+00</td>\n",
       "      <td>1.324060e+00</td>\n",
       "      <td>1.010000e+00</td>\n",
       "      <td>3.256284e+00</td>\n",
       "      <td>5.482888e+00</td>\n",
       "      <td>8.988807e+00</td>\n",
       "      <td>1.625262e+00</td>\n",
       "      <td>4.191119</td>\n",
       "      <td>1.011162e+01</td>\n",
       "      <td>...</td>\n",
       "      <td>1.009998e+00</td>\n",
       "      <td>3.005383e+00</td>\n",
       "      <td>1.010000e+00</td>\n",
       "      <td>1.010000e+00</td>\n",
       "      <td>1.339910e+00</td>\n",
       "      <td>2.229368</td>\n",
       "      <td>1.010000e+00</td>\n",
       "      <td>1.343331e+00</td>\n",
       "      <td>4.827630e+00</td>\n",
       "      <td>1.000000e+00</td>\n",
       "    </tr>\n",
       "  </tbody>\n",
       "</table>\n",
       "<p>8 rows × 187 columns</p>\n",
       "</div>"
      ],
      "text/plain": [
       "                P_2          D_39           B_1           B_2           R_1  \\\n",
       "count  5.485466e+06  5.531451e+06  5.531451e+06  5.529435e+06  5.531451e+06   \n",
       "mean   6.563343e-01  1.531172e-01  1.240101e-01  6.214890e-01  7.880273e-02   \n",
       "std    2.446494e-01  2.700709e-01  2.119869e-01  4.014876e-01  2.263971e-01   \n",
       "min   -4.589548e-01  5.026190e-09 -7.588799e+00  9.192280e-09  1.534223e-09   \n",
       "25%    4.803307e-01  4.528464e-03  8.863645e-03  1.053313e-01  2.895934e-03   \n",
       "50%    6.942950e-01  9.056902e-03  3.132968e-02  8.143328e-01  5.782230e-03   \n",
       "75%    8.648159e-01  2.366407e-01  1.259019e-01  1.002403e+00  8.660590e-03   \n",
       "max    1.010000e+00  5.389619e+00  1.324060e+00  1.010000e+00  3.256284e+00   \n",
       "\n",
       "                S_3          D_41           B_3           D_42          D_43  \\\n",
       "count  4.510907e+06  5.529435e+06  5.529435e+06  791314.000000  3.873055e+06   \n",
       "mean   2.258454e-01  5.978473e-02  1.325390e-01       0.184974  1.546841e-01   \n",
       "std    1.933475e-01  2.025443e-01  2.349929e-01       0.228185  2.133977e-01   \n",
       "min   -6.271321e-01  5.566545e-10  6.285293e-09      -0.000454  1.154550e-07   \n",
       "25%    1.272588e-01  2.873244e-03  5.227570e-03       0.037516  4.227546e-02   \n",
       "50%    1.639082e-01  5.746725e-03  9.777229e-03       0.120519  8.851244e-02   \n",
       "75%    2.581017e-01  8.615665e-03  1.550507e-01       0.250869  1.843206e-01   \n",
       "max    5.482888e+00  8.988807e+00  1.625262e+00       4.191119  1.011162e+01   \n",
       "\n",
       "       ...         D_137         D_138         D_139         D_140  \\\n",
       "count  ...  1.946990e+05  1.946990e+05  5.429903e+06  5.490819e+06   \n",
       "mean   ...  1.424409e-02  1.646184e-01  1.789304e-01  2.664348e-02   \n",
       "std    ...  9.571116e-02  2.670208e-01  3.790614e-01  1.455480e-01   \n",
       "min    ...  1.078787e-08  3.307923e-08  3.767347e-10  3.725073e-09   \n",
       "25%    ...  2.532470e-03  3.517452e-03  3.027212e-03  2.555848e-03   \n",
       "50%    ...  5.069830e-03  7.037814e-03  6.053010e-03  5.110523e-03   \n",
       "75%    ...  7.573434e-03  5.015469e-01  9.080455e-03  7.663697e-03   \n",
       "max    ...  1.009998e+00  3.005383e+00  1.010000e+00  1.010000e+00   \n",
       "\n",
       "              D_141          D_142         D_143         D_144         D_145  \\\n",
       "count  5.429903e+06  944408.000000  5.429903e+06  5.490724e+06  5.429903e+06   \n",
       "mean   1.645212e-01       0.390799  1.788023e-01  5.238953e-02  6.233494e-02   \n",
       "std    3.482771e-01       0.236182  3.789498e-01  1.825135e-01  1.934937e-01   \n",
       "min    1.650100e-10      -0.014539  5.549692e-09  2.500991e-09  1.226024e-09   \n",
       "25%    3.026087e-03       0.199399  3.028116e-03  2.752895e-03  3.028347e-03   \n",
       "50%    6.051590e-03       0.382136  6.053151e-03  5.508129e-03  6.053247e-03   \n",
       "75%    9.078914e-03       0.559307  9.076287e-03  8.260448e-03  9.080930e-03   \n",
       "max    1.339910e+00       2.229368  1.010000e+00  1.343331e+00  4.827630e+00   \n",
       "\n",
       "             target  \n",
       "count  5.531451e+06  \n",
       "mean   2.490972e-01  \n",
       "std    4.324903e-01  \n",
       "min    0.000000e+00  \n",
       "25%    0.000000e+00  \n",
       "50%    0.000000e+00  \n",
       "75%    0.000000e+00  \n",
       "max    1.000000e+00  \n",
       "\n",
       "[8 rows x 187 columns]"
      ]
     },
     "execution_count": 4,
     "metadata": {},
     "output_type": "execute_result"
    }
   ],
   "source": [
    "train.describe()"
   ]
  },
  {
   "cell_type": "markdown",
   "id": "24421034",
   "metadata": {
    "papermill": {
     "duration": 0.014878,
     "end_time": "2022-05-31T12:56:03.989924",
     "exception": false,
     "start_time": "2022-05-31T12:56:03.975046",
     "status": "completed"
    },
    "tags": []
   },
   "source": [
    "# Missing Column Analysis"
   ]
  },
  {
   "cell_type": "code",
   "execution_count": 5,
   "id": "ed85eb5f",
   "metadata": {
    "execution": {
     "iopub.execute_input": "2022-05-31T12:56:04.022789Z",
     "iopub.status.busy": "2022-05-31T12:56:04.021762Z",
     "iopub.status.idle": "2022-05-31T12:56:08.249038Z",
     "shell.execute_reply": "2022-05-31T12:56:08.248115Z"
    },
    "papermill": {
     "duration": 4.246665,
     "end_time": "2022-05-31T12:56:08.251569",
     "exception": false,
     "start_time": "2022-05-31T12:56:04.004904",
     "status": "completed"
    },
    "tags": []
   },
   "outputs": [],
   "source": [
    "missing_df = train.isnull().sum().reset_index()\n",
    "missing_df = missing_df.rename(columns={\"index\":\"columns\",0:\"missing_value\"})\n",
    "missing_df = missing_df.query(\"missing_value>0\")"
   ]
  },
  {
   "cell_type": "code",
   "execution_count": 6,
   "id": "082d70f1",
   "metadata": {
    "execution": {
     "iopub.execute_input": "2022-05-31T12:56:08.285215Z",
     "iopub.status.busy": "2022-05-31T12:56:08.284783Z",
     "iopub.status.idle": "2022-05-31T12:56:08.301741Z",
     "shell.execute_reply": "2022-05-31T12:56:08.300697Z"
    },
    "papermill": {
     "duration": 0.036211,
     "end_time": "2022-05-31T12:56:08.303713",
     "exception": false,
     "start_time": "2022-05-31T12:56:08.267502",
     "status": "completed"
    },
    "tags": []
   },
   "outputs": [
    {
     "name": "stdout",
     "output_type": "stream",
     "text": [
      "<class 'pandas.core.frame.DataFrame'>\n",
      "Int64Index: 122 entries, 2 to 189\n",
      "Data columns (total 2 columns):\n",
      " #   Column         Non-Null Count  Dtype \n",
      "---  ------         --------------  ----- \n",
      " 0   columns        122 non-null    object\n",
      " 1   missing_value  122 non-null    int64 \n",
      "dtypes: int64(1), object(1)\n",
      "memory usage: 2.9+ KB\n"
     ]
    }
   ],
   "source": [
    "missing_df.info()"
   ]
  },
  {
   "cell_type": "code",
   "execution_count": 7,
   "id": "87f9eee9",
   "metadata": {
    "execution": {
     "iopub.execute_input": "2022-05-31T12:56:08.337242Z",
     "iopub.status.busy": "2022-05-31T12:56:08.336326Z",
     "iopub.status.idle": "2022-05-31T12:56:08.350530Z",
     "shell.execute_reply": "2022-05-31T12:56:08.349448Z"
    },
    "papermill": {
     "duration": 0.033757,
     "end_time": "2022-05-31T12:56:08.353158",
     "exception": false,
     "start_time": "2022-05-31T12:56:08.319401",
     "status": "completed"
    },
    "tags": []
   },
   "outputs": [
    {
     "name": "stdout",
     "output_type": "stream",
     "text": [
      "       missing_value\n",
      "count   1.220000e+02\n",
      "mean    1.318516e+06\n",
      "std     2.059408e+06\n",
      "min     1.000000e+00\n",
      "25%     1.971125e+04\n",
      "50%     1.429595e+05\n",
      "75%     2.300033e+06\n",
      "max     5.527586e+06\n",
      "columns              S_9\n",
      "missing_value    5527586\n",
      "dtype: object\n",
      "columns          B_13\n",
      "missing_value       1\n",
      "dtype: object\n"
     ]
    }
   ],
   "source": [
    "print(missing_df.describe())\n",
    "print(missing_df.max())\n",
    "print(missing_df.min())"
   ]
  },
  {
   "cell_type": "code",
   "execution_count": 8,
   "id": "4a7cfe28",
   "metadata": {
    "execution": {
     "iopub.execute_input": "2022-05-31T12:56:08.386149Z",
     "iopub.status.busy": "2022-05-31T12:56:08.385437Z",
     "iopub.status.idle": "2022-05-31T12:56:09.615109Z",
     "shell.execute_reply": "2022-05-31T12:56:09.613875Z"
    },
    "papermill": {
     "duration": 1.248502,
     "end_time": "2022-05-31T12:56:09.617412",
     "exception": false,
     "start_time": "2022-05-31T12:56:08.368910",
     "status": "completed"
    },
    "tags": []
   },
   "outputs": [
    {
     "data": {
      "text/html": [
       "        <script type=\"text/javascript\">\n",
       "        window.PlotlyConfig = {MathJaxConfig: 'local'};\n",
       "        if (window.MathJax && window.MathJax.Hub && window.MathJax.Hub.Config) {window.MathJax.Hub.Config({SVG: {font: \"STIX-Web\"}});}\n",
       "        if (typeof require !== 'undefined') {\n",
       "        require.undef(\"plotly\");\n",
       "        requirejs.config({\n",
       "            paths: {\n",
       "                'plotly': ['https://cdn.plot.ly/plotly-2.12.1.min']\n",
       "            }\n",
       "        });\n",
       "        require(['plotly'], function(Plotly) {\n",
       "            window._Plotly = Plotly;\n",
       "        });\n",
       "        }\n",
       "        </script>\n",
       "        "
      ]
     },
     "metadata": {},
     "output_type": "display_data"
    },
    {
     "data": {
      "text/html": [
       "<div>                            <div id=\"06f0d1cb-7c3f-4076-aa8b-50c3f444ed12\" class=\"plotly-graph-div\" style=\"height:525px; width:100%;\"></div>            <script type=\"text/javascript\">                require([\"plotly\"], function(Plotly) {                    window.PLOTLYENV=window.PLOTLYENV || {};                                    if (document.getElementById(\"06f0d1cb-7c3f-4076-aa8b-50c3f444ed12\")) {                    Plotly.newPlot(                        \"06f0d1cb-7c3f-4076-aa8b-50c3f444ed12\",                        [{\"alignmentgroup\":\"True\",\"hovertemplate\":\"x=%{x}<br>y=%{y}<extra></extra>\",\"legendgroup\":\"\",\"marker\":{\"color\":\"#636efa\",\"pattern\":{\"shape\":\"\"}},\"name\":\"\",\"offsetgroup\":\"\",\"orientation\":\"h\",\"showlegend\":false,\"textposition\":\"auto\",\"x\":[45985,2016,1020544,2016,2016,4740137,1658396,274319,2017,1211699,718725,4985917,233,22268,3142402,29563,301492,4084585,2016,1020544,184803,2990943,49519,2933643,106725,598052,6923,758161,217442,2016,3137598,2016,4908097,2016,216503,194473,2016,94917,23708,5475595,21773,4908954,1,2513912,6923,2016,274319,75939,5218918,21773,2016,25687,4058614,56,194473,1,29563,5150035,2016,5527586,5525447,75,2016,29563,157216,19024,445,18593,12847,634,40655,101548,101548,3021431,4990102,101548,56,4922146,128703,2016,5502513,1597,5500117,5500117,5497819,2650,53,1400935,176716,176716,176716,176716,176716,176716,176716,176716,176716,176716,176716,176716,176716,116816,101548,101548,690,5459973,101548,101548,4988874,42716,5336752,5336752,5336752,5336752,5336752,101548,40632,101548,4587043,101548,40727,101548],\"xaxis\":\"x\",\"y\":[\"P_2\",\"B_2\",\"S_3\",\"D_41\",\"B_3\",\"D_42\",\"D_43\",\"D_44\",\"D_45\",\"D_46\",\"D_48\",\"D_49\",\"B_6\",\"B_8\",\"D_50\",\"D_52\",\"P_3\",\"D_53\",\"D_54\",\"S_7\",\"D_55\",\"D_56\",\"B_13\",\"S_9\",\"D_59\",\"D_61\",\"B_15\",\"D_62\",\"D_64\",\"B_16\",\"B_17\",\"B_19\",\"D_66\",\"B_20\",\"D_68\",\"D_69\",\"B_22\",\"D_70\",\"D_72\",\"D_73\",\"D_74\",\"D_76\",\"R_7\",\"D_77\",\"B_25\",\"B_26\",\"D_78\",\"D_79\",\"R_9\",\"D_80\",\"B_27\",\"D_81\",\"D_82\",\"R_12\",\"D_83\",\"R_14\",\"D_84\",\"B_29\",\"B_30\",\"D_87\",\"D_88\",\"R_20\",\"B_33\",\"D_89\",\"D_91\",\"S_22\",\"S_23\",\"S_24\",\"S_25\",\"S_26\",\"D_102\",\"D_103\",\"D_104\",\"D_105\",\"D_106\",\"D_107\",\"B_37\",\"R_26\",\"R_27\",\"B_38\",\"D_108\",\"D_109\",\"D_110\",\"D_111\",\"B_39\",\"D_112\",\"B_40\",\"S_27\",\"D_113\",\"D_114\",\"D_115\",\"D_116\",\"D_117\",\"D_118\",\"D_119\",\"D_120\",\"D_121\",\"D_122\",\"D_123\",\"D_124\",\"D_125\",\"D_126\",\"D_128\",\"D_129\",\"B_41\",\"B_42\",\"D_130\",\"D_131\",\"D_132\",\"D_133\",\"D_134\",\"D_135\",\"D_136\",\"D_137\",\"D_138\",\"D_139\",\"D_140\",\"D_141\",\"D_142\",\"D_143\",\"D_144\",\"D_145\"],\"yaxis\":\"y\",\"type\":\"bar\"}],                        {\"template\":{\"data\":{\"histogram2dcontour\":[{\"type\":\"histogram2dcontour\",\"colorbar\":{\"outlinewidth\":0,\"ticks\":\"\"},\"colorscale\":[[0.0,\"#0d0887\"],[0.1111111111111111,\"#46039f\"],[0.2222222222222222,\"#7201a8\"],[0.3333333333333333,\"#9c179e\"],[0.4444444444444444,\"#bd3786\"],[0.5555555555555556,\"#d8576b\"],[0.6666666666666666,\"#ed7953\"],[0.7777777777777778,\"#fb9f3a\"],[0.8888888888888888,\"#fdca26\"],[1.0,\"#f0f921\"]]}],\"choropleth\":[{\"type\":\"choropleth\",\"colorbar\":{\"outlinewidth\":0,\"ticks\":\"\"}}],\"histogram2d\":[{\"type\":\"histogram2d\",\"colorbar\":{\"outlinewidth\":0,\"ticks\":\"\"},\"colorscale\":[[0.0,\"#0d0887\"],[0.1111111111111111,\"#46039f\"],[0.2222222222222222,\"#7201a8\"],[0.3333333333333333,\"#9c179e\"],[0.4444444444444444,\"#bd3786\"],[0.5555555555555556,\"#d8576b\"],[0.6666666666666666,\"#ed7953\"],[0.7777777777777778,\"#fb9f3a\"],[0.8888888888888888,\"#fdca26\"],[1.0,\"#f0f921\"]]}],\"heatmap\":[{\"type\":\"heatmap\",\"colorbar\":{\"outlinewidth\":0,\"ticks\":\"\"},\"colorscale\":[[0.0,\"#0d0887\"],[0.1111111111111111,\"#46039f\"],[0.2222222222222222,\"#7201a8\"],[0.3333333333333333,\"#9c179e\"],[0.4444444444444444,\"#bd3786\"],[0.5555555555555556,\"#d8576b\"],[0.6666666666666666,\"#ed7953\"],[0.7777777777777778,\"#fb9f3a\"],[0.8888888888888888,\"#fdca26\"],[1.0,\"#f0f921\"]]}],\"heatmapgl\":[{\"type\":\"heatmapgl\",\"colorbar\":{\"outlinewidth\":0,\"ticks\":\"\"},\"colorscale\":[[0.0,\"#0d0887\"],[0.1111111111111111,\"#46039f\"],[0.2222222222222222,\"#7201a8\"],[0.3333333333333333,\"#9c179e\"],[0.4444444444444444,\"#bd3786\"],[0.5555555555555556,\"#d8576b\"],[0.6666666666666666,\"#ed7953\"],[0.7777777777777778,\"#fb9f3a\"],[0.8888888888888888,\"#fdca26\"],[1.0,\"#f0f921\"]]}],\"contourcarpet\":[{\"type\":\"contourcarpet\",\"colorbar\":{\"outlinewidth\":0,\"ticks\":\"\"}}],\"contour\":[{\"type\":\"contour\",\"colorbar\":{\"outlinewidth\":0,\"ticks\":\"\"},\"colorscale\":[[0.0,\"#0d0887\"],[0.1111111111111111,\"#46039f\"],[0.2222222222222222,\"#7201a8\"],[0.3333333333333333,\"#9c179e\"],[0.4444444444444444,\"#bd3786\"],[0.5555555555555556,\"#d8576b\"],[0.6666666666666666,\"#ed7953\"],[0.7777777777777778,\"#fb9f3a\"],[0.8888888888888888,\"#fdca26\"],[1.0,\"#f0f921\"]]}],\"surface\":[{\"type\":\"surface\",\"colorbar\":{\"outlinewidth\":0,\"ticks\":\"\"},\"colorscale\":[[0.0,\"#0d0887\"],[0.1111111111111111,\"#46039f\"],[0.2222222222222222,\"#7201a8\"],[0.3333333333333333,\"#9c179e\"],[0.4444444444444444,\"#bd3786\"],[0.5555555555555556,\"#d8576b\"],[0.6666666666666666,\"#ed7953\"],[0.7777777777777778,\"#fb9f3a\"],[0.8888888888888888,\"#fdca26\"],[1.0,\"#f0f921\"]]}],\"mesh3d\":[{\"type\":\"mesh3d\",\"colorbar\":{\"outlinewidth\":0,\"ticks\":\"\"}}],\"scatter\":[{\"fillpattern\":{\"fillmode\":\"overlay\",\"size\":10,\"solidity\":0.2},\"type\":\"scatter\"}],\"parcoords\":[{\"type\":\"parcoords\",\"line\":{\"colorbar\":{\"outlinewidth\":0,\"ticks\":\"\"}}}],\"scatterpolargl\":[{\"type\":\"scatterpolargl\",\"marker\":{\"colorbar\":{\"outlinewidth\":0,\"ticks\":\"\"}}}],\"bar\":[{\"error_x\":{\"color\":\"#2a3f5f\"},\"error_y\":{\"color\":\"#2a3f5f\"},\"marker\":{\"line\":{\"color\":\"#E5ECF6\",\"width\":0.5},\"pattern\":{\"fillmode\":\"overlay\",\"size\":10,\"solidity\":0.2}},\"type\":\"bar\"}],\"scattergeo\":[{\"type\":\"scattergeo\",\"marker\":{\"colorbar\":{\"outlinewidth\":0,\"ticks\":\"\"}}}],\"scatterpolar\":[{\"type\":\"scatterpolar\",\"marker\":{\"colorbar\":{\"outlinewidth\":0,\"ticks\":\"\"}}}],\"histogram\":[{\"marker\":{\"pattern\":{\"fillmode\":\"overlay\",\"size\":10,\"solidity\":0.2}},\"type\":\"histogram\"}],\"scattergl\":[{\"type\":\"scattergl\",\"marker\":{\"colorbar\":{\"outlinewidth\":0,\"ticks\":\"\"}}}],\"scatter3d\":[{\"type\":\"scatter3d\",\"line\":{\"colorbar\":{\"outlinewidth\":0,\"ticks\":\"\"}},\"marker\":{\"colorbar\":{\"outlinewidth\":0,\"ticks\":\"\"}}}],\"scattermapbox\":[{\"type\":\"scattermapbox\",\"marker\":{\"colorbar\":{\"outlinewidth\":0,\"ticks\":\"\"}}}],\"scatterternary\":[{\"type\":\"scatterternary\",\"marker\":{\"colorbar\":{\"outlinewidth\":0,\"ticks\":\"\"}}}],\"scattercarpet\":[{\"type\":\"scattercarpet\",\"marker\":{\"colorbar\":{\"outlinewidth\":0,\"ticks\":\"\"}}}],\"carpet\":[{\"aaxis\":{\"endlinecolor\":\"#2a3f5f\",\"gridcolor\":\"white\",\"linecolor\":\"white\",\"minorgridcolor\":\"white\",\"startlinecolor\":\"#2a3f5f\"},\"baxis\":{\"endlinecolor\":\"#2a3f5f\",\"gridcolor\":\"white\",\"linecolor\":\"white\",\"minorgridcolor\":\"white\",\"startlinecolor\":\"#2a3f5f\"},\"type\":\"carpet\"}],\"table\":[{\"cells\":{\"fill\":{\"color\":\"#EBF0F8\"},\"line\":{\"color\":\"white\"}},\"header\":{\"fill\":{\"color\":\"#C8D4E3\"},\"line\":{\"color\":\"white\"}},\"type\":\"table\"}],\"barpolar\":[{\"marker\":{\"line\":{\"color\":\"#E5ECF6\",\"width\":0.5},\"pattern\":{\"fillmode\":\"overlay\",\"size\":10,\"solidity\":0.2}},\"type\":\"barpolar\"}],\"pie\":[{\"automargin\":true,\"type\":\"pie\"}]},\"layout\":{\"autotypenumbers\":\"strict\",\"colorway\":[\"#636efa\",\"#EF553B\",\"#00cc96\",\"#ab63fa\",\"#FFA15A\",\"#19d3f3\",\"#FF6692\",\"#B6E880\",\"#FF97FF\",\"#FECB52\"],\"font\":{\"color\":\"#2a3f5f\"},\"hovermode\":\"closest\",\"hoverlabel\":{\"align\":\"left\"},\"paper_bgcolor\":\"white\",\"plot_bgcolor\":\"#E5ECF6\",\"polar\":{\"bgcolor\":\"#E5ECF6\",\"angularaxis\":{\"gridcolor\":\"white\",\"linecolor\":\"white\",\"ticks\":\"\"},\"radialaxis\":{\"gridcolor\":\"white\",\"linecolor\":\"white\",\"ticks\":\"\"}},\"ternary\":{\"bgcolor\":\"#E5ECF6\",\"aaxis\":{\"gridcolor\":\"white\",\"linecolor\":\"white\",\"ticks\":\"\"},\"baxis\":{\"gridcolor\":\"white\",\"linecolor\":\"white\",\"ticks\":\"\"},\"caxis\":{\"gridcolor\":\"white\",\"linecolor\":\"white\",\"ticks\":\"\"}},\"coloraxis\":{\"colorbar\":{\"outlinewidth\":0,\"ticks\":\"\"}},\"colorscale\":{\"sequential\":[[0.0,\"#0d0887\"],[0.1111111111111111,\"#46039f\"],[0.2222222222222222,\"#7201a8\"],[0.3333333333333333,\"#9c179e\"],[0.4444444444444444,\"#bd3786\"],[0.5555555555555556,\"#d8576b\"],[0.6666666666666666,\"#ed7953\"],[0.7777777777777778,\"#fb9f3a\"],[0.8888888888888888,\"#fdca26\"],[1.0,\"#f0f921\"]],\"sequentialminus\":[[0.0,\"#0d0887\"],[0.1111111111111111,\"#46039f\"],[0.2222222222222222,\"#7201a8\"],[0.3333333333333333,\"#9c179e\"],[0.4444444444444444,\"#bd3786\"],[0.5555555555555556,\"#d8576b\"],[0.6666666666666666,\"#ed7953\"],[0.7777777777777778,\"#fb9f3a\"],[0.8888888888888888,\"#fdca26\"],[1.0,\"#f0f921\"]],\"diverging\":[[0,\"#8e0152\"],[0.1,\"#c51b7d\"],[0.2,\"#de77ae\"],[0.3,\"#f1b6da\"],[0.4,\"#fde0ef\"],[0.5,\"#f7f7f7\"],[0.6,\"#e6f5d0\"],[0.7,\"#b8e186\"],[0.8,\"#7fbc41\"],[0.9,\"#4d9221\"],[1,\"#276419\"]]},\"xaxis\":{\"gridcolor\":\"white\",\"linecolor\":\"white\",\"ticks\":\"\",\"title\":{\"standoff\":15},\"zerolinecolor\":\"white\",\"automargin\":true,\"zerolinewidth\":2},\"yaxis\":{\"gridcolor\":\"white\",\"linecolor\":\"white\",\"ticks\":\"\",\"title\":{\"standoff\":15},\"zerolinecolor\":\"white\",\"automargin\":true,\"zerolinewidth\":2},\"scene\":{\"xaxis\":{\"backgroundcolor\":\"#E5ECF6\",\"gridcolor\":\"white\",\"linecolor\":\"white\",\"showbackground\":true,\"ticks\":\"\",\"zerolinecolor\":\"white\",\"gridwidth\":2},\"yaxis\":{\"backgroundcolor\":\"#E5ECF6\",\"gridcolor\":\"white\",\"linecolor\":\"white\",\"showbackground\":true,\"ticks\":\"\",\"zerolinecolor\":\"white\",\"gridwidth\":2},\"zaxis\":{\"backgroundcolor\":\"#E5ECF6\",\"gridcolor\":\"white\",\"linecolor\":\"white\",\"showbackground\":true,\"ticks\":\"\",\"zerolinecolor\":\"white\",\"gridwidth\":2}},\"shapedefaults\":{\"line\":{\"color\":\"#2a3f5f\"}},\"annotationdefaults\":{\"arrowcolor\":\"#2a3f5f\",\"arrowhead\":0,\"arrowwidth\":1},\"geo\":{\"bgcolor\":\"white\",\"landcolor\":\"#E5ECF6\",\"subunitcolor\":\"white\",\"showland\":true,\"showlakes\":true,\"lakecolor\":\"white\"},\"title\":{\"x\":0.05},\"mapbox\":{\"style\":\"light\"}}},\"xaxis\":{\"anchor\":\"y\",\"domain\":[0.0,1.0],\"title\":{\"text\":\"Missing Value Count\"}},\"yaxis\":{\"anchor\":\"x\",\"domain\":[0.0,1.0],\"title\":{\"text\":\"Column Name\"}},\"legend\":{\"tracegroupgap\":0},\"margin\":{\"t\":60},\"barmode\":\"relative\",\"title\":{\"text\":\"Column Wise Null Value Distribution\",\"x\":0.5},\"showlegend\":false},                        {\"responsive\": true}                    ).then(function(){\n",
       "                            \n",
       "var gd = document.getElementById('06f0d1cb-7c3f-4076-aa8b-50c3f444ed12');\n",
       "var x = new MutationObserver(function (mutations, observer) {{\n",
       "        var display = window.getComputedStyle(gd).display;\n",
       "        if (!display || display === 'none') {{\n",
       "            console.log([gd, 'removed!']);\n",
       "            Plotly.purge(gd);\n",
       "            observer.disconnect();\n",
       "        }}\n",
       "}});\n",
       "\n",
       "// Listen for the removal of the full notebook cells\n",
       "var notebookContainer = gd.closest('#notebook-container');\n",
       "if (notebookContainer) {{\n",
       "    x.observe(notebookContainer, {childList: true});\n",
       "}}\n",
       "\n",
       "// Listen for the clearing of the current output cell\n",
       "var outputEl = gd.closest('.output');\n",
       "if (outputEl) {{\n",
       "    x.observe(outputEl, {childList: true});\n",
       "}}\n",
       "\n",
       "                        })                };                });            </script>        </div>"
      ]
     },
     "metadata": {},
     "output_type": "display_data"
    }
   ],
   "source": [
    "fig = px.bar(y=missing_df[\"columns\"],x=missing_df[\"missing_value\"])\n",
    "fig.update_layout(showlegend=False, \n",
    "                  title_text=\"Column Wise Null Value Distribution\", \n",
    "                  title_x=0.5,\n",
    "                  xaxis_title=\"Missing Value Count\",\n",
    "                  yaxis_title=\"Column Name\")\n",
    "fig.show()\n"
   ]
  },
  {
   "cell_type": "markdown",
   "id": "79ee8121",
   "metadata": {
    "papermill": {
     "duration": 0.016808,
     "end_time": "2022-05-31T12:56:09.650451",
     "exception": false,
     "start_time": "2022-05-31T12:56:09.633643",
     "status": "completed"
    },
    "tags": []
   },
   "source": [
    "# Observations:\n",
    "\n",
    "* We have 122 NULL value columns in our train dataset. Almost 63% of columns in our dataset have NULL values.\n",
    "\n",
    "* Column B_13 has the least number of null values (1 NULL value)\n",
    "\n",
    "* Column S_9 has the maximum number of null values (5527586)\n",
    "\n",
    "\n",
    "\n"
   ]
  },
  {
   "cell_type": "markdown",
   "id": "bb5c88cb",
   "metadata": {
    "papermill": {
     "duration": 0.016707,
     "end_time": "2022-05-31T12:56:09.683239",
     "exception": false,
     "start_time": "2022-05-31T12:56:09.666532",
     "status": "completed"
    },
    "tags": []
   },
   "source": [
    "# Different feature types"
   ]
  },
  {
   "cell_type": "markdown",
   "id": "5c8f0a54",
   "metadata": {
    "papermill": {
     "duration": 0.016921,
     "end_time": "2022-05-31T12:56:09.717570",
     "exception": false,
     "start_time": "2022-05-31T12:56:09.700649",
     "status": "completed"
    },
    "tags": []
   },
   "source": [
    "Features are anonymized and normalized, and fall into the following general categories:\n",
    "\n",
    "D_* = Delinquency variables\n",
    "\n",
    "S_* = Spend variables\n",
    "\n",
    "P_* = Payment variables\n",
    "\n",
    "B_* = Balance variables\n",
    "\n",
    "R_* = Risk variables"
   ]
  },
  {
   "cell_type": "code",
   "execution_count": 9,
   "id": "40bb2025",
   "metadata": {
    "execution": {
     "iopub.execute_input": "2022-05-31T12:56:09.751908Z",
     "iopub.status.busy": "2022-05-31T12:56:09.751532Z",
     "iopub.status.idle": "2022-05-31T12:56:09.758122Z",
     "shell.execute_reply": "2022-05-31T12:56:09.757151Z"
    },
    "papermill": {
     "duration": 0.026639,
     "end_time": "2022-05-31T12:56:09.760226",
     "exception": false,
     "start_time": "2022-05-31T12:56:09.733587",
     "status": "completed"
    },
    "tags": []
   },
   "outputs": [],
   "source": [
    "d_feats = [c for c in train.columns if c.startswith('D_')]\n",
    "s_feats = [c for c in train.columns if c.startswith('S_')]\n",
    "p_feats = [c for c in train.columns if c.startswith('P_')]\n",
    "b_feats = [c for c in train.columns if c.startswith('B_')]\n",
    "r_feats = [c for c in train.columns if c.startswith('R_')]"
   ]
  },
  {
   "cell_type": "code",
   "execution_count": 10,
   "id": "270cbc4d",
   "metadata": {
    "execution": {
     "iopub.execute_input": "2022-05-31T12:56:09.793898Z",
     "iopub.status.busy": "2022-05-31T12:56:09.793189Z",
     "iopub.status.idle": "2022-05-31T12:56:09.809567Z",
     "shell.execute_reply": "2022-05-31T12:56:09.808644Z"
    },
    "papermill": {
     "duration": 0.035872,
     "end_time": "2022-05-31T12:56:09.811770",
     "exception": false,
     "start_time": "2022-05-31T12:56:09.775898",
     "status": "completed"
    },
    "tags": []
   },
   "outputs": [
    {
     "data": {
      "text/html": [
       "<div>\n",
       "<style scoped>\n",
       "    .dataframe tbody tr th:only-of-type {\n",
       "        vertical-align: middle;\n",
       "    }\n",
       "\n",
       "    .dataframe tbody tr th {\n",
       "        vertical-align: top;\n",
       "    }\n",
       "\n",
       "    .dataframe thead th {\n",
       "        text-align: right;\n",
       "    }\n",
       "</style>\n",
       "<table border=\"1\" class=\"dataframe\">\n",
       "  <thead>\n",
       "    <tr style=\"text-align: right;\">\n",
       "      <th></th>\n",
       "      <th>dtype_name</th>\n",
       "      <th>counts</th>\n",
       "    </tr>\n",
       "  </thead>\n",
       "  <tbody>\n",
       "    <tr>\n",
       "      <th>0</th>\n",
       "      <td>float32</td>\n",
       "      <td>185</td>\n",
       "    </tr>\n",
       "    <tr>\n",
       "      <th>1</th>\n",
       "      <td>int64</td>\n",
       "      <td>2</td>\n",
       "    </tr>\n",
       "    <tr>\n",
       "      <th>2</th>\n",
       "      <td>object</td>\n",
       "      <td>4</td>\n",
       "    </tr>\n",
       "  </tbody>\n",
       "</table>\n",
       "</div>"
      ],
      "text/plain": [
       "  dtype_name  counts\n",
       "0    float32     185\n",
       "1      int64       2\n",
       "2     object       4"
      ]
     },
     "execution_count": 10,
     "metadata": {},
     "output_type": "execute_result"
    }
   ],
   "source": [
    "dtypes = train.dtypes.reset_index()\n",
    "dtypes = dtypes.rename(columns={\"index\":\"Column_name\",0:\"dtype_name\"})\n",
    "dtypes = dtypes.groupby(by=[\"dtype_name\"]).size().reset_index(name=\"counts\")\n",
    "dtypes"
   ]
  },
  {
   "cell_type": "markdown",
   "id": "5b62fc05",
   "metadata": {
    "papermill": {
     "duration": 0.01558,
     "end_time": "2022-05-31T12:56:09.843333",
     "exception": false,
     "start_time": "2022-05-31T12:56:09.827753",
     "status": "completed"
    },
    "tags": []
   },
   "source": [
    "We have 4 object columns, 185 float and 2 integer columns "
   ]
  },
  {
   "cell_type": "markdown",
   "id": "c0e133c0",
   "metadata": {
    "papermill": {
     "duration": 0.015635,
     "end_time": "2022-05-31T12:56:09.874802",
     "exception": false,
     "start_time": "2022-05-31T12:56:09.859167",
     "status": "completed"
    },
    "tags": []
   },
   "source": [
    "# Target Analysis"
   ]
  },
  {
   "cell_type": "code",
   "execution_count": 11,
   "id": "3b572bf2",
   "metadata": {
    "execution": {
     "iopub.execute_input": "2022-05-31T12:56:09.909502Z",
     "iopub.status.busy": "2022-05-31T12:56:09.908758Z",
     "iopub.status.idle": "2022-05-31T12:56:10.116474Z",
     "shell.execute_reply": "2022-05-31T12:56:10.115416Z"
    },
    "papermill": {
     "duration": 0.227708,
     "end_time": "2022-05-31T12:56:10.118973",
     "exception": false,
     "start_time": "2022-05-31T12:56:09.891265",
     "status": "completed"
    },
    "tags": []
   },
   "outputs": [
    {
     "data": {
      "text/html": [
       "<div>                            <div id=\"cbe17977-a6a4-44a8-aa5a-58e5d9cfc2a5\" class=\"plotly-graph-div\" style=\"height:525px; width:100%;\"></div>            <script type=\"text/javascript\">                require([\"plotly\"], function(Plotly) {                    window.PLOTLYENV=window.PLOTLYENV || {};                                    if (document.getElementById(\"cbe17977-a6a4-44a8-aa5a-58e5d9cfc2a5\")) {                    Plotly.newPlot(                        \"cbe17977-a6a4-44a8-aa5a-58e5d9cfc2a5\",                        [{\"alignmentgroup\":\"True\",\"hovertemplate\":\"target=%{marker.color}<br>counts=%{y}<extra></extra>\",\"legendgroup\":\"\",\"marker\":{\"color\":[0,1],\"coloraxis\":\"coloraxis\",\"pattern\":{\"shape\":\"\"}},\"name\":\"\",\"offsetgroup\":\"\",\"orientation\":\"v\",\"showlegend\":false,\"textposition\":\"auto\",\"x\":[0,1],\"xaxis\":\"x\",\"y\":[4153582,1377869],\"yaxis\":\"y\",\"type\":\"bar\"}],                        {\"template\":{\"data\":{\"histogram2dcontour\":[{\"type\":\"histogram2dcontour\",\"colorbar\":{\"outlinewidth\":0,\"ticks\":\"\"},\"colorscale\":[[0.0,\"#0d0887\"],[0.1111111111111111,\"#46039f\"],[0.2222222222222222,\"#7201a8\"],[0.3333333333333333,\"#9c179e\"],[0.4444444444444444,\"#bd3786\"],[0.5555555555555556,\"#d8576b\"],[0.6666666666666666,\"#ed7953\"],[0.7777777777777778,\"#fb9f3a\"],[0.8888888888888888,\"#fdca26\"],[1.0,\"#f0f921\"]]}],\"choropleth\":[{\"type\":\"choropleth\",\"colorbar\":{\"outlinewidth\":0,\"ticks\":\"\"}}],\"histogram2d\":[{\"type\":\"histogram2d\",\"colorbar\":{\"outlinewidth\":0,\"ticks\":\"\"},\"colorscale\":[[0.0,\"#0d0887\"],[0.1111111111111111,\"#46039f\"],[0.2222222222222222,\"#7201a8\"],[0.3333333333333333,\"#9c179e\"],[0.4444444444444444,\"#bd3786\"],[0.5555555555555556,\"#d8576b\"],[0.6666666666666666,\"#ed7953\"],[0.7777777777777778,\"#fb9f3a\"],[0.8888888888888888,\"#fdca26\"],[1.0,\"#f0f921\"]]}],\"heatmap\":[{\"type\":\"heatmap\",\"colorbar\":{\"outlinewidth\":0,\"ticks\":\"\"},\"colorscale\":[[0.0,\"#0d0887\"],[0.1111111111111111,\"#46039f\"],[0.2222222222222222,\"#7201a8\"],[0.3333333333333333,\"#9c179e\"],[0.4444444444444444,\"#bd3786\"],[0.5555555555555556,\"#d8576b\"],[0.6666666666666666,\"#ed7953\"],[0.7777777777777778,\"#fb9f3a\"],[0.8888888888888888,\"#fdca26\"],[1.0,\"#f0f921\"]]}],\"heatmapgl\":[{\"type\":\"heatmapgl\",\"colorbar\":{\"outlinewidth\":0,\"ticks\":\"\"},\"colorscale\":[[0.0,\"#0d0887\"],[0.1111111111111111,\"#46039f\"],[0.2222222222222222,\"#7201a8\"],[0.3333333333333333,\"#9c179e\"],[0.4444444444444444,\"#bd3786\"],[0.5555555555555556,\"#d8576b\"],[0.6666666666666666,\"#ed7953\"],[0.7777777777777778,\"#fb9f3a\"],[0.8888888888888888,\"#fdca26\"],[1.0,\"#f0f921\"]]}],\"contourcarpet\":[{\"type\":\"contourcarpet\",\"colorbar\":{\"outlinewidth\":0,\"ticks\":\"\"}}],\"contour\":[{\"type\":\"contour\",\"colorbar\":{\"outlinewidth\":0,\"ticks\":\"\"},\"colorscale\":[[0.0,\"#0d0887\"],[0.1111111111111111,\"#46039f\"],[0.2222222222222222,\"#7201a8\"],[0.3333333333333333,\"#9c179e\"],[0.4444444444444444,\"#bd3786\"],[0.5555555555555556,\"#d8576b\"],[0.6666666666666666,\"#ed7953\"],[0.7777777777777778,\"#fb9f3a\"],[0.8888888888888888,\"#fdca26\"],[1.0,\"#f0f921\"]]}],\"surface\":[{\"type\":\"surface\",\"colorbar\":{\"outlinewidth\":0,\"ticks\":\"\"},\"colorscale\":[[0.0,\"#0d0887\"],[0.1111111111111111,\"#46039f\"],[0.2222222222222222,\"#7201a8\"],[0.3333333333333333,\"#9c179e\"],[0.4444444444444444,\"#bd3786\"],[0.5555555555555556,\"#d8576b\"],[0.6666666666666666,\"#ed7953\"],[0.7777777777777778,\"#fb9f3a\"],[0.8888888888888888,\"#fdca26\"],[1.0,\"#f0f921\"]]}],\"mesh3d\":[{\"type\":\"mesh3d\",\"colorbar\":{\"outlinewidth\":0,\"ticks\":\"\"}}],\"scatter\":[{\"fillpattern\":{\"fillmode\":\"overlay\",\"size\":10,\"solidity\":0.2},\"type\":\"scatter\"}],\"parcoords\":[{\"type\":\"parcoords\",\"line\":{\"colorbar\":{\"outlinewidth\":0,\"ticks\":\"\"}}}],\"scatterpolargl\":[{\"type\":\"scatterpolargl\",\"marker\":{\"colorbar\":{\"outlinewidth\":0,\"ticks\":\"\"}}}],\"bar\":[{\"error_x\":{\"color\":\"#2a3f5f\"},\"error_y\":{\"color\":\"#2a3f5f\"},\"marker\":{\"line\":{\"color\":\"#E5ECF6\",\"width\":0.5},\"pattern\":{\"fillmode\":\"overlay\",\"size\":10,\"solidity\":0.2}},\"type\":\"bar\"}],\"scattergeo\":[{\"type\":\"scattergeo\",\"marker\":{\"colorbar\":{\"outlinewidth\":0,\"ticks\":\"\"}}}],\"scatterpolar\":[{\"type\":\"scatterpolar\",\"marker\":{\"colorbar\":{\"outlinewidth\":0,\"ticks\":\"\"}}}],\"histogram\":[{\"marker\":{\"pattern\":{\"fillmode\":\"overlay\",\"size\":10,\"solidity\":0.2}},\"type\":\"histogram\"}],\"scattergl\":[{\"type\":\"scattergl\",\"marker\":{\"colorbar\":{\"outlinewidth\":0,\"ticks\":\"\"}}}],\"scatter3d\":[{\"type\":\"scatter3d\",\"line\":{\"colorbar\":{\"outlinewidth\":0,\"ticks\":\"\"}},\"marker\":{\"colorbar\":{\"outlinewidth\":0,\"ticks\":\"\"}}}],\"scattermapbox\":[{\"type\":\"scattermapbox\",\"marker\":{\"colorbar\":{\"outlinewidth\":0,\"ticks\":\"\"}}}],\"scatterternary\":[{\"type\":\"scatterternary\",\"marker\":{\"colorbar\":{\"outlinewidth\":0,\"ticks\":\"\"}}}],\"scattercarpet\":[{\"type\":\"scattercarpet\",\"marker\":{\"colorbar\":{\"outlinewidth\":0,\"ticks\":\"\"}}}],\"carpet\":[{\"aaxis\":{\"endlinecolor\":\"#2a3f5f\",\"gridcolor\":\"white\",\"linecolor\":\"white\",\"minorgridcolor\":\"white\",\"startlinecolor\":\"#2a3f5f\"},\"baxis\":{\"endlinecolor\":\"#2a3f5f\",\"gridcolor\":\"white\",\"linecolor\":\"white\",\"minorgridcolor\":\"white\",\"startlinecolor\":\"#2a3f5f\"},\"type\":\"carpet\"}],\"table\":[{\"cells\":{\"fill\":{\"color\":\"#EBF0F8\"},\"line\":{\"color\":\"white\"}},\"header\":{\"fill\":{\"color\":\"#C8D4E3\"},\"line\":{\"color\":\"white\"}},\"type\":\"table\"}],\"barpolar\":[{\"marker\":{\"line\":{\"color\":\"#E5ECF6\",\"width\":0.5},\"pattern\":{\"fillmode\":\"overlay\",\"size\":10,\"solidity\":0.2}},\"type\":\"barpolar\"}],\"pie\":[{\"automargin\":true,\"type\":\"pie\"}]},\"layout\":{\"autotypenumbers\":\"strict\",\"colorway\":[\"#636efa\",\"#EF553B\",\"#00cc96\",\"#ab63fa\",\"#FFA15A\",\"#19d3f3\",\"#FF6692\",\"#B6E880\",\"#FF97FF\",\"#FECB52\"],\"font\":{\"color\":\"#2a3f5f\"},\"hovermode\":\"closest\",\"hoverlabel\":{\"align\":\"left\"},\"paper_bgcolor\":\"white\",\"plot_bgcolor\":\"#E5ECF6\",\"polar\":{\"bgcolor\":\"#E5ECF6\",\"angularaxis\":{\"gridcolor\":\"white\",\"linecolor\":\"white\",\"ticks\":\"\"},\"radialaxis\":{\"gridcolor\":\"white\",\"linecolor\":\"white\",\"ticks\":\"\"}},\"ternary\":{\"bgcolor\":\"#E5ECF6\",\"aaxis\":{\"gridcolor\":\"white\",\"linecolor\":\"white\",\"ticks\":\"\"},\"baxis\":{\"gridcolor\":\"white\",\"linecolor\":\"white\",\"ticks\":\"\"},\"caxis\":{\"gridcolor\":\"white\",\"linecolor\":\"white\",\"ticks\":\"\"}},\"coloraxis\":{\"colorbar\":{\"outlinewidth\":0,\"ticks\":\"\"}},\"colorscale\":{\"sequential\":[[0.0,\"#0d0887\"],[0.1111111111111111,\"#46039f\"],[0.2222222222222222,\"#7201a8\"],[0.3333333333333333,\"#9c179e\"],[0.4444444444444444,\"#bd3786\"],[0.5555555555555556,\"#d8576b\"],[0.6666666666666666,\"#ed7953\"],[0.7777777777777778,\"#fb9f3a\"],[0.8888888888888888,\"#fdca26\"],[1.0,\"#f0f921\"]],\"sequentialminus\":[[0.0,\"#0d0887\"],[0.1111111111111111,\"#46039f\"],[0.2222222222222222,\"#7201a8\"],[0.3333333333333333,\"#9c179e\"],[0.4444444444444444,\"#bd3786\"],[0.5555555555555556,\"#d8576b\"],[0.6666666666666666,\"#ed7953\"],[0.7777777777777778,\"#fb9f3a\"],[0.8888888888888888,\"#fdca26\"],[1.0,\"#f0f921\"]],\"diverging\":[[0,\"#8e0152\"],[0.1,\"#c51b7d\"],[0.2,\"#de77ae\"],[0.3,\"#f1b6da\"],[0.4,\"#fde0ef\"],[0.5,\"#f7f7f7\"],[0.6,\"#e6f5d0\"],[0.7,\"#b8e186\"],[0.8,\"#7fbc41\"],[0.9,\"#4d9221\"],[1,\"#276419\"]]},\"xaxis\":{\"gridcolor\":\"white\",\"linecolor\":\"white\",\"ticks\":\"\",\"title\":{\"standoff\":15},\"zerolinecolor\":\"white\",\"automargin\":true,\"zerolinewidth\":2},\"yaxis\":{\"gridcolor\":\"white\",\"linecolor\":\"white\",\"ticks\":\"\",\"title\":{\"standoff\":15},\"zerolinecolor\":\"white\",\"automargin\":true,\"zerolinewidth\":2},\"scene\":{\"xaxis\":{\"backgroundcolor\":\"#E5ECF6\",\"gridcolor\":\"white\",\"linecolor\":\"white\",\"showbackground\":true,\"ticks\":\"\",\"zerolinecolor\":\"white\",\"gridwidth\":2},\"yaxis\":{\"backgroundcolor\":\"#E5ECF6\",\"gridcolor\":\"white\",\"linecolor\":\"white\",\"showbackground\":true,\"ticks\":\"\",\"zerolinecolor\":\"white\",\"gridwidth\":2},\"zaxis\":{\"backgroundcolor\":\"#E5ECF6\",\"gridcolor\":\"white\",\"linecolor\":\"white\",\"showbackground\":true,\"ticks\":\"\",\"zerolinecolor\":\"white\",\"gridwidth\":2}},\"shapedefaults\":{\"line\":{\"color\":\"#2a3f5f\"}},\"annotationdefaults\":{\"arrowcolor\":\"#2a3f5f\",\"arrowhead\":0,\"arrowwidth\":1},\"geo\":{\"bgcolor\":\"white\",\"landcolor\":\"#E5ECF6\",\"subunitcolor\":\"white\",\"showland\":true,\"showlakes\":true,\"lakecolor\":\"white\"},\"title\":{\"x\":0.05},\"mapbox\":{\"style\":\"light\"}}},\"xaxis\":{\"anchor\":\"y\",\"domain\":[0.0,1.0],\"title\":{\"text\":\"target\"}},\"yaxis\":{\"anchor\":\"x\",\"domain\":[0.0,1.0],\"title\":{\"text\":\"counts\"}},\"coloraxis\":{\"colorbar\":{\"title\":{\"text\":\"target\"}},\"colorscale\":[[0.0,\"#0d0887\"],[0.1111111111111111,\"#46039f\"],[0.2222222222222222,\"#7201a8\"],[0.3333333333333333,\"#9c179e\"],[0.4444444444444444,\"#bd3786\"],[0.5555555555555556,\"#d8576b\"],[0.6666666666666666,\"#ed7953\"],[0.7777777777777778,\"#fb9f3a\"],[0.8888888888888888,\"#fdca26\"],[1.0,\"#f0f921\"]]},\"legend\":{\"tracegroupgap\":0},\"margin\":{\"t\":60},\"barmode\":\"relative\"},                        {\"responsive\": true}                    ).then(function(){\n",
       "                            \n",
       "var gd = document.getElementById('cbe17977-a6a4-44a8-aa5a-58e5d9cfc2a5');\n",
       "var x = new MutationObserver(function (mutations, observer) {{\n",
       "        var display = window.getComputedStyle(gd).display;\n",
       "        if (!display || display === 'none') {{\n",
       "            console.log([gd, 'removed!']);\n",
       "            Plotly.purge(gd);\n",
       "            observer.disconnect();\n",
       "        }}\n",
       "}});\n",
       "\n",
       "// Listen for the removal of the full notebook cells\n",
       "var notebookContainer = gd.closest('#notebook-container');\n",
       "if (notebookContainer) {{\n",
       "    x.observe(notebookContainer, {childList: true});\n",
       "}}\n",
       "\n",
       "// Listen for the clearing of the current output cell\n",
       "var outputEl = gd.closest('.output');\n",
       "if (outputEl) {{\n",
       "    x.observe(outputEl, {childList: true});\n",
       "}}\n",
       "\n",
       "                        })                };                });            </script>        </div>"
      ]
     },
     "metadata": {},
     "output_type": "display_data"
    }
   ],
   "source": [
    "target_ana = train.groupby(by=[\"target\"]).size().reset_index(name=\"counts\")\n",
    "fig = px.bar(data_frame=target_ana,x=\"target\",y=\"counts\",color = 'target')\n",
    "fig.show()"
   ]
  },
  {
   "cell_type": "markdown",
   "id": "b327bbb4",
   "metadata": {
    "papermill": {
     "duration": 0.016139,
     "end_time": "2022-05-31T12:56:10.151709",
     "exception": false,
     "start_time": "2022-05-31T12:56:10.135570",
     "status": "completed"
    },
    "tags": []
   },
   "source": [
    "# Observations\n",
    "\n",
    "Our training dataset has unequal target distribution.\n",
    "\n",
    "We have lesser number of defaulters than the ones who do not default, which does make sense considering a real world scenario.\n",
    "\n",
    "Using stratified k fold could be a strategy we employ while training the model."
   ]
  },
  {
   "cell_type": "markdown",
   "id": "dd298a85",
   "metadata": {
    "papermill": {
     "duration": 0.017077,
     "end_time": "2022-05-31T12:56:10.186049",
     "exception": false,
     "start_time": "2022-05-31T12:56:10.168972",
     "status": "completed"
    },
    "tags": []
   },
   "source": [
    "# Card statements per user"
   ]
  },
  {
   "cell_type": "code",
   "execution_count": 12,
   "id": "e79bb9d5",
   "metadata": {
    "execution": {
     "iopub.execute_input": "2022-05-31T12:56:10.221769Z",
     "iopub.status.busy": "2022-05-31T12:56:10.221388Z",
     "iopub.status.idle": "2022-05-31T12:56:11.827338Z",
     "shell.execute_reply": "2022-05-31T12:56:11.826430Z"
    },
    "papermill": {
     "duration": 1.626685,
     "end_time": "2022-05-31T12:56:11.829501",
     "exception": false,
     "start_time": "2022-05-31T12:56:10.202816",
     "status": "completed"
    },
    "tags": []
   },
   "outputs": [
    {
     "data": {
      "text/html": [
       "<div>                            <div id=\"cc6248dd-5092-4b34-9db8-559ea81a6aea\" class=\"plotly-graph-div\" style=\"height:525px; width:100%;\"></div>            <script type=\"text/javascript\">                require([\"plotly\"], function(Plotly) {                    window.PLOTLYENV=window.PLOTLYENV || {};                                    if (document.getElementById(\"cc6248dd-5092-4b34-9db8-559ea81a6aea\")) {                    Plotly.newPlot(                        \"cc6248dd-5092-4b34-9db8-559ea81a6aea\",                        [{\"domain\":{\"x\":[0.0,1.0],\"y\":[0.0,1.0]},\"hovertemplate\":\"counts=%{label}<br>number_per_count=%{value}<extra></extra>\",\"labels\":[1,2,3,4,5,6,7,8,9,10,11,12,13],\"legendgroup\":\"\",\"name\":\"\",\"showlegend\":true,\"values\":[5120,6098,5778,4673,4671,5515,5198,6110,6411,6721,5961,10623,386034],\"type\":\"pie\"}],                        {\"template\":{\"data\":{\"histogram2dcontour\":[{\"type\":\"histogram2dcontour\",\"colorbar\":{\"outlinewidth\":0,\"ticks\":\"\"},\"colorscale\":[[0.0,\"#0d0887\"],[0.1111111111111111,\"#46039f\"],[0.2222222222222222,\"#7201a8\"],[0.3333333333333333,\"#9c179e\"],[0.4444444444444444,\"#bd3786\"],[0.5555555555555556,\"#d8576b\"],[0.6666666666666666,\"#ed7953\"],[0.7777777777777778,\"#fb9f3a\"],[0.8888888888888888,\"#fdca26\"],[1.0,\"#f0f921\"]]}],\"choropleth\":[{\"type\":\"choropleth\",\"colorbar\":{\"outlinewidth\":0,\"ticks\":\"\"}}],\"histogram2d\":[{\"type\":\"histogram2d\",\"colorbar\":{\"outlinewidth\":0,\"ticks\":\"\"},\"colorscale\":[[0.0,\"#0d0887\"],[0.1111111111111111,\"#46039f\"],[0.2222222222222222,\"#7201a8\"],[0.3333333333333333,\"#9c179e\"],[0.4444444444444444,\"#bd3786\"],[0.5555555555555556,\"#d8576b\"],[0.6666666666666666,\"#ed7953\"],[0.7777777777777778,\"#fb9f3a\"],[0.8888888888888888,\"#fdca26\"],[1.0,\"#f0f921\"]]}],\"heatmap\":[{\"type\":\"heatmap\",\"colorbar\":{\"outlinewidth\":0,\"ticks\":\"\"},\"colorscale\":[[0.0,\"#0d0887\"],[0.1111111111111111,\"#46039f\"],[0.2222222222222222,\"#7201a8\"],[0.3333333333333333,\"#9c179e\"],[0.4444444444444444,\"#bd3786\"],[0.5555555555555556,\"#d8576b\"],[0.6666666666666666,\"#ed7953\"],[0.7777777777777778,\"#fb9f3a\"],[0.8888888888888888,\"#fdca26\"],[1.0,\"#f0f921\"]]}],\"heatmapgl\":[{\"type\":\"heatmapgl\",\"colorbar\":{\"outlinewidth\":0,\"ticks\":\"\"},\"colorscale\":[[0.0,\"#0d0887\"],[0.1111111111111111,\"#46039f\"],[0.2222222222222222,\"#7201a8\"],[0.3333333333333333,\"#9c179e\"],[0.4444444444444444,\"#bd3786\"],[0.5555555555555556,\"#d8576b\"],[0.6666666666666666,\"#ed7953\"],[0.7777777777777778,\"#fb9f3a\"],[0.8888888888888888,\"#fdca26\"],[1.0,\"#f0f921\"]]}],\"contourcarpet\":[{\"type\":\"contourcarpet\",\"colorbar\":{\"outlinewidth\":0,\"ticks\":\"\"}}],\"contour\":[{\"type\":\"contour\",\"colorbar\":{\"outlinewidth\":0,\"ticks\":\"\"},\"colorscale\":[[0.0,\"#0d0887\"],[0.1111111111111111,\"#46039f\"],[0.2222222222222222,\"#7201a8\"],[0.3333333333333333,\"#9c179e\"],[0.4444444444444444,\"#bd3786\"],[0.5555555555555556,\"#d8576b\"],[0.6666666666666666,\"#ed7953\"],[0.7777777777777778,\"#fb9f3a\"],[0.8888888888888888,\"#fdca26\"],[1.0,\"#f0f921\"]]}],\"surface\":[{\"type\":\"surface\",\"colorbar\":{\"outlinewidth\":0,\"ticks\":\"\"},\"colorscale\":[[0.0,\"#0d0887\"],[0.1111111111111111,\"#46039f\"],[0.2222222222222222,\"#7201a8\"],[0.3333333333333333,\"#9c179e\"],[0.4444444444444444,\"#bd3786\"],[0.5555555555555556,\"#d8576b\"],[0.6666666666666666,\"#ed7953\"],[0.7777777777777778,\"#fb9f3a\"],[0.8888888888888888,\"#fdca26\"],[1.0,\"#f0f921\"]]}],\"mesh3d\":[{\"type\":\"mesh3d\",\"colorbar\":{\"outlinewidth\":0,\"ticks\":\"\"}}],\"scatter\":[{\"fillpattern\":{\"fillmode\":\"overlay\",\"size\":10,\"solidity\":0.2},\"type\":\"scatter\"}],\"parcoords\":[{\"type\":\"parcoords\",\"line\":{\"colorbar\":{\"outlinewidth\":0,\"ticks\":\"\"}}}],\"scatterpolargl\":[{\"type\":\"scatterpolargl\",\"marker\":{\"colorbar\":{\"outlinewidth\":0,\"ticks\":\"\"}}}],\"bar\":[{\"error_x\":{\"color\":\"#2a3f5f\"},\"error_y\":{\"color\":\"#2a3f5f\"},\"marker\":{\"line\":{\"color\":\"#E5ECF6\",\"width\":0.5},\"pattern\":{\"fillmode\":\"overlay\",\"size\":10,\"solidity\":0.2}},\"type\":\"bar\"}],\"scattergeo\":[{\"type\":\"scattergeo\",\"marker\":{\"colorbar\":{\"outlinewidth\":0,\"ticks\":\"\"}}}],\"scatterpolar\":[{\"type\":\"scatterpolar\",\"marker\":{\"colorbar\":{\"outlinewidth\":0,\"ticks\":\"\"}}}],\"histogram\":[{\"marker\":{\"pattern\":{\"fillmode\":\"overlay\",\"size\":10,\"solidity\":0.2}},\"type\":\"histogram\"}],\"scattergl\":[{\"type\":\"scattergl\",\"marker\":{\"colorbar\":{\"outlinewidth\":0,\"ticks\":\"\"}}}],\"scatter3d\":[{\"type\":\"scatter3d\",\"line\":{\"colorbar\":{\"outlinewidth\":0,\"ticks\":\"\"}},\"marker\":{\"colorbar\":{\"outlinewidth\":0,\"ticks\":\"\"}}}],\"scattermapbox\":[{\"type\":\"scattermapbox\",\"marker\":{\"colorbar\":{\"outlinewidth\":0,\"ticks\":\"\"}}}],\"scatterternary\":[{\"type\":\"scatterternary\",\"marker\":{\"colorbar\":{\"outlinewidth\":0,\"ticks\":\"\"}}}],\"scattercarpet\":[{\"type\":\"scattercarpet\",\"marker\":{\"colorbar\":{\"outlinewidth\":0,\"ticks\":\"\"}}}],\"carpet\":[{\"aaxis\":{\"endlinecolor\":\"#2a3f5f\",\"gridcolor\":\"white\",\"linecolor\":\"white\",\"minorgridcolor\":\"white\",\"startlinecolor\":\"#2a3f5f\"},\"baxis\":{\"endlinecolor\":\"#2a3f5f\",\"gridcolor\":\"white\",\"linecolor\":\"white\",\"minorgridcolor\":\"white\",\"startlinecolor\":\"#2a3f5f\"},\"type\":\"carpet\"}],\"table\":[{\"cells\":{\"fill\":{\"color\":\"#EBF0F8\"},\"line\":{\"color\":\"white\"}},\"header\":{\"fill\":{\"color\":\"#C8D4E3\"},\"line\":{\"color\":\"white\"}},\"type\":\"table\"}],\"barpolar\":[{\"marker\":{\"line\":{\"color\":\"#E5ECF6\",\"width\":0.5},\"pattern\":{\"fillmode\":\"overlay\",\"size\":10,\"solidity\":0.2}},\"type\":\"barpolar\"}],\"pie\":[{\"automargin\":true,\"type\":\"pie\"}]},\"layout\":{\"autotypenumbers\":\"strict\",\"colorway\":[\"#636efa\",\"#EF553B\",\"#00cc96\",\"#ab63fa\",\"#FFA15A\",\"#19d3f3\",\"#FF6692\",\"#B6E880\",\"#FF97FF\",\"#FECB52\"],\"font\":{\"color\":\"#2a3f5f\"},\"hovermode\":\"closest\",\"hoverlabel\":{\"align\":\"left\"},\"paper_bgcolor\":\"white\",\"plot_bgcolor\":\"#E5ECF6\",\"polar\":{\"bgcolor\":\"#E5ECF6\",\"angularaxis\":{\"gridcolor\":\"white\",\"linecolor\":\"white\",\"ticks\":\"\"},\"radialaxis\":{\"gridcolor\":\"white\",\"linecolor\":\"white\",\"ticks\":\"\"}},\"ternary\":{\"bgcolor\":\"#E5ECF6\",\"aaxis\":{\"gridcolor\":\"white\",\"linecolor\":\"white\",\"ticks\":\"\"},\"baxis\":{\"gridcolor\":\"white\",\"linecolor\":\"white\",\"ticks\":\"\"},\"caxis\":{\"gridcolor\":\"white\",\"linecolor\":\"white\",\"ticks\":\"\"}},\"coloraxis\":{\"colorbar\":{\"outlinewidth\":0,\"ticks\":\"\"}},\"colorscale\":{\"sequential\":[[0.0,\"#0d0887\"],[0.1111111111111111,\"#46039f\"],[0.2222222222222222,\"#7201a8\"],[0.3333333333333333,\"#9c179e\"],[0.4444444444444444,\"#bd3786\"],[0.5555555555555556,\"#d8576b\"],[0.6666666666666666,\"#ed7953\"],[0.7777777777777778,\"#fb9f3a\"],[0.8888888888888888,\"#fdca26\"],[1.0,\"#f0f921\"]],\"sequentialminus\":[[0.0,\"#0d0887\"],[0.1111111111111111,\"#46039f\"],[0.2222222222222222,\"#7201a8\"],[0.3333333333333333,\"#9c179e\"],[0.4444444444444444,\"#bd3786\"],[0.5555555555555556,\"#d8576b\"],[0.6666666666666666,\"#ed7953\"],[0.7777777777777778,\"#fb9f3a\"],[0.8888888888888888,\"#fdca26\"],[1.0,\"#f0f921\"]],\"diverging\":[[0,\"#8e0152\"],[0.1,\"#c51b7d\"],[0.2,\"#de77ae\"],[0.3,\"#f1b6da\"],[0.4,\"#fde0ef\"],[0.5,\"#f7f7f7\"],[0.6,\"#e6f5d0\"],[0.7,\"#b8e186\"],[0.8,\"#7fbc41\"],[0.9,\"#4d9221\"],[1,\"#276419\"]]},\"xaxis\":{\"gridcolor\":\"white\",\"linecolor\":\"white\",\"ticks\":\"\",\"title\":{\"standoff\":15},\"zerolinecolor\":\"white\",\"automargin\":true,\"zerolinewidth\":2},\"yaxis\":{\"gridcolor\":\"white\",\"linecolor\":\"white\",\"ticks\":\"\",\"title\":{\"standoff\":15},\"zerolinecolor\":\"white\",\"automargin\":true,\"zerolinewidth\":2},\"scene\":{\"xaxis\":{\"backgroundcolor\":\"#E5ECF6\",\"gridcolor\":\"white\",\"linecolor\":\"white\",\"showbackground\":true,\"ticks\":\"\",\"zerolinecolor\":\"white\",\"gridwidth\":2},\"yaxis\":{\"backgroundcolor\":\"#E5ECF6\",\"gridcolor\":\"white\",\"linecolor\":\"white\",\"showbackground\":true,\"ticks\":\"\",\"zerolinecolor\":\"white\",\"gridwidth\":2},\"zaxis\":{\"backgroundcolor\":\"#E5ECF6\",\"gridcolor\":\"white\",\"linecolor\":\"white\",\"showbackground\":true,\"ticks\":\"\",\"zerolinecolor\":\"white\",\"gridwidth\":2}},\"shapedefaults\":{\"line\":{\"color\":\"#2a3f5f\"}},\"annotationdefaults\":{\"arrowcolor\":\"#2a3f5f\",\"arrowhead\":0,\"arrowwidth\":1},\"geo\":{\"bgcolor\":\"white\",\"landcolor\":\"#E5ECF6\",\"subunitcolor\":\"white\",\"showland\":true,\"showlakes\":true,\"lakecolor\":\"white\"},\"title\":{\"x\":0.05},\"mapbox\":{\"style\":\"light\"}}},\"legend\":{\"tracegroupgap\":0},\"title\":{\"text\":\"NUmber of statements per customer id\"}},                        {\"responsive\": true}                    ).then(function(){\n",
       "                            \n",
       "var gd = document.getElementById('cc6248dd-5092-4b34-9db8-559ea81a6aea');\n",
       "var x = new MutationObserver(function (mutations, observer) {{\n",
       "        var display = window.getComputedStyle(gd).display;\n",
       "        if (!display || display === 'none') {{\n",
       "            console.log([gd, 'removed!']);\n",
       "            Plotly.purge(gd);\n",
       "            observer.disconnect();\n",
       "        }}\n",
       "}});\n",
       "\n",
       "// Listen for the removal of the full notebook cells\n",
       "var notebookContainer = gd.closest('#notebook-container');\n",
       "if (notebookContainer) {{\n",
       "    x.observe(notebookContainer, {childList: true});\n",
       "}}\n",
       "\n",
       "// Listen for the clearing of the current output cell\n",
       "var outputEl = gd.closest('.output');\n",
       "if (outputEl) {{\n",
       "    x.observe(outputEl, {childList: true});\n",
       "}}\n",
       "\n",
       "                        })                };                });            </script>        </div>"
      ]
     },
     "metadata": {},
     "output_type": "display_data"
    }
   ],
   "source": [
    "target_cust = train.groupby(by=[\"customer_ID\"]).size().reset_index(name=\"counts\")\n",
    "target_cust = target_cust.groupby(by=[\"counts\"]).size().reset_index(name=\"number_per_count\")\n",
    "fig = px.pie(target_cust,names=\"counts\",values=\"number_per_count\",title=\"NUmber of statements per customer id\")\n",
    "fig.show()"
   ]
  },
  {
   "cell_type": "markdown",
   "id": "bbc6b5ac",
   "metadata": {
    "papermill": {
     "duration": 0.016164,
     "end_time": "2022-05-31T12:56:11.862224",
     "exception": false,
     "start_time": "2022-05-31T12:56:11.846060",
     "status": "completed"
    },
    "tags": []
   },
   "source": [
    "# Observations\n",
    "\n",
    "Most of the customers almost 84% have 13 card statements (almost over a year)\n",
    "\n",
    "But for some customers we have statements for only a single month.\n",
    "\n",
    "In that case we would need to have a strategy that takes this into consideration while modelling."
   ]
  },
  {
   "cell_type": "markdown",
   "id": "68ca2c51",
   "metadata": {
    "papermill": {
     "duration": 0.016355,
     "end_time": "2022-05-31T12:56:11.895170",
     "exception": false,
     "start_time": "2022-05-31T12:56:11.878815",
     "status": "completed"
    },
    "tags": []
   },
   "source": [
    "# Visualising categorical object features"
   ]
  },
  {
   "cell_type": "code",
   "execution_count": 13,
   "id": "9827e0d1",
   "metadata": {
    "execution": {
     "iopub.execute_input": "2022-05-31T12:56:11.930984Z",
     "iopub.status.busy": "2022-05-31T12:56:11.930568Z",
     "iopub.status.idle": "2022-05-31T12:56:12.146288Z",
     "shell.execute_reply": "2022-05-31T12:56:12.145181Z"
    },
    "papermill": {
     "duration": 0.236572,
     "end_time": "2022-05-31T12:56:12.148455",
     "exception": false,
     "start_time": "2022-05-31T12:56:11.911883",
     "status": "completed"
    },
    "tags": []
   },
   "outputs": [
    {
     "data": {
      "text/html": [
       "<div>\n",
       "<style scoped>\n",
       "    .dataframe tbody tr th:only-of-type {\n",
       "        vertical-align: middle;\n",
       "    }\n",
       "\n",
       "    .dataframe tbody tr th {\n",
       "        vertical-align: top;\n",
       "    }\n",
       "\n",
       "    .dataframe thead th {\n",
       "        text-align: right;\n",
       "    }\n",
       "</style>\n",
       "<table border=\"1\" class=\"dataframe\">\n",
       "  <thead>\n",
       "    <tr style=\"text-align: right;\">\n",
       "      <th></th>\n",
       "      <th>customer_ID</th>\n",
       "      <th>S_2</th>\n",
       "      <th>D_63</th>\n",
       "      <th>D_64</th>\n",
       "    </tr>\n",
       "  </thead>\n",
       "  <tbody>\n",
       "    <tr>\n",
       "      <th>0</th>\n",
       "      <td>0000099d6bd597052cdcda90ffabf56573fe9d7c79be5f...</td>\n",
       "      <td>2017-03-09</td>\n",
       "      <td>CR</td>\n",
       "      <td>O</td>\n",
       "    </tr>\n",
       "    <tr>\n",
       "      <th>1</th>\n",
       "      <td>0000099d6bd597052cdcda90ffabf56573fe9d7c79be5f...</td>\n",
       "      <td>2017-04-07</td>\n",
       "      <td>CR</td>\n",
       "      <td>O</td>\n",
       "    </tr>\n",
       "    <tr>\n",
       "      <th>2</th>\n",
       "      <td>0000099d6bd597052cdcda90ffabf56573fe9d7c79be5f...</td>\n",
       "      <td>2017-05-28</td>\n",
       "      <td>CR</td>\n",
       "      <td>O</td>\n",
       "    </tr>\n",
       "    <tr>\n",
       "      <th>3</th>\n",
       "      <td>0000099d6bd597052cdcda90ffabf56573fe9d7c79be5f...</td>\n",
       "      <td>2017-06-13</td>\n",
       "      <td>CR</td>\n",
       "      <td>O</td>\n",
       "    </tr>\n",
       "    <tr>\n",
       "      <th>4</th>\n",
       "      <td>0000099d6bd597052cdcda90ffabf56573fe9d7c79be5f...</td>\n",
       "      <td>2017-07-16</td>\n",
       "      <td>CR</td>\n",
       "      <td>O</td>\n",
       "    </tr>\n",
       "    <tr>\n",
       "      <th>...</th>\n",
       "      <td>...</td>\n",
       "      <td>...</td>\n",
       "      <td>...</td>\n",
       "      <td>...</td>\n",
       "    </tr>\n",
       "    <tr>\n",
       "      <th>5531446</th>\n",
       "      <td>fffff1d38b785cef84adeace64f8f83db3a0c31e8d92ea...</td>\n",
       "      <td>2017-11-05</td>\n",
       "      <td>CL</td>\n",
       "      <td>O</td>\n",
       "    </tr>\n",
       "    <tr>\n",
       "      <th>5531447</th>\n",
       "      <td>fffff1d38b785cef84adeace64f8f83db3a0c31e8d92ea...</td>\n",
       "      <td>2017-12-23</td>\n",
       "      <td>CL</td>\n",
       "      <td>O</td>\n",
       "    </tr>\n",
       "    <tr>\n",
       "      <th>5531448</th>\n",
       "      <td>fffff1d38b785cef84adeace64f8f83db3a0c31e8d92ea...</td>\n",
       "      <td>2018-01-06</td>\n",
       "      <td>CL</td>\n",
       "      <td>O</td>\n",
       "    </tr>\n",
       "    <tr>\n",
       "      <th>5531449</th>\n",
       "      <td>fffff1d38b785cef84adeace64f8f83db3a0c31e8d92ea...</td>\n",
       "      <td>2018-02-06</td>\n",
       "      <td>CL</td>\n",
       "      <td>O</td>\n",
       "    </tr>\n",
       "    <tr>\n",
       "      <th>5531450</th>\n",
       "      <td>fffff1d38b785cef84adeace64f8f83db3a0c31e8d92ea...</td>\n",
       "      <td>2018-03-14</td>\n",
       "      <td>CL</td>\n",
       "      <td>O</td>\n",
       "    </tr>\n",
       "  </tbody>\n",
       "</table>\n",
       "<p>5531451 rows × 4 columns</p>\n",
       "</div>"
      ],
      "text/plain": [
       "                                               customer_ID         S_2 D_63  \\\n",
       "0        0000099d6bd597052cdcda90ffabf56573fe9d7c79be5f...  2017-03-09   CR   \n",
       "1        0000099d6bd597052cdcda90ffabf56573fe9d7c79be5f...  2017-04-07   CR   \n",
       "2        0000099d6bd597052cdcda90ffabf56573fe9d7c79be5f...  2017-05-28   CR   \n",
       "3        0000099d6bd597052cdcda90ffabf56573fe9d7c79be5f...  2017-06-13   CR   \n",
       "4        0000099d6bd597052cdcda90ffabf56573fe9d7c79be5f...  2017-07-16   CR   \n",
       "...                                                    ...         ...  ...   \n",
       "5531446  fffff1d38b785cef84adeace64f8f83db3a0c31e8d92ea...  2017-11-05   CL   \n",
       "5531447  fffff1d38b785cef84adeace64f8f83db3a0c31e8d92ea...  2017-12-23   CL   \n",
       "5531448  fffff1d38b785cef84adeace64f8f83db3a0c31e8d92ea...  2018-01-06   CL   \n",
       "5531449  fffff1d38b785cef84adeace64f8f83db3a0c31e8d92ea...  2018-02-06   CL   \n",
       "5531450  fffff1d38b785cef84adeace64f8f83db3a0c31e8d92ea...  2018-03-14   CL   \n",
       "\n",
       "        D_64  \n",
       "0          O  \n",
       "1          O  \n",
       "2          O  \n",
       "3          O  \n",
       "4          O  \n",
       "...      ...  \n",
       "5531446    O  \n",
       "5531447    O  \n",
       "5531448    O  \n",
       "5531449    O  \n",
       "5531450    O  \n",
       "\n",
       "[5531451 rows x 4 columns]"
      ]
     },
     "execution_count": 13,
     "metadata": {},
     "output_type": "execute_result"
    }
   ],
   "source": [
    "train.select_dtypes(include=['object'])"
   ]
  },
  {
   "cell_type": "code",
   "execution_count": 14,
   "id": "374c2c61",
   "metadata": {
    "execution": {
     "iopub.execute_input": "2022-05-31T12:56:12.184949Z",
     "iopub.status.busy": "2022-05-31T12:56:12.184568Z",
     "iopub.status.idle": "2022-05-31T12:56:12.762395Z",
     "shell.execute_reply": "2022-05-31T12:56:12.761356Z"
    },
    "papermill": {
     "duration": 0.599371,
     "end_time": "2022-05-31T12:56:12.764869",
     "exception": false,
     "start_time": "2022-05-31T12:56:12.165498",
     "status": "completed"
    },
    "tags": []
   },
   "outputs": [],
   "source": [
    "target_by_date = train.groupby(by=[\"S_2\"]).size().reset_index(name=\"counts\")"
   ]
  },
  {
   "cell_type": "code",
   "execution_count": 15,
   "id": "5960aafa",
   "metadata": {
    "execution": {
     "iopub.execute_input": "2022-05-31T12:56:12.801120Z",
     "iopub.status.busy": "2022-05-31T12:56:12.800690Z",
     "iopub.status.idle": "2022-05-31T12:56:12.897617Z",
     "shell.execute_reply": "2022-05-31T12:56:12.896597Z"
    },
    "papermill": {
     "duration": 0.117334,
     "end_time": "2022-05-31T12:56:12.899878",
     "exception": false,
     "start_time": "2022-05-31T12:56:12.782544",
     "status": "completed"
    },
    "tags": []
   },
   "outputs": [
    {
     "data": {
      "text/html": [
       "<div>                            <div id=\"37f80d37-5ce3-4788-9b12-7181d58472e5\" class=\"plotly-graph-div\" style=\"height:525px; width:100%;\"></div>            <script type=\"text/javascript\">                require([\"plotly\"], function(Plotly) {                    window.PLOTLYENV=window.PLOTLYENV || {};                                    if (document.getElementById(\"37f80d37-5ce3-4788-9b12-7181d58472e5\")) {                    Plotly.newPlot(                        \"37f80d37-5ce3-4788-9b12-7181d58472e5\",                        [{\"hovertemplate\":\"S_2=%{x}<br>counts=%{y}<extra></extra>\",\"legendgroup\":\"\",\"line\":{\"color\":\"#636efa\",\"dash\":\"solid\"},\"marker\":{\"symbol\":\"circle\"},\"mode\":\"lines\",\"name\":\"\",\"orientation\":\"v\",\"showlegend\":false,\"x\":[\"2017-03-01\",\"2017-03-02\",\"2017-03-03\",\"2017-03-04\",\"2017-03-05\",\"2017-03-06\",\"2017-03-07\",\"2017-03-08\",\"2017-03-09\",\"2017-03-10\",\"2017-03-11\",\"2017-03-12\",\"2017-03-13\",\"2017-03-14\",\"2017-03-15\",\"2017-03-16\",\"2017-03-17\",\"2017-03-18\",\"2017-03-19\",\"2017-03-20\",\"2017-03-21\",\"2017-03-22\",\"2017-03-23\",\"2017-03-24\",\"2017-03-25\",\"2017-03-26\",\"2017-03-27\",\"2017-03-28\",\"2017-03-29\",\"2017-03-30\",\"2017-03-31\",\"2017-04-01\",\"2017-04-02\",\"2017-04-03\",\"2017-04-04\",\"2017-04-05\",\"2017-04-06\",\"2017-04-07\",\"2017-04-08\",\"2017-04-09\",\"2017-04-10\",\"2017-04-11\",\"2017-04-12\",\"2017-04-13\",\"2017-04-14\",\"2017-04-15\",\"2017-04-16\",\"2017-04-17\",\"2017-04-18\",\"2017-04-19\",\"2017-04-20\",\"2017-04-21\",\"2017-04-22\",\"2017-04-23\",\"2017-04-24\",\"2017-04-25\",\"2017-04-26\",\"2017-04-27\",\"2017-04-28\",\"2017-04-29\",\"2017-04-30\",\"2017-05-01\",\"2017-05-02\",\"2017-05-03\",\"2017-05-04\",\"2017-05-05\",\"2017-05-06\",\"2017-05-07\",\"2017-05-08\",\"2017-05-09\",\"2017-05-10\",\"2017-05-11\",\"2017-05-12\",\"2017-05-13\",\"2017-05-14\",\"2017-05-15\",\"2017-05-16\",\"2017-05-17\",\"2017-05-18\",\"2017-05-19\",\"2017-05-20\",\"2017-05-21\",\"2017-05-22\",\"2017-05-23\",\"2017-05-24\",\"2017-05-25\",\"2017-05-26\",\"2017-05-27\",\"2017-05-28\",\"2017-05-29\",\"2017-05-30\",\"2017-05-31\",\"2017-06-01\",\"2017-06-02\",\"2017-06-03\",\"2017-06-04\",\"2017-06-05\",\"2017-06-06\",\"2017-06-07\",\"2017-06-08\",\"2017-06-09\",\"2017-06-10\",\"2017-06-11\",\"2017-06-12\",\"2017-06-13\",\"2017-06-14\",\"2017-06-15\",\"2017-06-16\",\"2017-06-17\",\"2017-06-18\",\"2017-06-19\",\"2017-06-20\",\"2017-06-21\",\"2017-06-22\",\"2017-06-23\",\"2017-06-24\",\"2017-06-25\",\"2017-06-26\",\"2017-06-27\",\"2017-06-28\",\"2017-06-29\",\"2017-06-30\",\"2017-07-01\",\"2017-07-02\",\"2017-07-03\",\"2017-07-04\",\"2017-07-05\",\"2017-07-06\",\"2017-07-07\",\"2017-07-08\",\"2017-07-09\",\"2017-07-10\",\"2017-07-11\",\"2017-07-12\",\"2017-07-13\",\"2017-07-14\",\"2017-07-15\",\"2017-07-16\",\"2017-07-17\",\"2017-07-18\",\"2017-07-19\",\"2017-07-20\",\"2017-07-21\",\"2017-07-22\",\"2017-07-23\",\"2017-07-24\",\"2017-07-25\",\"2017-07-26\",\"2017-07-27\",\"2017-07-28\",\"2017-07-29\",\"2017-07-30\",\"2017-07-31\",\"2017-08-01\",\"2017-08-02\",\"2017-08-03\",\"2017-08-04\",\"2017-08-05\",\"2017-08-06\",\"2017-08-07\",\"2017-08-08\",\"2017-08-09\",\"2017-08-10\",\"2017-08-11\",\"2017-08-12\",\"2017-08-13\",\"2017-08-14\",\"2017-08-15\",\"2017-08-16\",\"2017-08-17\",\"2017-08-18\",\"2017-08-19\",\"2017-08-20\",\"2017-08-21\",\"2017-08-22\",\"2017-08-23\",\"2017-08-24\",\"2017-08-25\",\"2017-08-26\",\"2017-08-27\",\"2017-08-28\",\"2017-08-29\",\"2017-08-30\",\"2017-08-31\",\"2017-09-01\",\"2017-09-02\",\"2017-09-03\",\"2017-09-04\",\"2017-09-05\",\"2017-09-06\",\"2017-09-07\",\"2017-09-08\",\"2017-09-09\",\"2017-09-10\",\"2017-09-11\",\"2017-09-12\",\"2017-09-13\",\"2017-09-14\",\"2017-09-15\",\"2017-09-16\",\"2017-09-17\",\"2017-09-18\",\"2017-09-19\",\"2017-09-20\",\"2017-09-21\",\"2017-09-22\",\"2017-09-23\",\"2017-09-24\",\"2017-09-25\",\"2017-09-26\",\"2017-09-27\",\"2017-09-28\",\"2017-09-29\",\"2017-09-30\",\"2017-10-01\",\"2017-10-02\",\"2017-10-03\",\"2017-10-04\",\"2017-10-05\",\"2017-10-06\",\"2017-10-07\",\"2017-10-08\",\"2017-10-09\",\"2017-10-10\",\"2017-10-11\",\"2017-10-12\",\"2017-10-13\",\"2017-10-14\",\"2017-10-15\",\"2017-10-16\",\"2017-10-17\",\"2017-10-18\",\"2017-10-19\",\"2017-10-20\",\"2017-10-21\",\"2017-10-22\",\"2017-10-23\",\"2017-10-24\",\"2017-10-25\",\"2017-10-26\",\"2017-10-27\",\"2017-10-28\",\"2017-10-29\",\"2017-10-30\",\"2017-10-31\",\"2017-11-01\",\"2017-11-02\",\"2017-11-03\",\"2017-11-04\",\"2017-11-05\",\"2017-11-06\",\"2017-11-07\",\"2017-11-08\",\"2017-11-09\",\"2017-11-10\",\"2017-11-11\",\"2017-11-12\",\"2017-11-13\",\"2017-11-14\",\"2017-11-15\",\"2017-11-16\",\"2017-11-17\",\"2017-11-18\",\"2017-11-19\",\"2017-11-20\",\"2017-11-21\",\"2017-11-22\",\"2017-11-23\",\"2017-11-24\",\"2017-11-25\",\"2017-11-26\",\"2017-11-27\",\"2017-11-28\",\"2017-11-29\",\"2017-11-30\",\"2017-12-01\",\"2017-12-02\",\"2017-12-03\",\"2017-12-04\",\"2017-12-05\",\"2017-12-06\",\"2017-12-07\",\"2017-12-08\",\"2017-12-09\",\"2017-12-10\",\"2017-12-11\",\"2017-12-12\",\"2017-12-13\",\"2017-12-14\",\"2017-12-15\",\"2017-12-16\",\"2017-12-17\",\"2017-12-18\",\"2017-12-19\",\"2017-12-20\",\"2017-12-21\",\"2017-12-22\",\"2017-12-23\",\"2017-12-24\",\"2017-12-25\",\"2017-12-26\",\"2017-12-27\",\"2017-12-28\",\"2017-12-29\",\"2017-12-30\",\"2017-12-31\",\"2018-01-01\",\"2018-01-02\",\"2018-01-03\",\"2018-01-04\",\"2018-01-05\",\"2018-01-06\",\"2018-01-07\",\"2018-01-08\",\"2018-01-09\",\"2018-01-10\",\"2018-01-11\",\"2018-01-12\",\"2018-01-13\",\"2018-01-14\",\"2018-01-15\",\"2018-01-16\",\"2018-01-17\",\"2018-01-18\",\"2018-01-19\",\"2018-01-20\",\"2018-01-21\",\"2018-01-22\",\"2018-01-23\",\"2018-01-24\",\"2018-01-25\",\"2018-01-26\",\"2018-01-27\",\"2018-01-28\",\"2018-01-29\",\"2018-01-30\",\"2018-01-31\",\"2018-02-01\",\"2018-02-02\",\"2018-02-03\",\"2018-02-04\",\"2018-02-05\",\"2018-02-06\",\"2018-02-07\",\"2018-02-08\",\"2018-02-09\",\"2018-02-10\",\"2018-02-11\",\"2018-02-12\",\"2018-02-13\",\"2018-02-14\",\"2018-02-15\",\"2018-02-16\",\"2018-02-17\",\"2018-02-18\",\"2018-02-19\",\"2018-02-20\",\"2018-02-21\",\"2018-02-22\",\"2018-02-23\",\"2018-02-24\",\"2018-02-25\",\"2018-02-26\",\"2018-02-27\",\"2018-02-28\",\"2018-03-01\",\"2018-03-02\",\"2018-03-03\",\"2018-03-04\",\"2018-03-05\",\"2018-03-06\",\"2018-03-07\",\"2018-03-08\",\"2018-03-09\",\"2018-03-10\",\"2018-03-11\",\"2018-03-12\",\"2018-03-13\",\"2018-03-14\",\"2018-03-15\",\"2018-03-16\",\"2018-03-17\",\"2018-03-18\",\"2018-03-19\",\"2018-03-20\",\"2018-03-21\",\"2018-03-22\",\"2018-03-23\",\"2018-03-24\",\"2018-03-25\",\"2018-03-26\",\"2018-03-27\",\"2018-03-28\",\"2018-03-29\",\"2018-03-30\",\"2018-03-31\"],\"xaxis\":\"x\",\"y\":[10381,8952,13635,14463,7879,8678,8319,13427,13342,14343,17472,7797,14011,11972,13765,13490,13989,18702,7788,15009,14144,13099,14290,13107,19142,8291,13096,15137,13576,14809,9525,10421,8781,14079,14976,9057,8671,14186,19567,8136,12847,13687,14193,13308,14570,19846,6990,14574,13956,15338,14943,14270,19146,8283,14702,13819,14015,15091,15177,15555,9372,10409,9204,13515,14664,9308,8636,7895,13588,13560,14182,12655,13976,18456,8073,14369,13647,13734,13603,14027,20939,7992,13383,14315,12571,14478,14478,19335,8493,12978,14637,9206,11032,10074,19827,8300,9451,9186,14131,14057,15154,18193,8235,14468,13510,14546,14985,14862,19904,8125,15560,15283,13743,14899,13740,19964,8516,14083,15350,14845,15750,10611,10462,8496,14621,14219,9415,9044,9401,18709,7919,15115,13462,14060,14606,14022,20055,7932,14883,14155,14422,16013,15674,19625,8345,13321,15119,14145,14276,16280,20008,8384,9414,10862,9639,14033,15934,9156,8408,9085,14202,14003,15023,13378,19991,8196,13751,15241,14152,14686,14627,21546,8465,15073,14169,15199,13700,15685,19418,8174,15775,14103,15473,9952,12009,15086,8781,15703,10421,9553,14914,15008,19255,8031,14085,14827,14044,14891,15818,20966,8695,14973,16208,16125,14208,15685,20290,8579,14972,14787,15810,14972,16450,10309,10347,9857,14112,16099,9558,9664,14497,8315,14579,15678,13195,14623,15268,19920,8852,15429,14921,14964,15355,17827,20711,8403,15320,13316,15614,14659,15174,19770,9521,15377,9367,11131,10063,14644,16105,8722,9411,14728,14330,15304,14039,20831,8569,14475,15132,15700,14981,16158,23086,8738,17116,14355,16112,11191,17619,20693,9448,18590,15705,16546,10746,11854,14877,9215,16667,9982,9613,9660,15132,20870,9064,14150,15204,15679,14807,16561,21284,9140,16340,16050,18212,17104,14695,19608,8110,11682,14517,14641,16258,14078,15381,8475,9612,10937,15195,16294,10058,9293,8500,15290,14682,16252,13677,15510,21014,8525,16410,15675,15356,15554,15956,25016,8784,14022,15282,13458,16497,15770,22563,9205,14448,16722,10698,12503,11489,23966,9192,16483,15888,16967,15144,16632,22151,9350,17050,17325,17534,17479,17478,26715,9490,15137,16738,14213,17265,16770,23356,9496,15739,18317,12914,12128,10562,22887,8918,10081,9736,9097,15581,15737,21547,8643,15916,15737,15172,16733,16395,23373,8554,16385,18567,16478,14146,16325,21156,8856,15940,15457,17263,14414,17293,9836],\"yaxis\":\"y\",\"type\":\"scatter\"}],                        {\"template\":{\"data\":{\"histogram2dcontour\":[{\"type\":\"histogram2dcontour\",\"colorbar\":{\"outlinewidth\":0,\"ticks\":\"\"},\"colorscale\":[[0.0,\"#0d0887\"],[0.1111111111111111,\"#46039f\"],[0.2222222222222222,\"#7201a8\"],[0.3333333333333333,\"#9c179e\"],[0.4444444444444444,\"#bd3786\"],[0.5555555555555556,\"#d8576b\"],[0.6666666666666666,\"#ed7953\"],[0.7777777777777778,\"#fb9f3a\"],[0.8888888888888888,\"#fdca26\"],[1.0,\"#f0f921\"]]}],\"choropleth\":[{\"type\":\"choropleth\",\"colorbar\":{\"outlinewidth\":0,\"ticks\":\"\"}}],\"histogram2d\":[{\"type\":\"histogram2d\",\"colorbar\":{\"outlinewidth\":0,\"ticks\":\"\"},\"colorscale\":[[0.0,\"#0d0887\"],[0.1111111111111111,\"#46039f\"],[0.2222222222222222,\"#7201a8\"],[0.3333333333333333,\"#9c179e\"],[0.4444444444444444,\"#bd3786\"],[0.5555555555555556,\"#d8576b\"],[0.6666666666666666,\"#ed7953\"],[0.7777777777777778,\"#fb9f3a\"],[0.8888888888888888,\"#fdca26\"],[1.0,\"#f0f921\"]]}],\"heatmap\":[{\"type\":\"heatmap\",\"colorbar\":{\"outlinewidth\":0,\"ticks\":\"\"},\"colorscale\":[[0.0,\"#0d0887\"],[0.1111111111111111,\"#46039f\"],[0.2222222222222222,\"#7201a8\"],[0.3333333333333333,\"#9c179e\"],[0.4444444444444444,\"#bd3786\"],[0.5555555555555556,\"#d8576b\"],[0.6666666666666666,\"#ed7953\"],[0.7777777777777778,\"#fb9f3a\"],[0.8888888888888888,\"#fdca26\"],[1.0,\"#f0f921\"]]}],\"heatmapgl\":[{\"type\":\"heatmapgl\",\"colorbar\":{\"outlinewidth\":0,\"ticks\":\"\"},\"colorscale\":[[0.0,\"#0d0887\"],[0.1111111111111111,\"#46039f\"],[0.2222222222222222,\"#7201a8\"],[0.3333333333333333,\"#9c179e\"],[0.4444444444444444,\"#bd3786\"],[0.5555555555555556,\"#d8576b\"],[0.6666666666666666,\"#ed7953\"],[0.7777777777777778,\"#fb9f3a\"],[0.8888888888888888,\"#fdca26\"],[1.0,\"#f0f921\"]]}],\"contourcarpet\":[{\"type\":\"contourcarpet\",\"colorbar\":{\"outlinewidth\":0,\"ticks\":\"\"}}],\"contour\":[{\"type\":\"contour\",\"colorbar\":{\"outlinewidth\":0,\"ticks\":\"\"},\"colorscale\":[[0.0,\"#0d0887\"],[0.1111111111111111,\"#46039f\"],[0.2222222222222222,\"#7201a8\"],[0.3333333333333333,\"#9c179e\"],[0.4444444444444444,\"#bd3786\"],[0.5555555555555556,\"#d8576b\"],[0.6666666666666666,\"#ed7953\"],[0.7777777777777778,\"#fb9f3a\"],[0.8888888888888888,\"#fdca26\"],[1.0,\"#f0f921\"]]}],\"surface\":[{\"type\":\"surface\",\"colorbar\":{\"outlinewidth\":0,\"ticks\":\"\"},\"colorscale\":[[0.0,\"#0d0887\"],[0.1111111111111111,\"#46039f\"],[0.2222222222222222,\"#7201a8\"],[0.3333333333333333,\"#9c179e\"],[0.4444444444444444,\"#bd3786\"],[0.5555555555555556,\"#d8576b\"],[0.6666666666666666,\"#ed7953\"],[0.7777777777777778,\"#fb9f3a\"],[0.8888888888888888,\"#fdca26\"],[1.0,\"#f0f921\"]]}],\"mesh3d\":[{\"type\":\"mesh3d\",\"colorbar\":{\"outlinewidth\":0,\"ticks\":\"\"}}],\"scatter\":[{\"fillpattern\":{\"fillmode\":\"overlay\",\"size\":10,\"solidity\":0.2},\"type\":\"scatter\"}],\"parcoords\":[{\"type\":\"parcoords\",\"line\":{\"colorbar\":{\"outlinewidth\":0,\"ticks\":\"\"}}}],\"scatterpolargl\":[{\"type\":\"scatterpolargl\",\"marker\":{\"colorbar\":{\"outlinewidth\":0,\"ticks\":\"\"}}}],\"bar\":[{\"error_x\":{\"color\":\"#2a3f5f\"},\"error_y\":{\"color\":\"#2a3f5f\"},\"marker\":{\"line\":{\"color\":\"#E5ECF6\",\"width\":0.5},\"pattern\":{\"fillmode\":\"overlay\",\"size\":10,\"solidity\":0.2}},\"type\":\"bar\"}],\"scattergeo\":[{\"type\":\"scattergeo\",\"marker\":{\"colorbar\":{\"outlinewidth\":0,\"ticks\":\"\"}}}],\"scatterpolar\":[{\"type\":\"scatterpolar\",\"marker\":{\"colorbar\":{\"outlinewidth\":0,\"ticks\":\"\"}}}],\"histogram\":[{\"marker\":{\"pattern\":{\"fillmode\":\"overlay\",\"size\":10,\"solidity\":0.2}},\"type\":\"histogram\"}],\"scattergl\":[{\"type\":\"scattergl\",\"marker\":{\"colorbar\":{\"outlinewidth\":0,\"ticks\":\"\"}}}],\"scatter3d\":[{\"type\":\"scatter3d\",\"line\":{\"colorbar\":{\"outlinewidth\":0,\"ticks\":\"\"}},\"marker\":{\"colorbar\":{\"outlinewidth\":0,\"ticks\":\"\"}}}],\"scattermapbox\":[{\"type\":\"scattermapbox\",\"marker\":{\"colorbar\":{\"outlinewidth\":0,\"ticks\":\"\"}}}],\"scatterternary\":[{\"type\":\"scatterternary\",\"marker\":{\"colorbar\":{\"outlinewidth\":0,\"ticks\":\"\"}}}],\"scattercarpet\":[{\"type\":\"scattercarpet\",\"marker\":{\"colorbar\":{\"outlinewidth\":0,\"ticks\":\"\"}}}],\"carpet\":[{\"aaxis\":{\"endlinecolor\":\"#2a3f5f\",\"gridcolor\":\"white\",\"linecolor\":\"white\",\"minorgridcolor\":\"white\",\"startlinecolor\":\"#2a3f5f\"},\"baxis\":{\"endlinecolor\":\"#2a3f5f\",\"gridcolor\":\"white\",\"linecolor\":\"white\",\"minorgridcolor\":\"white\",\"startlinecolor\":\"#2a3f5f\"},\"type\":\"carpet\"}],\"table\":[{\"cells\":{\"fill\":{\"color\":\"#EBF0F8\"},\"line\":{\"color\":\"white\"}},\"header\":{\"fill\":{\"color\":\"#C8D4E3\"},\"line\":{\"color\":\"white\"}},\"type\":\"table\"}],\"barpolar\":[{\"marker\":{\"line\":{\"color\":\"#E5ECF6\",\"width\":0.5},\"pattern\":{\"fillmode\":\"overlay\",\"size\":10,\"solidity\":0.2}},\"type\":\"barpolar\"}],\"pie\":[{\"automargin\":true,\"type\":\"pie\"}]},\"layout\":{\"autotypenumbers\":\"strict\",\"colorway\":[\"#636efa\",\"#EF553B\",\"#00cc96\",\"#ab63fa\",\"#FFA15A\",\"#19d3f3\",\"#FF6692\",\"#B6E880\",\"#FF97FF\",\"#FECB52\"],\"font\":{\"color\":\"#2a3f5f\"},\"hovermode\":\"closest\",\"hoverlabel\":{\"align\":\"left\"},\"paper_bgcolor\":\"white\",\"plot_bgcolor\":\"#E5ECF6\",\"polar\":{\"bgcolor\":\"#E5ECF6\",\"angularaxis\":{\"gridcolor\":\"white\",\"linecolor\":\"white\",\"ticks\":\"\"},\"radialaxis\":{\"gridcolor\":\"white\",\"linecolor\":\"white\",\"ticks\":\"\"}},\"ternary\":{\"bgcolor\":\"#E5ECF6\",\"aaxis\":{\"gridcolor\":\"white\",\"linecolor\":\"white\",\"ticks\":\"\"},\"baxis\":{\"gridcolor\":\"white\",\"linecolor\":\"white\",\"ticks\":\"\"},\"caxis\":{\"gridcolor\":\"white\",\"linecolor\":\"white\",\"ticks\":\"\"}},\"coloraxis\":{\"colorbar\":{\"outlinewidth\":0,\"ticks\":\"\"}},\"colorscale\":{\"sequential\":[[0.0,\"#0d0887\"],[0.1111111111111111,\"#46039f\"],[0.2222222222222222,\"#7201a8\"],[0.3333333333333333,\"#9c179e\"],[0.4444444444444444,\"#bd3786\"],[0.5555555555555556,\"#d8576b\"],[0.6666666666666666,\"#ed7953\"],[0.7777777777777778,\"#fb9f3a\"],[0.8888888888888888,\"#fdca26\"],[1.0,\"#f0f921\"]],\"sequentialminus\":[[0.0,\"#0d0887\"],[0.1111111111111111,\"#46039f\"],[0.2222222222222222,\"#7201a8\"],[0.3333333333333333,\"#9c179e\"],[0.4444444444444444,\"#bd3786\"],[0.5555555555555556,\"#d8576b\"],[0.6666666666666666,\"#ed7953\"],[0.7777777777777778,\"#fb9f3a\"],[0.8888888888888888,\"#fdca26\"],[1.0,\"#f0f921\"]],\"diverging\":[[0,\"#8e0152\"],[0.1,\"#c51b7d\"],[0.2,\"#de77ae\"],[0.3,\"#f1b6da\"],[0.4,\"#fde0ef\"],[0.5,\"#f7f7f7\"],[0.6,\"#e6f5d0\"],[0.7,\"#b8e186\"],[0.8,\"#7fbc41\"],[0.9,\"#4d9221\"],[1,\"#276419\"]]},\"xaxis\":{\"gridcolor\":\"white\",\"linecolor\":\"white\",\"ticks\":\"\",\"title\":{\"standoff\":15},\"zerolinecolor\":\"white\",\"automargin\":true,\"zerolinewidth\":2},\"yaxis\":{\"gridcolor\":\"white\",\"linecolor\":\"white\",\"ticks\":\"\",\"title\":{\"standoff\":15},\"zerolinecolor\":\"white\",\"automargin\":true,\"zerolinewidth\":2},\"scene\":{\"xaxis\":{\"backgroundcolor\":\"#E5ECF6\",\"gridcolor\":\"white\",\"linecolor\":\"white\",\"showbackground\":true,\"ticks\":\"\",\"zerolinecolor\":\"white\",\"gridwidth\":2},\"yaxis\":{\"backgroundcolor\":\"#E5ECF6\",\"gridcolor\":\"white\",\"linecolor\":\"white\",\"showbackground\":true,\"ticks\":\"\",\"zerolinecolor\":\"white\",\"gridwidth\":2},\"zaxis\":{\"backgroundcolor\":\"#E5ECF6\",\"gridcolor\":\"white\",\"linecolor\":\"white\",\"showbackground\":true,\"ticks\":\"\",\"zerolinecolor\":\"white\",\"gridwidth\":2}},\"shapedefaults\":{\"line\":{\"color\":\"#2a3f5f\"}},\"annotationdefaults\":{\"arrowcolor\":\"#2a3f5f\",\"arrowhead\":0,\"arrowwidth\":1},\"geo\":{\"bgcolor\":\"white\",\"landcolor\":\"#E5ECF6\",\"subunitcolor\":\"white\",\"showland\":true,\"showlakes\":true,\"lakecolor\":\"white\"},\"title\":{\"x\":0.05},\"mapbox\":{\"style\":\"light\"}}},\"xaxis\":{\"anchor\":\"y\",\"domain\":[0.0,1.0],\"title\":{\"text\":\"S_2\"}},\"yaxis\":{\"anchor\":\"x\",\"domain\":[0.0,1.0],\"title\":{\"text\":\"counts\"}},\"legend\":{\"tracegroupgap\":0},\"title\":{\"text\":\"Number of statements generated by date\"}},                        {\"responsive\": true}                    ).then(function(){\n",
       "                            \n",
       "var gd = document.getElementById('37f80d37-5ce3-4788-9b12-7181d58472e5');\n",
       "var x = new MutationObserver(function (mutations, observer) {{\n",
       "        var display = window.getComputedStyle(gd).display;\n",
       "        if (!display || display === 'none') {{\n",
       "            console.log([gd, 'removed!']);\n",
       "            Plotly.purge(gd);\n",
       "            observer.disconnect();\n",
       "        }}\n",
       "}});\n",
       "\n",
       "// Listen for the removal of the full notebook cells\n",
       "var notebookContainer = gd.closest('#notebook-container');\n",
       "if (notebookContainer) {{\n",
       "    x.observe(notebookContainer, {childList: true});\n",
       "}}\n",
       "\n",
       "// Listen for the clearing of the current output cell\n",
       "var outputEl = gd.closest('.output');\n",
       "if (outputEl) {{\n",
       "    x.observe(outputEl, {childList: true});\n",
       "}}\n",
       "\n",
       "                        })                };                });            </script>        </div>"
      ]
     },
     "metadata": {},
     "output_type": "display_data"
    }
   ],
   "source": [
    "px.line(target_by_date,x=\"S_2\",y=\"counts\",title=\"Number of statements generated by date\")"
   ]
  },
  {
   "cell_type": "markdown",
   "id": "6325de13",
   "metadata": {
    "papermill": {
     "duration": 0.017813,
     "end_time": "2022-05-31T12:56:12.935026",
     "exception": false,
     "start_time": "2022-05-31T12:56:12.917213",
     "status": "completed"
    },
    "tags": []
   },
   "source": [
    "# Observations\n",
    "\n",
    "On analysing the pattern from months March to May 2017, I could see that in a week most statements are generated on a  Saturday and there is a considerable drop in the number of statements generated on Sundays, after which throughout the week the number of statements show an upward trend maxing on Saturday."
   ]
  },
  {
   "cell_type": "code",
   "execution_count": 16,
   "id": "b3195169",
   "metadata": {
    "execution": {
     "iopub.execute_input": "2022-05-31T12:56:12.973683Z",
     "iopub.status.busy": "2022-05-31T12:56:12.973164Z",
     "iopub.status.idle": "2022-05-31T12:56:13.514477Z",
     "shell.execute_reply": "2022-05-31T12:56:13.513435Z"
    },
    "papermill": {
     "duration": 0.563237,
     "end_time": "2022-05-31T12:56:13.516974",
     "exception": false,
     "start_time": "2022-05-31T12:56:12.953737",
     "status": "completed"
    },
    "tags": []
   },
   "outputs": [],
   "source": [
    "target_by_d63 = train.groupby(by=[\"D_63\"]).size().reset_index(name=\"counts\")"
   ]
  },
  {
   "cell_type": "code",
   "execution_count": 17,
   "id": "5cdf92e3",
   "metadata": {
    "execution": {
     "iopub.execute_input": "2022-05-31T12:56:13.552537Z",
     "iopub.status.busy": "2022-05-31T12:56:13.552060Z",
     "iopub.status.idle": "2022-05-31T12:56:13.562764Z",
     "shell.execute_reply": "2022-05-31T12:56:13.561626Z"
    },
    "papermill": {
     "duration": 0.031063,
     "end_time": "2022-05-31T12:56:13.565049",
     "exception": false,
     "start_time": "2022-05-31T12:56:13.533986",
     "status": "completed"
    },
    "tags": []
   },
   "outputs": [
    {
     "data": {
      "text/html": [
       "<div>\n",
       "<style scoped>\n",
       "    .dataframe tbody tr th:only-of-type {\n",
       "        vertical-align: middle;\n",
       "    }\n",
       "\n",
       "    .dataframe tbody tr th {\n",
       "        vertical-align: top;\n",
       "    }\n",
       "\n",
       "    .dataframe thead th {\n",
       "        text-align: right;\n",
       "    }\n",
       "</style>\n",
       "<table border=\"1\" class=\"dataframe\">\n",
       "  <thead>\n",
       "    <tr style=\"text-align: right;\">\n",
       "      <th></th>\n",
       "      <th>D_63</th>\n",
       "      <th>counts</th>\n",
       "    </tr>\n",
       "  </thead>\n",
       "  <tbody>\n",
       "    <tr>\n",
       "      <th>0</th>\n",
       "      <td>CL</td>\n",
       "      <td>438390</td>\n",
       "    </tr>\n",
       "    <tr>\n",
       "      <th>1</th>\n",
       "      <td>CO</td>\n",
       "      <td>4119621</td>\n",
       "    </tr>\n",
       "    <tr>\n",
       "      <th>2</th>\n",
       "      <td>CR</td>\n",
       "      <td>930133</td>\n",
       "    </tr>\n",
       "    <tr>\n",
       "      <th>3</th>\n",
       "      <td>XL</td>\n",
       "      <td>6965</td>\n",
       "    </tr>\n",
       "    <tr>\n",
       "      <th>4</th>\n",
       "      <td>XM</td>\n",
       "      <td>10556</td>\n",
       "    </tr>\n",
       "    <tr>\n",
       "      <th>5</th>\n",
       "      <td>XZ</td>\n",
       "      <td>25786</td>\n",
       "    </tr>\n",
       "  </tbody>\n",
       "</table>\n",
       "</div>"
      ],
      "text/plain": [
       "  D_63   counts\n",
       "0   CL   438390\n",
       "1   CO  4119621\n",
       "2   CR   930133\n",
       "3   XL     6965\n",
       "4   XM    10556\n",
       "5   XZ    25786"
      ]
     },
     "execution_count": 17,
     "metadata": {},
     "output_type": "execute_result"
    }
   ],
   "source": [
    "target_by_d63"
   ]
  },
  {
   "cell_type": "code",
   "execution_count": 18,
   "id": "7ecf02e5",
   "metadata": {
    "execution": {
     "iopub.execute_input": "2022-05-31T12:56:13.601883Z",
     "iopub.status.busy": "2022-05-31T12:56:13.601506Z",
     "iopub.status.idle": "2022-05-31T12:56:13.706617Z",
     "shell.execute_reply": "2022-05-31T12:56:13.705498Z"
    },
    "papermill": {
     "duration": 0.125844,
     "end_time": "2022-05-31T12:56:13.708823",
     "exception": false,
     "start_time": "2022-05-31T12:56:13.582979",
     "status": "completed"
    },
    "tags": []
   },
   "outputs": [
    {
     "data": {
      "text/html": [
       "<div>                            <div id=\"84511f0b-4592-4d4a-98f9-4ec59caf27b9\" class=\"plotly-graph-div\" style=\"height:525px; width:100%;\"></div>            <script type=\"text/javascript\">                require([\"plotly\"], function(Plotly) {                    window.PLOTLYENV=window.PLOTLYENV || {};                                    if (document.getElementById(\"84511f0b-4592-4d4a-98f9-4ec59caf27b9\")) {                    Plotly.newPlot(                        \"84511f0b-4592-4d4a-98f9-4ec59caf27b9\",                        [{\"alignmentgroup\":\"True\",\"hovertemplate\":\"D_63=%{x}<br>counts=%{y}<extra></extra>\",\"legendgroup\":\"CL\",\"marker\":{\"color\":\"#636efa\",\"pattern\":{\"shape\":\"\"}},\"name\":\"CL\",\"offsetgroup\":\"CL\",\"orientation\":\"v\",\"showlegend\":true,\"textposition\":\"auto\",\"x\":[\"CL\"],\"xaxis\":\"x\",\"y\":[438390],\"yaxis\":\"y\",\"type\":\"bar\"},{\"alignmentgroup\":\"True\",\"hovertemplate\":\"D_63=%{x}<br>counts=%{y}<extra></extra>\",\"legendgroup\":\"CO\",\"marker\":{\"color\":\"#EF553B\",\"pattern\":{\"shape\":\"\"}},\"name\":\"CO\",\"offsetgroup\":\"CO\",\"orientation\":\"v\",\"showlegend\":true,\"textposition\":\"auto\",\"x\":[\"CO\"],\"xaxis\":\"x\",\"y\":[4119621],\"yaxis\":\"y\",\"type\":\"bar\"},{\"alignmentgroup\":\"True\",\"hovertemplate\":\"D_63=%{x}<br>counts=%{y}<extra></extra>\",\"legendgroup\":\"CR\",\"marker\":{\"color\":\"#00cc96\",\"pattern\":{\"shape\":\"\"}},\"name\":\"CR\",\"offsetgroup\":\"CR\",\"orientation\":\"v\",\"showlegend\":true,\"textposition\":\"auto\",\"x\":[\"CR\"],\"xaxis\":\"x\",\"y\":[930133],\"yaxis\":\"y\",\"type\":\"bar\"},{\"alignmentgroup\":\"True\",\"hovertemplate\":\"D_63=%{x}<br>counts=%{y}<extra></extra>\",\"legendgroup\":\"XL\",\"marker\":{\"color\":\"#ab63fa\",\"pattern\":{\"shape\":\"\"}},\"name\":\"XL\",\"offsetgroup\":\"XL\",\"orientation\":\"v\",\"showlegend\":true,\"textposition\":\"auto\",\"x\":[\"XL\"],\"xaxis\":\"x\",\"y\":[6965],\"yaxis\":\"y\",\"type\":\"bar\"},{\"alignmentgroup\":\"True\",\"hovertemplate\":\"D_63=%{x}<br>counts=%{y}<extra></extra>\",\"legendgroup\":\"XM\",\"marker\":{\"color\":\"#FFA15A\",\"pattern\":{\"shape\":\"\"}},\"name\":\"XM\",\"offsetgroup\":\"XM\",\"orientation\":\"v\",\"showlegend\":true,\"textposition\":\"auto\",\"x\":[\"XM\"],\"xaxis\":\"x\",\"y\":[10556],\"yaxis\":\"y\",\"type\":\"bar\"},{\"alignmentgroup\":\"True\",\"hovertemplate\":\"D_63=%{x}<br>counts=%{y}<extra></extra>\",\"legendgroup\":\"XZ\",\"marker\":{\"color\":\"#19d3f3\",\"pattern\":{\"shape\":\"\"}},\"name\":\"XZ\",\"offsetgroup\":\"XZ\",\"orientation\":\"v\",\"showlegend\":true,\"textposition\":\"auto\",\"x\":[\"XZ\"],\"xaxis\":\"x\",\"y\":[25786],\"yaxis\":\"y\",\"type\":\"bar\"}],                        {\"template\":{\"data\":{\"histogram2dcontour\":[{\"type\":\"histogram2dcontour\",\"colorbar\":{\"outlinewidth\":0,\"ticks\":\"\"},\"colorscale\":[[0.0,\"#0d0887\"],[0.1111111111111111,\"#46039f\"],[0.2222222222222222,\"#7201a8\"],[0.3333333333333333,\"#9c179e\"],[0.4444444444444444,\"#bd3786\"],[0.5555555555555556,\"#d8576b\"],[0.6666666666666666,\"#ed7953\"],[0.7777777777777778,\"#fb9f3a\"],[0.8888888888888888,\"#fdca26\"],[1.0,\"#f0f921\"]]}],\"choropleth\":[{\"type\":\"choropleth\",\"colorbar\":{\"outlinewidth\":0,\"ticks\":\"\"}}],\"histogram2d\":[{\"type\":\"histogram2d\",\"colorbar\":{\"outlinewidth\":0,\"ticks\":\"\"},\"colorscale\":[[0.0,\"#0d0887\"],[0.1111111111111111,\"#46039f\"],[0.2222222222222222,\"#7201a8\"],[0.3333333333333333,\"#9c179e\"],[0.4444444444444444,\"#bd3786\"],[0.5555555555555556,\"#d8576b\"],[0.6666666666666666,\"#ed7953\"],[0.7777777777777778,\"#fb9f3a\"],[0.8888888888888888,\"#fdca26\"],[1.0,\"#f0f921\"]]}],\"heatmap\":[{\"type\":\"heatmap\",\"colorbar\":{\"outlinewidth\":0,\"ticks\":\"\"},\"colorscale\":[[0.0,\"#0d0887\"],[0.1111111111111111,\"#46039f\"],[0.2222222222222222,\"#7201a8\"],[0.3333333333333333,\"#9c179e\"],[0.4444444444444444,\"#bd3786\"],[0.5555555555555556,\"#d8576b\"],[0.6666666666666666,\"#ed7953\"],[0.7777777777777778,\"#fb9f3a\"],[0.8888888888888888,\"#fdca26\"],[1.0,\"#f0f921\"]]}],\"heatmapgl\":[{\"type\":\"heatmapgl\",\"colorbar\":{\"outlinewidth\":0,\"ticks\":\"\"},\"colorscale\":[[0.0,\"#0d0887\"],[0.1111111111111111,\"#46039f\"],[0.2222222222222222,\"#7201a8\"],[0.3333333333333333,\"#9c179e\"],[0.4444444444444444,\"#bd3786\"],[0.5555555555555556,\"#d8576b\"],[0.6666666666666666,\"#ed7953\"],[0.7777777777777778,\"#fb9f3a\"],[0.8888888888888888,\"#fdca26\"],[1.0,\"#f0f921\"]]}],\"contourcarpet\":[{\"type\":\"contourcarpet\",\"colorbar\":{\"outlinewidth\":0,\"ticks\":\"\"}}],\"contour\":[{\"type\":\"contour\",\"colorbar\":{\"outlinewidth\":0,\"ticks\":\"\"},\"colorscale\":[[0.0,\"#0d0887\"],[0.1111111111111111,\"#46039f\"],[0.2222222222222222,\"#7201a8\"],[0.3333333333333333,\"#9c179e\"],[0.4444444444444444,\"#bd3786\"],[0.5555555555555556,\"#d8576b\"],[0.6666666666666666,\"#ed7953\"],[0.7777777777777778,\"#fb9f3a\"],[0.8888888888888888,\"#fdca26\"],[1.0,\"#f0f921\"]]}],\"surface\":[{\"type\":\"surface\",\"colorbar\":{\"outlinewidth\":0,\"ticks\":\"\"},\"colorscale\":[[0.0,\"#0d0887\"],[0.1111111111111111,\"#46039f\"],[0.2222222222222222,\"#7201a8\"],[0.3333333333333333,\"#9c179e\"],[0.4444444444444444,\"#bd3786\"],[0.5555555555555556,\"#d8576b\"],[0.6666666666666666,\"#ed7953\"],[0.7777777777777778,\"#fb9f3a\"],[0.8888888888888888,\"#fdca26\"],[1.0,\"#f0f921\"]]}],\"mesh3d\":[{\"type\":\"mesh3d\",\"colorbar\":{\"outlinewidth\":0,\"ticks\":\"\"}}],\"scatter\":[{\"fillpattern\":{\"fillmode\":\"overlay\",\"size\":10,\"solidity\":0.2},\"type\":\"scatter\"}],\"parcoords\":[{\"type\":\"parcoords\",\"line\":{\"colorbar\":{\"outlinewidth\":0,\"ticks\":\"\"}}}],\"scatterpolargl\":[{\"type\":\"scatterpolargl\",\"marker\":{\"colorbar\":{\"outlinewidth\":0,\"ticks\":\"\"}}}],\"bar\":[{\"error_x\":{\"color\":\"#2a3f5f\"},\"error_y\":{\"color\":\"#2a3f5f\"},\"marker\":{\"line\":{\"color\":\"#E5ECF6\",\"width\":0.5},\"pattern\":{\"fillmode\":\"overlay\",\"size\":10,\"solidity\":0.2}},\"type\":\"bar\"}],\"scattergeo\":[{\"type\":\"scattergeo\",\"marker\":{\"colorbar\":{\"outlinewidth\":0,\"ticks\":\"\"}}}],\"scatterpolar\":[{\"type\":\"scatterpolar\",\"marker\":{\"colorbar\":{\"outlinewidth\":0,\"ticks\":\"\"}}}],\"histogram\":[{\"marker\":{\"pattern\":{\"fillmode\":\"overlay\",\"size\":10,\"solidity\":0.2}},\"type\":\"histogram\"}],\"scattergl\":[{\"type\":\"scattergl\",\"marker\":{\"colorbar\":{\"outlinewidth\":0,\"ticks\":\"\"}}}],\"scatter3d\":[{\"type\":\"scatter3d\",\"line\":{\"colorbar\":{\"outlinewidth\":0,\"ticks\":\"\"}},\"marker\":{\"colorbar\":{\"outlinewidth\":0,\"ticks\":\"\"}}}],\"scattermapbox\":[{\"type\":\"scattermapbox\",\"marker\":{\"colorbar\":{\"outlinewidth\":0,\"ticks\":\"\"}}}],\"scatterternary\":[{\"type\":\"scatterternary\",\"marker\":{\"colorbar\":{\"outlinewidth\":0,\"ticks\":\"\"}}}],\"scattercarpet\":[{\"type\":\"scattercarpet\",\"marker\":{\"colorbar\":{\"outlinewidth\":0,\"ticks\":\"\"}}}],\"carpet\":[{\"aaxis\":{\"endlinecolor\":\"#2a3f5f\",\"gridcolor\":\"white\",\"linecolor\":\"white\",\"minorgridcolor\":\"white\",\"startlinecolor\":\"#2a3f5f\"},\"baxis\":{\"endlinecolor\":\"#2a3f5f\",\"gridcolor\":\"white\",\"linecolor\":\"white\",\"minorgridcolor\":\"white\",\"startlinecolor\":\"#2a3f5f\"},\"type\":\"carpet\"}],\"table\":[{\"cells\":{\"fill\":{\"color\":\"#EBF0F8\"},\"line\":{\"color\":\"white\"}},\"header\":{\"fill\":{\"color\":\"#C8D4E3\"},\"line\":{\"color\":\"white\"}},\"type\":\"table\"}],\"barpolar\":[{\"marker\":{\"line\":{\"color\":\"#E5ECF6\",\"width\":0.5},\"pattern\":{\"fillmode\":\"overlay\",\"size\":10,\"solidity\":0.2}},\"type\":\"barpolar\"}],\"pie\":[{\"automargin\":true,\"type\":\"pie\"}]},\"layout\":{\"autotypenumbers\":\"strict\",\"colorway\":[\"#636efa\",\"#EF553B\",\"#00cc96\",\"#ab63fa\",\"#FFA15A\",\"#19d3f3\",\"#FF6692\",\"#B6E880\",\"#FF97FF\",\"#FECB52\"],\"font\":{\"color\":\"#2a3f5f\"},\"hovermode\":\"closest\",\"hoverlabel\":{\"align\":\"left\"},\"paper_bgcolor\":\"white\",\"plot_bgcolor\":\"#E5ECF6\",\"polar\":{\"bgcolor\":\"#E5ECF6\",\"angularaxis\":{\"gridcolor\":\"white\",\"linecolor\":\"white\",\"ticks\":\"\"},\"radialaxis\":{\"gridcolor\":\"white\",\"linecolor\":\"white\",\"ticks\":\"\"}},\"ternary\":{\"bgcolor\":\"#E5ECF6\",\"aaxis\":{\"gridcolor\":\"white\",\"linecolor\":\"white\",\"ticks\":\"\"},\"baxis\":{\"gridcolor\":\"white\",\"linecolor\":\"white\",\"ticks\":\"\"},\"caxis\":{\"gridcolor\":\"white\",\"linecolor\":\"white\",\"ticks\":\"\"}},\"coloraxis\":{\"colorbar\":{\"outlinewidth\":0,\"ticks\":\"\"}},\"colorscale\":{\"sequential\":[[0.0,\"#0d0887\"],[0.1111111111111111,\"#46039f\"],[0.2222222222222222,\"#7201a8\"],[0.3333333333333333,\"#9c179e\"],[0.4444444444444444,\"#bd3786\"],[0.5555555555555556,\"#d8576b\"],[0.6666666666666666,\"#ed7953\"],[0.7777777777777778,\"#fb9f3a\"],[0.8888888888888888,\"#fdca26\"],[1.0,\"#f0f921\"]],\"sequentialminus\":[[0.0,\"#0d0887\"],[0.1111111111111111,\"#46039f\"],[0.2222222222222222,\"#7201a8\"],[0.3333333333333333,\"#9c179e\"],[0.4444444444444444,\"#bd3786\"],[0.5555555555555556,\"#d8576b\"],[0.6666666666666666,\"#ed7953\"],[0.7777777777777778,\"#fb9f3a\"],[0.8888888888888888,\"#fdca26\"],[1.0,\"#f0f921\"]],\"diverging\":[[0,\"#8e0152\"],[0.1,\"#c51b7d\"],[0.2,\"#de77ae\"],[0.3,\"#f1b6da\"],[0.4,\"#fde0ef\"],[0.5,\"#f7f7f7\"],[0.6,\"#e6f5d0\"],[0.7,\"#b8e186\"],[0.8,\"#7fbc41\"],[0.9,\"#4d9221\"],[1,\"#276419\"]]},\"xaxis\":{\"gridcolor\":\"white\",\"linecolor\":\"white\",\"ticks\":\"\",\"title\":{\"standoff\":15},\"zerolinecolor\":\"white\",\"automargin\":true,\"zerolinewidth\":2},\"yaxis\":{\"gridcolor\":\"white\",\"linecolor\":\"white\",\"ticks\":\"\",\"title\":{\"standoff\":15},\"zerolinecolor\":\"white\",\"automargin\":true,\"zerolinewidth\":2},\"scene\":{\"xaxis\":{\"backgroundcolor\":\"#E5ECF6\",\"gridcolor\":\"white\",\"linecolor\":\"white\",\"showbackground\":true,\"ticks\":\"\",\"zerolinecolor\":\"white\",\"gridwidth\":2},\"yaxis\":{\"backgroundcolor\":\"#E5ECF6\",\"gridcolor\":\"white\",\"linecolor\":\"white\",\"showbackground\":true,\"ticks\":\"\",\"zerolinecolor\":\"white\",\"gridwidth\":2},\"zaxis\":{\"backgroundcolor\":\"#E5ECF6\",\"gridcolor\":\"white\",\"linecolor\":\"white\",\"showbackground\":true,\"ticks\":\"\",\"zerolinecolor\":\"white\",\"gridwidth\":2}},\"shapedefaults\":{\"line\":{\"color\":\"#2a3f5f\"}},\"annotationdefaults\":{\"arrowcolor\":\"#2a3f5f\",\"arrowhead\":0,\"arrowwidth\":1},\"geo\":{\"bgcolor\":\"white\",\"landcolor\":\"#E5ECF6\",\"subunitcolor\":\"white\",\"showland\":true,\"showlakes\":true,\"lakecolor\":\"white\"},\"title\":{\"x\":0.05},\"mapbox\":{\"style\":\"light\"}}},\"xaxis\":{\"anchor\":\"y\",\"domain\":[0.0,1.0],\"title\":{\"text\":\"D_63\"},\"categoryorder\":\"array\",\"categoryarray\":[\"CL\",\"CO\",\"CR\",\"XL\",\"XM\",\"XZ\"]},\"yaxis\":{\"anchor\":\"x\",\"domain\":[0.0,1.0],\"title\":{\"text\":\"counts\"}},\"legend\":{\"title\":{\"text\":\"D_63\"},\"tracegroupgap\":0},\"title\":{\"text\":\"Distribution of D_63\"},\"barmode\":\"relative\"},                        {\"responsive\": true}                    ).then(function(){\n",
       "                            \n",
       "var gd = document.getElementById('84511f0b-4592-4d4a-98f9-4ec59caf27b9');\n",
       "var x = new MutationObserver(function (mutations, observer) {{\n",
       "        var display = window.getComputedStyle(gd).display;\n",
       "        if (!display || display === 'none') {{\n",
       "            console.log([gd, 'removed!']);\n",
       "            Plotly.purge(gd);\n",
       "            observer.disconnect();\n",
       "        }}\n",
       "}});\n",
       "\n",
       "// Listen for the removal of the full notebook cells\n",
       "var notebookContainer = gd.closest('#notebook-container');\n",
       "if (notebookContainer) {{\n",
       "    x.observe(notebookContainer, {childList: true});\n",
       "}}\n",
       "\n",
       "// Listen for the clearing of the current output cell\n",
       "var outputEl = gd.closest('.output');\n",
       "if (outputEl) {{\n",
       "    x.observe(outputEl, {childList: true});\n",
       "}}\n",
       "\n",
       "                        })                };                });            </script>        </div>"
      ]
     },
     "metadata": {},
     "output_type": "display_data"
    }
   ],
   "source": [
    "px.bar(target_by_d63,x=\"D_63\",y=\"counts\",color=\"D_63\",title=\"Distribution of D_63\")"
   ]
  },
  {
   "cell_type": "markdown",
   "id": "c63e633b",
   "metadata": {
    "papermill": {
     "duration": 0.018136,
     "end_time": "2022-05-31T12:56:13.745759",
     "exception": false,
     "start_time": "2022-05-31T12:56:13.727623",
     "status": "completed"
    },
    "tags": []
   },
   "source": [
    "# Observations:\n",
    "\n",
    "Delinquency means minor crime, these variables seem to be depicting some sort of negligience by the credit card holder.\n",
    "\n",
    "CO is the category with the most number of counts."
   ]
  },
  {
   "cell_type": "code",
   "execution_count": 19,
   "id": "e9f6935c",
   "metadata": {
    "execution": {
     "iopub.execute_input": "2022-05-31T12:56:13.784402Z",
     "iopub.status.busy": "2022-05-31T12:56:13.783989Z",
     "iopub.status.idle": "2022-05-31T12:56:14.361583Z",
     "shell.execute_reply": "2022-05-31T12:56:14.360623Z"
    },
    "papermill": {
     "duration": 0.600075,
     "end_time": "2022-05-31T12:56:14.364100",
     "exception": false,
     "start_time": "2022-05-31T12:56:13.764025",
     "status": "completed"
    },
    "tags": []
   },
   "outputs": [],
   "source": [
    "target_by_d64 = train.groupby(by=[\"D_64\"]).size().reset_index(name=\"counts\")"
   ]
  },
  {
   "cell_type": "code",
   "execution_count": 20,
   "id": "bc94253e",
   "metadata": {
    "execution": {
     "iopub.execute_input": "2022-05-31T12:56:14.403488Z",
     "iopub.status.busy": "2022-05-31T12:56:14.403085Z",
     "iopub.status.idle": "2022-05-31T12:56:14.492562Z",
     "shell.execute_reply": "2022-05-31T12:56:14.491891Z"
    },
    "papermill": {
     "duration": 0.111924,
     "end_time": "2022-05-31T12:56:14.494573",
     "exception": false,
     "start_time": "2022-05-31T12:56:14.382649",
     "status": "completed"
    },
    "tags": []
   },
   "outputs": [
    {
     "data": {
      "text/html": [
       "<div>                            <div id=\"37a88fd6-0389-460e-9123-3062a3a4850f\" class=\"plotly-graph-div\" style=\"height:525px; width:100%;\"></div>            <script type=\"text/javascript\">                require([\"plotly\"], function(Plotly) {                    window.PLOTLYENV=window.PLOTLYENV || {};                                    if (document.getElementById(\"37a88fd6-0389-460e-9123-3062a3a4850f\")) {                    Plotly.newPlot(                        \"37a88fd6-0389-460e-9123-3062a3a4850f\",                        [{\"alignmentgroup\":\"True\",\"hovertemplate\":\"D_64=%{x}<br>counts=%{y}<extra></extra>\",\"legendgroup\":\"-1\",\"marker\":{\"color\":\"#636efa\",\"pattern\":{\"shape\":\"\"}},\"name\":\"-1\",\"offsetgroup\":\"-1\",\"orientation\":\"v\",\"showlegend\":true,\"textposition\":\"auto\",\"x\":[\"-1\"],\"xaxis\":\"x\",\"y\":[37205],\"yaxis\":\"y\",\"type\":\"bar\"},{\"alignmentgroup\":\"True\",\"hovertemplate\":\"D_64=%{x}<br>counts=%{y}<extra></extra>\",\"legendgroup\":\"O\",\"marker\":{\"color\":\"#EF553B\",\"pattern\":{\"shape\":\"\"}},\"name\":\"O\",\"offsetgroup\":\"O\",\"orientation\":\"v\",\"showlegend\":true,\"textposition\":\"auto\",\"x\":[\"O\"],\"xaxis\":\"x\",\"y\":[2913244],\"yaxis\":\"y\",\"type\":\"bar\"},{\"alignmentgroup\":\"True\",\"hovertemplate\":\"D_64=%{x}<br>counts=%{y}<extra></extra>\",\"legendgroup\":\"R\",\"marker\":{\"color\":\"#00cc96\",\"pattern\":{\"shape\":\"\"}},\"name\":\"R\",\"offsetgroup\":\"R\",\"orientation\":\"v\",\"showlegend\":true,\"textposition\":\"auto\",\"x\":[\"R\"],\"xaxis\":\"x\",\"y\":[840112],\"yaxis\":\"y\",\"type\":\"bar\"},{\"alignmentgroup\":\"True\",\"hovertemplate\":\"D_64=%{x}<br>counts=%{y}<extra></extra>\",\"legendgroup\":\"U\",\"marker\":{\"color\":\"#ab63fa\",\"pattern\":{\"shape\":\"\"}},\"name\":\"U\",\"offsetgroup\":\"U\",\"orientation\":\"v\",\"showlegend\":true,\"textposition\":\"auto\",\"x\":[\"U\"],\"xaxis\":\"x\",\"y\":[1523448],\"yaxis\":\"y\",\"type\":\"bar\"}],                        {\"template\":{\"data\":{\"histogram2dcontour\":[{\"type\":\"histogram2dcontour\",\"colorbar\":{\"outlinewidth\":0,\"ticks\":\"\"},\"colorscale\":[[0.0,\"#0d0887\"],[0.1111111111111111,\"#46039f\"],[0.2222222222222222,\"#7201a8\"],[0.3333333333333333,\"#9c179e\"],[0.4444444444444444,\"#bd3786\"],[0.5555555555555556,\"#d8576b\"],[0.6666666666666666,\"#ed7953\"],[0.7777777777777778,\"#fb9f3a\"],[0.8888888888888888,\"#fdca26\"],[1.0,\"#f0f921\"]]}],\"choropleth\":[{\"type\":\"choropleth\",\"colorbar\":{\"outlinewidth\":0,\"ticks\":\"\"}}],\"histogram2d\":[{\"type\":\"histogram2d\",\"colorbar\":{\"outlinewidth\":0,\"ticks\":\"\"},\"colorscale\":[[0.0,\"#0d0887\"],[0.1111111111111111,\"#46039f\"],[0.2222222222222222,\"#7201a8\"],[0.3333333333333333,\"#9c179e\"],[0.4444444444444444,\"#bd3786\"],[0.5555555555555556,\"#d8576b\"],[0.6666666666666666,\"#ed7953\"],[0.7777777777777778,\"#fb9f3a\"],[0.8888888888888888,\"#fdca26\"],[1.0,\"#f0f921\"]]}],\"heatmap\":[{\"type\":\"heatmap\",\"colorbar\":{\"outlinewidth\":0,\"ticks\":\"\"},\"colorscale\":[[0.0,\"#0d0887\"],[0.1111111111111111,\"#46039f\"],[0.2222222222222222,\"#7201a8\"],[0.3333333333333333,\"#9c179e\"],[0.4444444444444444,\"#bd3786\"],[0.5555555555555556,\"#d8576b\"],[0.6666666666666666,\"#ed7953\"],[0.7777777777777778,\"#fb9f3a\"],[0.8888888888888888,\"#fdca26\"],[1.0,\"#f0f921\"]]}],\"heatmapgl\":[{\"type\":\"heatmapgl\",\"colorbar\":{\"outlinewidth\":0,\"ticks\":\"\"},\"colorscale\":[[0.0,\"#0d0887\"],[0.1111111111111111,\"#46039f\"],[0.2222222222222222,\"#7201a8\"],[0.3333333333333333,\"#9c179e\"],[0.4444444444444444,\"#bd3786\"],[0.5555555555555556,\"#d8576b\"],[0.6666666666666666,\"#ed7953\"],[0.7777777777777778,\"#fb9f3a\"],[0.8888888888888888,\"#fdca26\"],[1.0,\"#f0f921\"]]}],\"contourcarpet\":[{\"type\":\"contourcarpet\",\"colorbar\":{\"outlinewidth\":0,\"ticks\":\"\"}}],\"contour\":[{\"type\":\"contour\",\"colorbar\":{\"outlinewidth\":0,\"ticks\":\"\"},\"colorscale\":[[0.0,\"#0d0887\"],[0.1111111111111111,\"#46039f\"],[0.2222222222222222,\"#7201a8\"],[0.3333333333333333,\"#9c179e\"],[0.4444444444444444,\"#bd3786\"],[0.5555555555555556,\"#d8576b\"],[0.6666666666666666,\"#ed7953\"],[0.7777777777777778,\"#fb9f3a\"],[0.8888888888888888,\"#fdca26\"],[1.0,\"#f0f921\"]]}],\"surface\":[{\"type\":\"surface\",\"colorbar\":{\"outlinewidth\":0,\"ticks\":\"\"},\"colorscale\":[[0.0,\"#0d0887\"],[0.1111111111111111,\"#46039f\"],[0.2222222222222222,\"#7201a8\"],[0.3333333333333333,\"#9c179e\"],[0.4444444444444444,\"#bd3786\"],[0.5555555555555556,\"#d8576b\"],[0.6666666666666666,\"#ed7953\"],[0.7777777777777778,\"#fb9f3a\"],[0.8888888888888888,\"#fdca26\"],[1.0,\"#f0f921\"]]}],\"mesh3d\":[{\"type\":\"mesh3d\",\"colorbar\":{\"outlinewidth\":0,\"ticks\":\"\"}}],\"scatter\":[{\"fillpattern\":{\"fillmode\":\"overlay\",\"size\":10,\"solidity\":0.2},\"type\":\"scatter\"}],\"parcoords\":[{\"type\":\"parcoords\",\"line\":{\"colorbar\":{\"outlinewidth\":0,\"ticks\":\"\"}}}],\"scatterpolargl\":[{\"type\":\"scatterpolargl\",\"marker\":{\"colorbar\":{\"outlinewidth\":0,\"ticks\":\"\"}}}],\"bar\":[{\"error_x\":{\"color\":\"#2a3f5f\"},\"error_y\":{\"color\":\"#2a3f5f\"},\"marker\":{\"line\":{\"color\":\"#E5ECF6\",\"width\":0.5},\"pattern\":{\"fillmode\":\"overlay\",\"size\":10,\"solidity\":0.2}},\"type\":\"bar\"}],\"scattergeo\":[{\"type\":\"scattergeo\",\"marker\":{\"colorbar\":{\"outlinewidth\":0,\"ticks\":\"\"}}}],\"scatterpolar\":[{\"type\":\"scatterpolar\",\"marker\":{\"colorbar\":{\"outlinewidth\":0,\"ticks\":\"\"}}}],\"histogram\":[{\"marker\":{\"pattern\":{\"fillmode\":\"overlay\",\"size\":10,\"solidity\":0.2}},\"type\":\"histogram\"}],\"scattergl\":[{\"type\":\"scattergl\",\"marker\":{\"colorbar\":{\"outlinewidth\":0,\"ticks\":\"\"}}}],\"scatter3d\":[{\"type\":\"scatter3d\",\"line\":{\"colorbar\":{\"outlinewidth\":0,\"ticks\":\"\"}},\"marker\":{\"colorbar\":{\"outlinewidth\":0,\"ticks\":\"\"}}}],\"scattermapbox\":[{\"type\":\"scattermapbox\",\"marker\":{\"colorbar\":{\"outlinewidth\":0,\"ticks\":\"\"}}}],\"scatterternary\":[{\"type\":\"scatterternary\",\"marker\":{\"colorbar\":{\"outlinewidth\":0,\"ticks\":\"\"}}}],\"scattercarpet\":[{\"type\":\"scattercarpet\",\"marker\":{\"colorbar\":{\"outlinewidth\":0,\"ticks\":\"\"}}}],\"carpet\":[{\"aaxis\":{\"endlinecolor\":\"#2a3f5f\",\"gridcolor\":\"white\",\"linecolor\":\"white\",\"minorgridcolor\":\"white\",\"startlinecolor\":\"#2a3f5f\"},\"baxis\":{\"endlinecolor\":\"#2a3f5f\",\"gridcolor\":\"white\",\"linecolor\":\"white\",\"minorgridcolor\":\"white\",\"startlinecolor\":\"#2a3f5f\"},\"type\":\"carpet\"}],\"table\":[{\"cells\":{\"fill\":{\"color\":\"#EBF0F8\"},\"line\":{\"color\":\"white\"}},\"header\":{\"fill\":{\"color\":\"#C8D4E3\"},\"line\":{\"color\":\"white\"}},\"type\":\"table\"}],\"barpolar\":[{\"marker\":{\"line\":{\"color\":\"#E5ECF6\",\"width\":0.5},\"pattern\":{\"fillmode\":\"overlay\",\"size\":10,\"solidity\":0.2}},\"type\":\"barpolar\"}],\"pie\":[{\"automargin\":true,\"type\":\"pie\"}]},\"layout\":{\"autotypenumbers\":\"strict\",\"colorway\":[\"#636efa\",\"#EF553B\",\"#00cc96\",\"#ab63fa\",\"#FFA15A\",\"#19d3f3\",\"#FF6692\",\"#B6E880\",\"#FF97FF\",\"#FECB52\"],\"font\":{\"color\":\"#2a3f5f\"},\"hovermode\":\"closest\",\"hoverlabel\":{\"align\":\"left\"},\"paper_bgcolor\":\"white\",\"plot_bgcolor\":\"#E5ECF6\",\"polar\":{\"bgcolor\":\"#E5ECF6\",\"angularaxis\":{\"gridcolor\":\"white\",\"linecolor\":\"white\",\"ticks\":\"\"},\"radialaxis\":{\"gridcolor\":\"white\",\"linecolor\":\"white\",\"ticks\":\"\"}},\"ternary\":{\"bgcolor\":\"#E5ECF6\",\"aaxis\":{\"gridcolor\":\"white\",\"linecolor\":\"white\",\"ticks\":\"\"},\"baxis\":{\"gridcolor\":\"white\",\"linecolor\":\"white\",\"ticks\":\"\"},\"caxis\":{\"gridcolor\":\"white\",\"linecolor\":\"white\",\"ticks\":\"\"}},\"coloraxis\":{\"colorbar\":{\"outlinewidth\":0,\"ticks\":\"\"}},\"colorscale\":{\"sequential\":[[0.0,\"#0d0887\"],[0.1111111111111111,\"#46039f\"],[0.2222222222222222,\"#7201a8\"],[0.3333333333333333,\"#9c179e\"],[0.4444444444444444,\"#bd3786\"],[0.5555555555555556,\"#d8576b\"],[0.6666666666666666,\"#ed7953\"],[0.7777777777777778,\"#fb9f3a\"],[0.8888888888888888,\"#fdca26\"],[1.0,\"#f0f921\"]],\"sequentialminus\":[[0.0,\"#0d0887\"],[0.1111111111111111,\"#46039f\"],[0.2222222222222222,\"#7201a8\"],[0.3333333333333333,\"#9c179e\"],[0.4444444444444444,\"#bd3786\"],[0.5555555555555556,\"#d8576b\"],[0.6666666666666666,\"#ed7953\"],[0.7777777777777778,\"#fb9f3a\"],[0.8888888888888888,\"#fdca26\"],[1.0,\"#f0f921\"]],\"diverging\":[[0,\"#8e0152\"],[0.1,\"#c51b7d\"],[0.2,\"#de77ae\"],[0.3,\"#f1b6da\"],[0.4,\"#fde0ef\"],[0.5,\"#f7f7f7\"],[0.6,\"#e6f5d0\"],[0.7,\"#b8e186\"],[0.8,\"#7fbc41\"],[0.9,\"#4d9221\"],[1,\"#276419\"]]},\"xaxis\":{\"gridcolor\":\"white\",\"linecolor\":\"white\",\"ticks\":\"\",\"title\":{\"standoff\":15},\"zerolinecolor\":\"white\",\"automargin\":true,\"zerolinewidth\":2},\"yaxis\":{\"gridcolor\":\"white\",\"linecolor\":\"white\",\"ticks\":\"\",\"title\":{\"standoff\":15},\"zerolinecolor\":\"white\",\"automargin\":true,\"zerolinewidth\":2},\"scene\":{\"xaxis\":{\"backgroundcolor\":\"#E5ECF6\",\"gridcolor\":\"white\",\"linecolor\":\"white\",\"showbackground\":true,\"ticks\":\"\",\"zerolinecolor\":\"white\",\"gridwidth\":2},\"yaxis\":{\"backgroundcolor\":\"#E5ECF6\",\"gridcolor\":\"white\",\"linecolor\":\"white\",\"showbackground\":true,\"ticks\":\"\",\"zerolinecolor\":\"white\",\"gridwidth\":2},\"zaxis\":{\"backgroundcolor\":\"#E5ECF6\",\"gridcolor\":\"white\",\"linecolor\":\"white\",\"showbackground\":true,\"ticks\":\"\",\"zerolinecolor\":\"white\",\"gridwidth\":2}},\"shapedefaults\":{\"line\":{\"color\":\"#2a3f5f\"}},\"annotationdefaults\":{\"arrowcolor\":\"#2a3f5f\",\"arrowhead\":0,\"arrowwidth\":1},\"geo\":{\"bgcolor\":\"white\",\"landcolor\":\"#E5ECF6\",\"subunitcolor\":\"white\",\"showland\":true,\"showlakes\":true,\"lakecolor\":\"white\"},\"title\":{\"x\":0.05},\"mapbox\":{\"style\":\"light\"}}},\"xaxis\":{\"anchor\":\"y\",\"domain\":[0.0,1.0],\"title\":{\"text\":\"D_64\"},\"categoryorder\":\"array\",\"categoryarray\":[\"-1\",\"O\",\"R\",\"U\"]},\"yaxis\":{\"anchor\":\"x\",\"domain\":[0.0,1.0],\"title\":{\"text\":\"counts\"}},\"legend\":{\"title\":{\"text\":\"D_64\"},\"tracegroupgap\":0},\"title\":{\"text\":\"Distribution of D_64\"},\"barmode\":\"relative\"},                        {\"responsive\": true}                    ).then(function(){\n",
       "                            \n",
       "var gd = document.getElementById('37a88fd6-0389-460e-9123-3062a3a4850f');\n",
       "var x = new MutationObserver(function (mutations, observer) {{\n",
       "        var display = window.getComputedStyle(gd).display;\n",
       "        if (!display || display === 'none') {{\n",
       "            console.log([gd, 'removed!']);\n",
       "            Plotly.purge(gd);\n",
       "            observer.disconnect();\n",
       "        }}\n",
       "}});\n",
       "\n",
       "// Listen for the removal of the full notebook cells\n",
       "var notebookContainer = gd.closest('#notebook-container');\n",
       "if (notebookContainer) {{\n",
       "    x.observe(notebookContainer, {childList: true});\n",
       "}}\n",
       "\n",
       "// Listen for the clearing of the current output cell\n",
       "var outputEl = gd.closest('.output');\n",
       "if (outputEl) {{\n",
       "    x.observe(outputEl, {childList: true});\n",
       "}}\n",
       "\n",
       "                        })                };                });            </script>        </div>"
      ]
     },
     "metadata": {},
     "output_type": "display_data"
    }
   ],
   "source": [
    "px.bar(target_by_d64,x=\"D_64\",y=\"counts\",color=\"D_64\",title=\"Distribution of D_64\")"
   ]
  },
  {
   "cell_type": "markdown",
   "id": "d35b3d46",
   "metadata": {
    "papermill": {
     "duration": 0.01883,
     "end_time": "2022-05-31T12:56:14.536273",
     "exception": false,
     "start_time": "2022-05-31T12:56:14.517443",
     "status": "completed"
    },
    "tags": []
   },
   "source": [
    "# Visualising integer features"
   ]
  },
  {
   "cell_type": "code",
   "execution_count": 21,
   "id": "bf0f8f82",
   "metadata": {
    "execution": {
     "iopub.execute_input": "2022-05-31T12:56:14.573947Z",
     "iopub.status.busy": "2022-05-31T12:56:14.573222Z",
     "iopub.status.idle": "2022-05-31T12:56:14.618977Z",
     "shell.execute_reply": "2022-05-31T12:56:14.618007Z"
    },
    "papermill": {
     "duration": 0.067023,
     "end_time": "2022-05-31T12:56:14.621113",
     "exception": false,
     "start_time": "2022-05-31T12:56:14.554090",
     "status": "completed"
    },
    "tags": []
   },
   "outputs": [
    {
     "data": {
      "text/html": [
       "<div>\n",
       "<style scoped>\n",
       "    .dataframe tbody tr th:only-of-type {\n",
       "        vertical-align: middle;\n",
       "    }\n",
       "\n",
       "    .dataframe tbody tr th {\n",
       "        vertical-align: top;\n",
       "    }\n",
       "\n",
       "    .dataframe thead th {\n",
       "        text-align: right;\n",
       "    }\n",
       "</style>\n",
       "<table border=\"1\" class=\"dataframe\">\n",
       "  <thead>\n",
       "    <tr style=\"text-align: right;\">\n",
       "      <th></th>\n",
       "      <th>B_31</th>\n",
       "      <th>target</th>\n",
       "    </tr>\n",
       "  </thead>\n",
       "  <tbody>\n",
       "    <tr>\n",
       "      <th>0</th>\n",
       "      <td>1</td>\n",
       "      <td>0</td>\n",
       "    </tr>\n",
       "    <tr>\n",
       "      <th>1</th>\n",
       "      <td>1</td>\n",
       "      <td>0</td>\n",
       "    </tr>\n",
       "    <tr>\n",
       "      <th>2</th>\n",
       "      <td>1</td>\n",
       "      <td>0</td>\n",
       "    </tr>\n",
       "    <tr>\n",
       "      <th>3</th>\n",
       "      <td>1</td>\n",
       "      <td>0</td>\n",
       "    </tr>\n",
       "    <tr>\n",
       "      <th>4</th>\n",
       "      <td>1</td>\n",
       "      <td>0</td>\n",
       "    </tr>\n",
       "    <tr>\n",
       "      <th>...</th>\n",
       "      <td>...</td>\n",
       "      <td>...</td>\n",
       "    </tr>\n",
       "    <tr>\n",
       "      <th>5531446</th>\n",
       "      <td>1</td>\n",
       "      <td>0</td>\n",
       "    </tr>\n",
       "    <tr>\n",
       "      <th>5531447</th>\n",
       "      <td>1</td>\n",
       "      <td>0</td>\n",
       "    </tr>\n",
       "    <tr>\n",
       "      <th>5531448</th>\n",
       "      <td>1</td>\n",
       "      <td>0</td>\n",
       "    </tr>\n",
       "    <tr>\n",
       "      <th>5531449</th>\n",
       "      <td>1</td>\n",
       "      <td>0</td>\n",
       "    </tr>\n",
       "    <tr>\n",
       "      <th>5531450</th>\n",
       "      <td>1</td>\n",
       "      <td>0</td>\n",
       "    </tr>\n",
       "  </tbody>\n",
       "</table>\n",
       "<p>5531451 rows × 2 columns</p>\n",
       "</div>"
      ],
      "text/plain": [
       "         B_31  target\n",
       "0           1       0\n",
       "1           1       0\n",
       "2           1       0\n",
       "3           1       0\n",
       "4           1       0\n",
       "...       ...     ...\n",
       "5531446     1       0\n",
       "5531447     1       0\n",
       "5531448     1       0\n",
       "5531449     1       0\n",
       "5531450     1       0\n",
       "\n",
       "[5531451 rows x 2 columns]"
      ]
     },
     "execution_count": 21,
     "metadata": {},
     "output_type": "execute_result"
    }
   ],
   "source": [
    "train.select_dtypes(include=['int'])"
   ]
  },
  {
   "cell_type": "code",
   "execution_count": 22,
   "id": "d3eae23d",
   "metadata": {
    "execution": {
     "iopub.execute_input": "2022-05-31T12:56:14.665305Z",
     "iopub.status.busy": "2022-05-31T12:56:14.664839Z",
     "iopub.status.idle": "2022-05-31T12:56:14.789473Z",
     "shell.execute_reply": "2022-05-31T12:56:14.788333Z"
    },
    "papermill": {
     "duration": 0.152055,
     "end_time": "2022-05-31T12:56:14.791949",
     "exception": false,
     "start_time": "2022-05-31T12:56:14.639894",
     "status": "completed"
    },
    "tags": []
   },
   "outputs": [],
   "source": [
    "target_by_b31 = train.groupby(by=[\"B_31\"]).size().reset_index(name=\"counts\")"
   ]
  },
  {
   "cell_type": "code",
   "execution_count": 23,
   "id": "b9ac5748",
   "metadata": {
    "execution": {
     "iopub.execute_input": "2022-05-31T12:56:14.831283Z",
     "iopub.status.busy": "2022-05-31T12:56:14.830902Z",
     "iopub.status.idle": "2022-05-31T12:56:14.902302Z",
     "shell.execute_reply": "2022-05-31T12:56:14.901376Z"
    },
    "papermill": {
     "duration": 0.093575,
     "end_time": "2022-05-31T12:56:14.904353",
     "exception": false,
     "start_time": "2022-05-31T12:56:14.810778",
     "status": "completed"
    },
    "tags": []
   },
   "outputs": [
    {
     "data": {
      "text/html": [
       "<div>                            <div id=\"4521380d-760a-4ffa-8f44-f7cc6a62f58d\" class=\"plotly-graph-div\" style=\"height:525px; width:100%;\"></div>            <script type=\"text/javascript\">                require([\"plotly\"], function(Plotly) {                    window.PLOTLYENV=window.PLOTLYENV || {};                                    if (document.getElementById(\"4521380d-760a-4ffa-8f44-f7cc6a62f58d\")) {                    Plotly.newPlot(                        \"4521380d-760a-4ffa-8f44-f7cc6a62f58d\",                        [{\"alignmentgroup\":\"True\",\"hovertemplate\":\"B_31=%{marker.color}<br>counts=%{y}<extra></extra>\",\"legendgroup\":\"\",\"marker\":{\"color\":[0,1],\"coloraxis\":\"coloraxis\",\"pattern\":{\"shape\":\"\"}},\"name\":\"\",\"offsetgroup\":\"\",\"orientation\":\"v\",\"showlegend\":false,\"textposition\":\"auto\",\"x\":[0,1],\"xaxis\":\"x\",\"y\":[16907,5514544],\"yaxis\":\"y\",\"type\":\"bar\"}],                        {\"template\":{\"data\":{\"histogram2dcontour\":[{\"type\":\"histogram2dcontour\",\"colorbar\":{\"outlinewidth\":0,\"ticks\":\"\"},\"colorscale\":[[0.0,\"#0d0887\"],[0.1111111111111111,\"#46039f\"],[0.2222222222222222,\"#7201a8\"],[0.3333333333333333,\"#9c179e\"],[0.4444444444444444,\"#bd3786\"],[0.5555555555555556,\"#d8576b\"],[0.6666666666666666,\"#ed7953\"],[0.7777777777777778,\"#fb9f3a\"],[0.8888888888888888,\"#fdca26\"],[1.0,\"#f0f921\"]]}],\"choropleth\":[{\"type\":\"choropleth\",\"colorbar\":{\"outlinewidth\":0,\"ticks\":\"\"}}],\"histogram2d\":[{\"type\":\"histogram2d\",\"colorbar\":{\"outlinewidth\":0,\"ticks\":\"\"},\"colorscale\":[[0.0,\"#0d0887\"],[0.1111111111111111,\"#46039f\"],[0.2222222222222222,\"#7201a8\"],[0.3333333333333333,\"#9c179e\"],[0.4444444444444444,\"#bd3786\"],[0.5555555555555556,\"#d8576b\"],[0.6666666666666666,\"#ed7953\"],[0.7777777777777778,\"#fb9f3a\"],[0.8888888888888888,\"#fdca26\"],[1.0,\"#f0f921\"]]}],\"heatmap\":[{\"type\":\"heatmap\",\"colorbar\":{\"outlinewidth\":0,\"ticks\":\"\"},\"colorscale\":[[0.0,\"#0d0887\"],[0.1111111111111111,\"#46039f\"],[0.2222222222222222,\"#7201a8\"],[0.3333333333333333,\"#9c179e\"],[0.4444444444444444,\"#bd3786\"],[0.5555555555555556,\"#d8576b\"],[0.6666666666666666,\"#ed7953\"],[0.7777777777777778,\"#fb9f3a\"],[0.8888888888888888,\"#fdca26\"],[1.0,\"#f0f921\"]]}],\"heatmapgl\":[{\"type\":\"heatmapgl\",\"colorbar\":{\"outlinewidth\":0,\"ticks\":\"\"},\"colorscale\":[[0.0,\"#0d0887\"],[0.1111111111111111,\"#46039f\"],[0.2222222222222222,\"#7201a8\"],[0.3333333333333333,\"#9c179e\"],[0.4444444444444444,\"#bd3786\"],[0.5555555555555556,\"#d8576b\"],[0.6666666666666666,\"#ed7953\"],[0.7777777777777778,\"#fb9f3a\"],[0.8888888888888888,\"#fdca26\"],[1.0,\"#f0f921\"]]}],\"contourcarpet\":[{\"type\":\"contourcarpet\",\"colorbar\":{\"outlinewidth\":0,\"ticks\":\"\"}}],\"contour\":[{\"type\":\"contour\",\"colorbar\":{\"outlinewidth\":0,\"ticks\":\"\"},\"colorscale\":[[0.0,\"#0d0887\"],[0.1111111111111111,\"#46039f\"],[0.2222222222222222,\"#7201a8\"],[0.3333333333333333,\"#9c179e\"],[0.4444444444444444,\"#bd3786\"],[0.5555555555555556,\"#d8576b\"],[0.6666666666666666,\"#ed7953\"],[0.7777777777777778,\"#fb9f3a\"],[0.8888888888888888,\"#fdca26\"],[1.0,\"#f0f921\"]]}],\"surface\":[{\"type\":\"surface\",\"colorbar\":{\"outlinewidth\":0,\"ticks\":\"\"},\"colorscale\":[[0.0,\"#0d0887\"],[0.1111111111111111,\"#46039f\"],[0.2222222222222222,\"#7201a8\"],[0.3333333333333333,\"#9c179e\"],[0.4444444444444444,\"#bd3786\"],[0.5555555555555556,\"#d8576b\"],[0.6666666666666666,\"#ed7953\"],[0.7777777777777778,\"#fb9f3a\"],[0.8888888888888888,\"#fdca26\"],[1.0,\"#f0f921\"]]}],\"mesh3d\":[{\"type\":\"mesh3d\",\"colorbar\":{\"outlinewidth\":0,\"ticks\":\"\"}}],\"scatter\":[{\"fillpattern\":{\"fillmode\":\"overlay\",\"size\":10,\"solidity\":0.2},\"type\":\"scatter\"}],\"parcoords\":[{\"type\":\"parcoords\",\"line\":{\"colorbar\":{\"outlinewidth\":0,\"ticks\":\"\"}}}],\"scatterpolargl\":[{\"type\":\"scatterpolargl\",\"marker\":{\"colorbar\":{\"outlinewidth\":0,\"ticks\":\"\"}}}],\"bar\":[{\"error_x\":{\"color\":\"#2a3f5f\"},\"error_y\":{\"color\":\"#2a3f5f\"},\"marker\":{\"line\":{\"color\":\"#E5ECF6\",\"width\":0.5},\"pattern\":{\"fillmode\":\"overlay\",\"size\":10,\"solidity\":0.2}},\"type\":\"bar\"}],\"scattergeo\":[{\"type\":\"scattergeo\",\"marker\":{\"colorbar\":{\"outlinewidth\":0,\"ticks\":\"\"}}}],\"scatterpolar\":[{\"type\":\"scatterpolar\",\"marker\":{\"colorbar\":{\"outlinewidth\":0,\"ticks\":\"\"}}}],\"histogram\":[{\"marker\":{\"pattern\":{\"fillmode\":\"overlay\",\"size\":10,\"solidity\":0.2}},\"type\":\"histogram\"}],\"scattergl\":[{\"type\":\"scattergl\",\"marker\":{\"colorbar\":{\"outlinewidth\":0,\"ticks\":\"\"}}}],\"scatter3d\":[{\"type\":\"scatter3d\",\"line\":{\"colorbar\":{\"outlinewidth\":0,\"ticks\":\"\"}},\"marker\":{\"colorbar\":{\"outlinewidth\":0,\"ticks\":\"\"}}}],\"scattermapbox\":[{\"type\":\"scattermapbox\",\"marker\":{\"colorbar\":{\"outlinewidth\":0,\"ticks\":\"\"}}}],\"scatterternary\":[{\"type\":\"scatterternary\",\"marker\":{\"colorbar\":{\"outlinewidth\":0,\"ticks\":\"\"}}}],\"scattercarpet\":[{\"type\":\"scattercarpet\",\"marker\":{\"colorbar\":{\"outlinewidth\":0,\"ticks\":\"\"}}}],\"carpet\":[{\"aaxis\":{\"endlinecolor\":\"#2a3f5f\",\"gridcolor\":\"white\",\"linecolor\":\"white\",\"minorgridcolor\":\"white\",\"startlinecolor\":\"#2a3f5f\"},\"baxis\":{\"endlinecolor\":\"#2a3f5f\",\"gridcolor\":\"white\",\"linecolor\":\"white\",\"minorgridcolor\":\"white\",\"startlinecolor\":\"#2a3f5f\"},\"type\":\"carpet\"}],\"table\":[{\"cells\":{\"fill\":{\"color\":\"#EBF0F8\"},\"line\":{\"color\":\"white\"}},\"header\":{\"fill\":{\"color\":\"#C8D4E3\"},\"line\":{\"color\":\"white\"}},\"type\":\"table\"}],\"barpolar\":[{\"marker\":{\"line\":{\"color\":\"#E5ECF6\",\"width\":0.5},\"pattern\":{\"fillmode\":\"overlay\",\"size\":10,\"solidity\":0.2}},\"type\":\"barpolar\"}],\"pie\":[{\"automargin\":true,\"type\":\"pie\"}]},\"layout\":{\"autotypenumbers\":\"strict\",\"colorway\":[\"#636efa\",\"#EF553B\",\"#00cc96\",\"#ab63fa\",\"#FFA15A\",\"#19d3f3\",\"#FF6692\",\"#B6E880\",\"#FF97FF\",\"#FECB52\"],\"font\":{\"color\":\"#2a3f5f\"},\"hovermode\":\"closest\",\"hoverlabel\":{\"align\":\"left\"},\"paper_bgcolor\":\"white\",\"plot_bgcolor\":\"#E5ECF6\",\"polar\":{\"bgcolor\":\"#E5ECF6\",\"angularaxis\":{\"gridcolor\":\"white\",\"linecolor\":\"white\",\"ticks\":\"\"},\"radialaxis\":{\"gridcolor\":\"white\",\"linecolor\":\"white\",\"ticks\":\"\"}},\"ternary\":{\"bgcolor\":\"#E5ECF6\",\"aaxis\":{\"gridcolor\":\"white\",\"linecolor\":\"white\",\"ticks\":\"\"},\"baxis\":{\"gridcolor\":\"white\",\"linecolor\":\"white\",\"ticks\":\"\"},\"caxis\":{\"gridcolor\":\"white\",\"linecolor\":\"white\",\"ticks\":\"\"}},\"coloraxis\":{\"colorbar\":{\"outlinewidth\":0,\"ticks\":\"\"}},\"colorscale\":{\"sequential\":[[0.0,\"#0d0887\"],[0.1111111111111111,\"#46039f\"],[0.2222222222222222,\"#7201a8\"],[0.3333333333333333,\"#9c179e\"],[0.4444444444444444,\"#bd3786\"],[0.5555555555555556,\"#d8576b\"],[0.6666666666666666,\"#ed7953\"],[0.7777777777777778,\"#fb9f3a\"],[0.8888888888888888,\"#fdca26\"],[1.0,\"#f0f921\"]],\"sequentialminus\":[[0.0,\"#0d0887\"],[0.1111111111111111,\"#46039f\"],[0.2222222222222222,\"#7201a8\"],[0.3333333333333333,\"#9c179e\"],[0.4444444444444444,\"#bd3786\"],[0.5555555555555556,\"#d8576b\"],[0.6666666666666666,\"#ed7953\"],[0.7777777777777778,\"#fb9f3a\"],[0.8888888888888888,\"#fdca26\"],[1.0,\"#f0f921\"]],\"diverging\":[[0,\"#8e0152\"],[0.1,\"#c51b7d\"],[0.2,\"#de77ae\"],[0.3,\"#f1b6da\"],[0.4,\"#fde0ef\"],[0.5,\"#f7f7f7\"],[0.6,\"#e6f5d0\"],[0.7,\"#b8e186\"],[0.8,\"#7fbc41\"],[0.9,\"#4d9221\"],[1,\"#276419\"]]},\"xaxis\":{\"gridcolor\":\"white\",\"linecolor\":\"white\",\"ticks\":\"\",\"title\":{\"standoff\":15},\"zerolinecolor\":\"white\",\"automargin\":true,\"zerolinewidth\":2},\"yaxis\":{\"gridcolor\":\"white\",\"linecolor\":\"white\",\"ticks\":\"\",\"title\":{\"standoff\":15},\"zerolinecolor\":\"white\",\"automargin\":true,\"zerolinewidth\":2},\"scene\":{\"xaxis\":{\"backgroundcolor\":\"#E5ECF6\",\"gridcolor\":\"white\",\"linecolor\":\"white\",\"showbackground\":true,\"ticks\":\"\",\"zerolinecolor\":\"white\",\"gridwidth\":2},\"yaxis\":{\"backgroundcolor\":\"#E5ECF6\",\"gridcolor\":\"white\",\"linecolor\":\"white\",\"showbackground\":true,\"ticks\":\"\",\"zerolinecolor\":\"white\",\"gridwidth\":2},\"zaxis\":{\"backgroundcolor\":\"#E5ECF6\",\"gridcolor\":\"white\",\"linecolor\":\"white\",\"showbackground\":true,\"ticks\":\"\",\"zerolinecolor\":\"white\",\"gridwidth\":2}},\"shapedefaults\":{\"line\":{\"color\":\"#2a3f5f\"}},\"annotationdefaults\":{\"arrowcolor\":\"#2a3f5f\",\"arrowhead\":0,\"arrowwidth\":1},\"geo\":{\"bgcolor\":\"white\",\"landcolor\":\"#E5ECF6\",\"subunitcolor\":\"white\",\"showland\":true,\"showlakes\":true,\"lakecolor\":\"white\"},\"title\":{\"x\":0.05},\"mapbox\":{\"style\":\"light\"}}},\"xaxis\":{\"anchor\":\"y\",\"domain\":[0.0,1.0],\"title\":{\"text\":\"B_31\"}},\"yaxis\":{\"anchor\":\"x\",\"domain\":[0.0,1.0],\"title\":{\"text\":\"counts\"}},\"coloraxis\":{\"colorbar\":{\"title\":{\"text\":\"B_31\"}},\"colorscale\":[[0.0,\"#0d0887\"],[0.1111111111111111,\"#46039f\"],[0.2222222222222222,\"#7201a8\"],[0.3333333333333333,\"#9c179e\"],[0.4444444444444444,\"#bd3786\"],[0.5555555555555556,\"#d8576b\"],[0.6666666666666666,\"#ed7953\"],[0.7777777777777778,\"#fb9f3a\"],[0.8888888888888888,\"#fdca26\"],[1.0,\"#f0f921\"]]},\"legend\":{\"tracegroupgap\":0},\"title\":{\"text\":\"Distribution of B_31\"},\"barmode\":\"relative\"},                        {\"responsive\": true}                    ).then(function(){\n",
       "                            \n",
       "var gd = document.getElementById('4521380d-760a-4ffa-8f44-f7cc6a62f58d');\n",
       "var x = new MutationObserver(function (mutations, observer) {{\n",
       "        var display = window.getComputedStyle(gd).display;\n",
       "        if (!display || display === 'none') {{\n",
       "            console.log([gd, 'removed!']);\n",
       "            Plotly.purge(gd);\n",
       "            observer.disconnect();\n",
       "        }}\n",
       "}});\n",
       "\n",
       "// Listen for the removal of the full notebook cells\n",
       "var notebookContainer = gd.closest('#notebook-container');\n",
       "if (notebookContainer) {{\n",
       "    x.observe(notebookContainer, {childList: true});\n",
       "}}\n",
       "\n",
       "// Listen for the clearing of the current output cell\n",
       "var outputEl = gd.closest('.output');\n",
       "if (outputEl) {{\n",
       "    x.observe(outputEl, {childList: true});\n",
       "}}\n",
       "\n",
       "                        })                };                });            </script>        </div>"
      ]
     },
     "metadata": {},
     "output_type": "display_data"
    }
   ],
   "source": [
    "px.bar(target_by_b31,x=\"B_31\",y=\"counts\",color=\"B_31\",title=\"Distribution of B_31\")"
   ]
  },
  {
   "cell_type": "markdown",
   "id": "fa60018e",
   "metadata": {
    "papermill": {
     "duration": 0.018361,
     "end_time": "2022-05-31T12:56:14.941133",
     "exception": false,
     "start_time": "2022-05-31T12:56:14.922772",
     "status": "completed"
    },
    "tags": []
   },
   "source": [
    "# Correlation of variables with the target feature"
   ]
  },
  {
   "cell_type": "code",
   "execution_count": 24,
   "id": "eb6511ca",
   "metadata": {
    "execution": {
     "iopub.execute_input": "2022-05-31T12:56:14.980475Z",
     "iopub.status.busy": "2022-05-31T12:56:14.979619Z",
     "iopub.status.idle": "2022-05-31T12:57:05.393579Z",
     "shell.execute_reply": "2022-05-31T12:57:05.392643Z"
    },
    "papermill": {
     "duration": 50.435996,
     "end_time": "2022-05-31T12:57:05.396008",
     "exception": false,
     "start_time": "2022-05-31T12:56:14.960012",
     "status": "completed"
    },
    "tags": []
   },
   "outputs": [
    {
     "name": "stderr",
     "output_type": "stream",
     "text": [
      "/opt/conda/lib/python3.7/site-packages/ipykernel_launcher.py:2: DeprecationWarning:\n",
      "\n",
      "`np.bool` is a deprecated alias for the builtin `bool`. To silence this warning, use `bool` by itself. Doing this will not modify any behavior and is safe. If you specifically wanted the numpy scalar type, use `np.bool_` here.\n",
      "Deprecated in NumPy 1.20; for more details and guidance: https://numpy.org/devdocs/release/1.20.0-notes.html#deprecations\n",
      "\n"
     ]
    },
    {
     "data": {
      "text/plain": [
       "<AxesSubplot:>"
      ]
     },
     "execution_count": 24,
     "metadata": {},
     "output_type": "execute_result"
    },
    {
     "data": {
      "image/png": "[encoded data removed]",
      "text/plain": [
       "<Figure size 792x648 with 2 Axes>"
      ]
     },
     "metadata": {
      "needs_background": "light"
     },
     "output_type": "display_data"
    }
   ],
   "source": [
    "corr = train.sample(frac=0.1, random_state=42).corr()\n",
    "mask = np.triu(np.ones_like(corr, dtype=np.bool))\n",
    "plt.figure(figsize=(11, 9))\n",
    "sns.heatmap(corr,mask=mask)"
   ]
  },
  {
   "cell_type": "markdown",
   "id": "0a076d14",
   "metadata": {
    "papermill": {
     "duration": 0.019885,
     "end_time": "2022-05-31T12:57:05.436272",
     "exception": false,
     "start_time": "2022-05-31T12:57:05.416387",
     "status": "completed"
    },
    "tags": []
   },
   "source": [
    "**Some features are highly correlated.**"
   ]
  },
  {
   "cell_type": "code",
   "execution_count": 25,
   "id": "f01b0fa3",
   "metadata": {
    "execution": {
     "iopub.execute_input": "2022-05-31T12:57:05.479197Z",
     "iopub.status.busy": "2022-05-31T12:57:05.478554Z",
     "iopub.status.idle": "2022-05-31T12:57:06.979899Z",
     "shell.execute_reply": "2022-05-31T12:57:06.978923Z"
    },
    "papermill": {
     "duration": 1.525096,
     "end_time": "2022-05-31T12:57:06.982004",
     "exception": false,
     "start_time": "2022-05-31T12:57:05.456908",
     "status": "completed"
    },
    "tags": []
   },
   "outputs": [
    {
     "name": "stdout",
     "output_type": "stream",
     "text": [
      "Highly correlated features with their correlation values\n",
      "B_11 | B_1 | 1.0\n",
      "S_7 | S_3 | 0.9\n",
      "B_13 | B_12 | 0.94\n",
      "B_15 | B_14 | 0.9\n",
      "B_23 | B_7 | 1.0\n",
      "D_74 | D_58 | 0.92\n",
      "D_75 | D_58 | 0.93\n",
      "D_75 | D_74 | 0.99\n",
      "D_77 | D_62 | 1.0\n",
      "B_33 | B_2 | 0.91\n",
      "S_24 | S_22 | 0.92\n",
      "D_104 | D_103 | 1.0\n",
      "B_37 | B_1 | 0.99\n",
      "B_37 | B_11 | 0.99\n",
      "D_110 | D_42 | 1.0\n",
      "D_111 | D_42 | 1.0\n",
      "B_39 | D_42 | 1.0\n",
      "D_119 | D_118 | 0.99\n",
      "B_42 | D_88 | 1.0\n",
      "D_141 | D_139 | 1.0\n",
      "D_143 | D_139 | 1.0\n",
      "D_143 | D_141 | 1.0\n"
     ]
    }
   ],
   "source": [
    "#Code reference: https://stackoverflow.com/questions/29294983/how-to-calculate-correlation-between-all-columns-and-remove-highly-correlated-on\n",
    "\n",
    "iters = range(len(corr.columns) - 1)\n",
    "drop_cols = []\n",
    "threshold = 0.9\n",
    "print(\"Highly correlated features with their correlation values\")\n",
    "    # Iterate through the correlation matrix and compare correlations\n",
    "for i in iters:\n",
    "        for j in range(i+1):\n",
    "            item = corr.iloc[j:(j+1), (i+1):(i+2)]\n",
    "            col = item.columns\n",
    "            row = item.index\n",
    "            val = abs(item.values)\n",
    "\n",
    "            # If correlation exceeds the threshold\n",
    "            if val >= threshold:\n",
    "                # Print the correlated features and the correlation value\n",
    "                print(col.values[0], \"|\", row.values[0], \"|\", round(val[0][0], 2))\n",
    "                drop_cols.append(col.values[0])\n"
   ]
  },
  {
   "cell_type": "markdown",
   "id": "28d7aa6f",
   "metadata": {
    "papermill": {
     "duration": 0.021643,
     "end_time": "2022-05-31T12:57:07.025982",
     "exception": false,
     "start_time": "2022-05-31T12:57:07.004339",
     "status": "completed"
    },
    "tags": []
   },
   "source": [
    "**Let's remove the highly correlated features**"
   ]
  },
  {
   "cell_type": "code",
   "execution_count": 26,
   "id": "b7a4eed1",
   "metadata": {
    "execution": {
     "iopub.execute_input": "2022-05-31T12:57:07.071176Z",
     "iopub.status.busy": "2022-05-31T12:57:07.070225Z",
     "iopub.status.idle": "2022-05-31T12:57:07.074983Z",
     "shell.execute_reply": "2022-05-31T12:57:07.074240Z"
    },
    "papermill": {
     "duration": 0.028978,
     "end_time": "2022-05-31T12:57:07.077226",
     "exception": false,
     "start_time": "2022-05-31T12:57:07.048248",
     "status": "completed"
    },
    "tags": []
   },
   "outputs": [],
   "source": [
    "# Drop one of each pair of correlated columns\n",
    "drops = set(drop_cols)\n",
    "#train = train.drop(columns=drops)\n"
   ]
  },
  {
   "cell_type": "code",
   "execution_count": 27,
   "id": "d801bd6b",
   "metadata": {
    "execution": {
     "iopub.execute_input": "2022-05-31T12:57:07.121561Z",
     "iopub.status.busy": "2022-05-31T12:57:07.120825Z",
     "iopub.status.idle": "2022-05-31T12:57:07.141027Z",
     "shell.execute_reply": "2022-05-31T12:57:07.139999Z"
    },
    "papermill": {
     "duration": 0.045336,
     "end_time": "2022-05-31T12:57:07.143561",
     "exception": false,
     "start_time": "2022-05-31T12:57:07.098225",
     "status": "completed"
    },
    "tags": []
   },
   "outputs": [
    {
     "name": "stdout",
     "output_type": "stream",
     "text": [
      "<class 'pandas.core.frame.DataFrame'>\n",
      "Int64Index: 5531451 entries, 0 to 5531450\n",
      "Columns: 191 entries, customer_ID to target\n",
      "dtypes: float32(185), int64(2), object(4)\n",
      "memory usage: 4.1+ GB\n"
     ]
    }
   ],
   "source": [
    "train.info()"
   ]
  },
  {
   "cell_type": "markdown",
   "id": "45cf7a7d",
   "metadata": {
    "papermill": {
     "duration": 0.020682,
     "end_time": "2022-05-31T12:57:07.187128",
     "exception": false,
     "start_time": "2022-05-31T12:57:07.166446",
     "status": "completed"
    },
    "tags": []
   },
   "source": [
    "# Modelling\n",
    "\n",
    "**Reference:https://www.kaggle.com/code/munumbutt/simple-lgbm-starter**"
   ]
  },
  {
   "cell_type": "code",
   "execution_count": 28,
   "id": "c634a698",
   "metadata": {
    "execution": {
     "iopub.execute_input": "2022-05-31T12:57:07.231649Z",
     "iopub.status.busy": "2022-05-31T12:57:07.230889Z",
     "iopub.status.idle": "2022-05-31T12:57:10.337866Z",
     "shell.execute_reply": "2022-05-31T12:57:10.336826Z"
    },
    "papermill": {
     "duration": 3.132067,
     "end_time": "2022-05-31T12:57:10.340201",
     "exception": false,
     "start_time": "2022-05-31T12:57:07.208134",
     "status": "completed"
    },
    "tags": []
   },
   "outputs": [
    {
     "name": "stdout",
     "output_type": "stream",
     "text": [
      "CPU times: user 2.52 s, sys: 573 ms, total: 3.1 s\n",
      "Wall time: 3.1 s\n"
     ]
    }
   ],
   "source": [
    "%%time\n",
    "# Keep the last statement month per customer\n",
    "# https://www.kaggle.com/competitions/amex-default-prediction/discussion/327094\n",
    "train =  (train\n",
    "            .groupby('customer_ID')\n",
    "            .tail(1)\n",
    "            .set_index('customer_ID', drop=True)\n",
    "            .sort_index()\n",
    "            .drop(['S_2'], axis='columns'))"
   ]
  },
  {
   "cell_type": "code",
   "execution_count": 29,
   "id": "8e7fa3e1",
   "metadata": {
    "execution": {
     "iopub.execute_input": "2022-05-31T12:57:10.384785Z",
     "iopub.status.busy": "2022-05-31T12:57:10.384114Z",
     "iopub.status.idle": "2022-05-31T12:57:10.389618Z",
     "shell.execute_reply": "2022-05-31T12:57:10.388610Z"
    },
    "papermill": {
     "duration": 0.030065,
     "end_time": "2022-05-31T12:57:10.391753",
     "exception": false,
     "start_time": "2022-05-31T12:57:10.361688",
     "status": "completed"
    },
    "tags": []
   },
   "outputs": [
    {
     "data": {
      "text/plain": [
       "(458913, 189)"
      ]
     },
     "execution_count": 29,
     "metadata": {},
     "output_type": "execute_result"
    }
   ],
   "source": [
    "train.shape"
   ]
  },
  {
   "cell_type": "code",
   "execution_count": 30,
   "id": "588f59d3",
   "metadata": {
    "execution": {
     "iopub.execute_input": "2022-05-31T12:57:10.435801Z",
     "iopub.status.busy": "2022-05-31T12:57:10.435431Z",
     "iopub.status.idle": "2022-05-31T12:57:10.440483Z",
     "shell.execute_reply": "2022-05-31T12:57:10.439554Z"
    },
    "papermill": {
     "duration": 0.029269,
     "end_time": "2022-05-31T12:57:10.442543",
     "exception": false,
     "start_time": "2022-05-31T12:57:10.413274",
     "status": "completed"
    },
    "tags": []
   },
   "outputs": [],
   "source": [
    "total_cols = train.columns.to_list()\n",
    "cat_cols = ['B_30', 'B_38', 'D_114', 'D_116', 'D_117', 'D_120', 'D_126', 'D_63', 'D_64', 'D_66', 'D_68']\n",
    "\n",
    "num_cols = [col for col in total_cols if col not in cat_cols + [\"target\"]]"
   ]
  },
  {
   "cell_type": "code",
   "execution_count": 31,
   "id": "7fb4de2d",
   "metadata": {
    "execution": {
     "iopub.execute_input": "2022-05-31T12:57:10.486604Z",
     "iopub.status.busy": "2022-05-31T12:57:10.486128Z",
     "iopub.status.idle": "2022-05-31T12:57:10.742568Z",
     "shell.execute_reply": "2022-05-31T12:57:10.741700Z"
    },
    "papermill": {
     "duration": 0.281591,
     "end_time": "2022-05-31T12:57:10.744916",
     "exception": false,
     "start_time": "2022-05-31T12:57:10.463325",
     "status": "completed"
    },
    "tags": []
   },
   "outputs": [],
   "source": [
    "X = train[cat_cols+num_cols]\n",
    "y = train[\"target\"]\n",
    "\n"
   ]
  },
  {
   "cell_type": "code",
   "execution_count": 32,
   "id": "7a67724d",
   "metadata": {
    "execution": {
     "iopub.execute_input": "2022-05-31T12:57:10.789986Z",
     "iopub.status.busy": "2022-05-31T12:57:10.788960Z",
     "iopub.status.idle": "2022-05-31T12:57:12.685581Z",
     "shell.execute_reply": "2022-05-31T12:57:12.684547Z"
    },
    "papermill": {
     "duration": 1.920832,
     "end_time": "2022-05-31T12:57:12.687658",
     "exception": false,
     "start_time": "2022-05-31T12:57:10.766826",
     "status": "completed"
    },
    "tags": []
   },
   "outputs": [
    {
     "name": "stderr",
     "output_type": "stream",
     "text": [
      "/opt/conda/lib/python3.7/site-packages/pandas/core/frame.py:3678: SettingWithCopyWarning:\n",
      "\n",
      "\n",
      "A value is trying to be set on a copy of a slice from a DataFrame.\n",
      "Try using .loc[row_indexer,col_indexer] = value instead\n",
      "\n",
      "See the caveats in the documentation: https://pandas.pydata.org/pandas-docs/stable/user_guide/indexing.html#returning-a-view-versus-a-copy\n",
      "\n"
     ]
    },
    {
     "name": "stdout",
     "output_type": "stream",
     "text": [
      "CPU times: user 1.19 s, sys: 709 ms, total: 1.9 s\n",
      "Wall time: 1.89 s\n"
     ]
    }
   ],
   "source": [
    "%%time\n",
    "enc = OrdinalEncoder(handle_unknown='use_encoded_value',unknown_value=np.nan)\n",
    "X[cat_cols] = enc.fit_transform(X[cat_cols])"
   ]
  },
  {
   "cell_type": "code",
   "execution_count": 33,
   "id": "fe673b08",
   "metadata": {
    "execution": {
     "iopub.execute_input": "2022-05-31T12:57:12.731988Z",
     "iopub.status.busy": "2022-05-31T12:57:12.731595Z",
     "iopub.status.idle": "2022-05-31T12:57:13.741548Z",
     "shell.execute_reply": "2022-05-31T12:57:13.740788Z"
    },
    "papermill": {
     "duration": 1.034484,
     "end_time": "2022-05-31T12:57:13.743812",
     "exception": false,
     "start_time": "2022-05-31T12:57:12.709328",
     "status": "completed"
    },
    "tags": []
   },
   "outputs": [],
   "source": [
    "X_train, X_test, y_train, y_test = train_test_split(X, y, test_size=0.25, stratify=y)"
   ]
  },
  {
   "cell_type": "code",
   "execution_count": 34,
   "id": "2d4a9fe5",
   "metadata": {
    "execution": {
     "iopub.execute_input": "2022-05-31T12:57:13.789592Z",
     "iopub.status.busy": "2022-05-31T12:57:13.789009Z",
     "iopub.status.idle": "2022-05-31T12:57:13.793199Z",
     "shell.execute_reply": "2022-05-31T12:57:13.792475Z"
    },
    "papermill": {
     "duration": 0.029183,
     "end_time": "2022-05-31T12:57:13.795317",
     "exception": false,
     "start_time": "2022-05-31T12:57:13.766134",
     "status": "completed"
    },
    "tags": []
   },
   "outputs": [],
   "source": [
    "clf = LGBMClassifier(\n",
    "    n_estimators=50000,\n",
    "    random_state=72,\n",
    "    extra_trees=True\n",
    ")"
   ]
  },
  {
   "cell_type": "code",
   "execution_count": 35,
   "id": "1fced789",
   "metadata": {
    "execution": {
     "iopub.execute_input": "2022-05-31T12:57:13.839134Z",
     "iopub.status.busy": "2022-05-31T12:57:13.838707Z",
     "iopub.status.idle": "2022-05-31T12:58:07.672539Z",
     "shell.execute_reply": "2022-05-31T12:58:07.671138Z"
    },
    "papermill": {
     "duration": 53.874047,
     "end_time": "2022-05-31T12:58:07.690551",
     "exception": false,
     "start_time": "2022-05-31T12:57:13.816504",
     "status": "completed"
    },
    "tags": []
   },
   "outputs": [
    {
     "name": "stdout",
     "output_type": "stream",
     "text": [
      "Training until validation scores don't improve for 50 rounds\n",
      "Early stopping, best iteration is:\n",
      "[300]\tvalid_0's binary_logloss: 0.222687\n",
      "CPU times: user 3min 25s, sys: 901 ms, total: 3min 26s\n",
      "Wall time: 53.8 s\n"
     ]
    },
    {
     "data": {
      "text/plain": [
       "LGBMClassifier(extra_trees=True, n_estimators=50000, random_state=72)"
      ]
     },
     "execution_count": 35,
     "metadata": {},
     "output_type": "execute_result"
    }
   ],
   "source": [
    "%%time\n",
    "clf.fit(\n",
    "    X_train, y_train, \n",
    "    eval_set=[(X_test,y_test)],\n",
    "    callbacks=[early_stopping(50), log_evaluation(0)]\n",
    ")"
   ]
  },
  {
   "cell_type": "code",
   "execution_count": 36,
   "id": "eb2326e8",
   "metadata": {
    "execution": {
     "iopub.execute_input": "2022-05-31T12:58:07.736343Z",
     "iopub.status.busy": "2022-05-31T12:58:07.735936Z",
     "iopub.status.idle": "2022-05-31T12:58:07.929511Z",
     "shell.execute_reply": "2022-05-31T12:58:07.928551Z"
    },
    "papermill": {
     "duration": 0.218911,
     "end_time": "2022-05-31T12:58:07.931571",
     "exception": false,
     "start_time": "2022-05-31T12:58:07.712660",
     "status": "completed"
    },
    "tags": []
   },
   "outputs": [],
   "source": [
    "import gc\n",
    "del train, X, y, X_test, X_train, y_train, y_test\n",
    "_ = gc.collect()"
   ]
  },
  {
   "cell_type": "code",
   "execution_count": 37,
   "id": "6f6685b6",
   "metadata": {
    "execution": {
     "iopub.execute_input": "2022-05-31T12:58:07.975860Z",
     "iopub.status.busy": "2022-05-31T12:58:07.975431Z",
     "iopub.status.idle": "2022-05-31T12:58:07.979616Z",
     "shell.execute_reply": "2022-05-31T12:58:07.978547Z"
    },
    "papermill": {
     "duration": 0.028948,
     "end_time": "2022-05-31T12:58:07.981733",
     "exception": false,
     "start_time": "2022-05-31T12:58:07.952785",
     "status": "completed"
    },
    "tags": []
   },
   "outputs": [],
   "source": [
    "#del test"
   ]
  },
  {
   "cell_type": "code",
   "execution_count": 38,
   "id": "7ef1db55",
   "metadata": {
    "execution": {
     "iopub.execute_input": "2022-05-31T12:58:08.026541Z",
     "iopub.status.busy": "2022-05-31T12:58:08.025854Z",
     "iopub.status.idle": "2022-05-31T12:58:45.030771Z",
     "shell.execute_reply": "2022-05-31T12:58:45.029877Z"
    },
    "papermill": {
     "duration": 37.030429,
     "end_time": "2022-05-31T12:58:45.033441",
     "exception": false,
     "start_time": "2022-05-31T12:58:08.003012",
     "status": "completed"
    },
    "tags": []
   },
   "outputs": [],
   "source": [
    "test = pd.read_feather(\"../input/amexfeather/test_data.ftr\")"
   ]
  },
  {
   "cell_type": "code",
   "execution_count": 39,
   "id": "34ad9071",
   "metadata": {
    "execution": {
     "iopub.execute_input": "2022-05-31T12:58:45.085007Z",
     "iopub.status.busy": "2022-05-31T12:58:45.084372Z",
     "iopub.status.idle": "2022-05-31T12:59:04.669635Z",
     "shell.execute_reply": "2022-05-31T12:59:04.668488Z"
    },
    "papermill": {
     "duration": 19.613056,
     "end_time": "2022-05-31T12:59:04.671837",
     "exception": false,
     "start_time": "2022-05-31T12:58:45.058781",
     "status": "completed"
    },
    "tags": []
   },
   "outputs": [
    {
     "data": {
      "text/html": [
       "<div>\n",
       "<style scoped>\n",
       "    .dataframe tbody tr th:only-of-type {\n",
       "        vertical-align: middle;\n",
       "    }\n",
       "\n",
       "    .dataframe tbody tr th {\n",
       "        vertical-align: top;\n",
       "    }\n",
       "\n",
       "    .dataframe thead th {\n",
       "        text-align: right;\n",
       "    }\n",
       "</style>\n",
       "<table border=\"1\" class=\"dataframe\">\n",
       "  <thead>\n",
       "    <tr style=\"text-align: right;\">\n",
       "      <th></th>\n",
       "      <th>P_2</th>\n",
       "      <th>D_39</th>\n",
       "      <th>B_1</th>\n",
       "      <th>B_2</th>\n",
       "      <th>R_1</th>\n",
       "      <th>S_3</th>\n",
       "      <th>D_41</th>\n",
       "      <th>B_3</th>\n",
       "      <th>D_42</th>\n",
       "      <th>D_43</th>\n",
       "      <th>...</th>\n",
       "      <th>D_137</th>\n",
       "      <th>D_138</th>\n",
       "      <th>D_139</th>\n",
       "      <th>D_140</th>\n",
       "      <th>D_141</th>\n",
       "      <th>D_142</th>\n",
       "      <th>D_143</th>\n",
       "      <th>D_144</th>\n",
       "      <th>D_145</th>\n",
       "      <th>prediction</th>\n",
       "    </tr>\n",
       "    <tr>\n",
       "      <th>customer_ID</th>\n",
       "      <th></th>\n",
       "      <th></th>\n",
       "      <th></th>\n",
       "      <th></th>\n",
       "      <th></th>\n",
       "      <th></th>\n",
       "      <th></th>\n",
       "      <th></th>\n",
       "      <th></th>\n",
       "      <th></th>\n",
       "      <th></th>\n",
       "      <th></th>\n",
       "      <th></th>\n",
       "      <th></th>\n",
       "      <th></th>\n",
       "      <th></th>\n",
       "      <th></th>\n",
       "      <th></th>\n",
       "      <th></th>\n",
       "      <th></th>\n",
       "      <th></th>\n",
       "    </tr>\n",
       "  </thead>\n",
       "  <tbody>\n",
       "    <tr>\n",
       "      <th>00000469ba478561f23a92a868bd366de6f6527a684c9a2e78fb826dcac3b9b7</th>\n",
       "      <td>0.568848</td>\n",
       "      <td>0.121399</td>\n",
       "      <td>0.010780</td>\n",
       "      <td>1.009766</td>\n",
       "      <td>0.006924</td>\n",
       "      <td>0.149414</td>\n",
       "      <td>0.000396</td>\n",
       "      <td>0.003576</td>\n",
       "      <td>0.10376</td>\n",
       "      <td>0.007397</td>\n",
       "      <td>...</td>\n",
       "      <td>NaN</td>\n",
       "      <td>NaN</td>\n",
       "      <td>0.005913</td>\n",
       "      <td>0.001250</td>\n",
       "      <td>0.006542</td>\n",
       "      <td>NaN</td>\n",
       "      <td>0.009163</td>\n",
       "      <td>0.003691</td>\n",
       "      <td>0.003220</td>\n",
       "      <td>0.033748</td>\n",
       "    </tr>\n",
       "    <tr>\n",
       "      <th>00001bf2e77ff879fab36aa4fac689b9ba411dae63ae397d4263dafa1daedef5</th>\n",
       "      <td>0.841309</td>\n",
       "      <td>0.126465</td>\n",
       "      <td>0.016556</td>\n",
       "      <td>1.008789</td>\n",
       "      <td>0.009712</td>\n",
       "      <td>0.112183</td>\n",
       "      <td>0.006191</td>\n",
       "      <td>0.011383</td>\n",
       "      <td>NaN</td>\n",
       "      <td>NaN</td>\n",
       "      <td>...</td>\n",
       "      <td>NaN</td>\n",
       "      <td>NaN</td>\n",
       "      <td>0.004345</td>\n",
       "      <td>0.000866</td>\n",
       "      <td>0.009117</td>\n",
       "      <td>NaN</td>\n",
       "      <td>0.002197</td>\n",
       "      <td>0.000247</td>\n",
       "      <td>0.007778</td>\n",
       "      <td>0.001791</td>\n",
       "    </tr>\n",
       "    <tr>\n",
       "      <th>0000210045da4f81e5f122c6bde5c2a617d03eef67f82c5e400fc98e7bd43ce8</th>\n",
       "      <td>0.697754</td>\n",
       "      <td>0.002724</td>\n",
       "      <td>0.001485</td>\n",
       "      <td>0.810059</td>\n",
       "      <td>0.002621</td>\n",
       "      <td>0.166138</td>\n",
       "      <td>0.004887</td>\n",
       "      <td>0.015945</td>\n",
       "      <td>NaN</td>\n",
       "      <td>0.105286</td>\n",
       "      <td>...</td>\n",
       "      <td>NaN</td>\n",
       "      <td>NaN</td>\n",
       "      <td>1.000977</td>\n",
       "      <td>0.008896</td>\n",
       "      <td>0.895996</td>\n",
       "      <td>0.150146</td>\n",
       "      <td>1.009766</td>\n",
       "      <td>0.457764</td>\n",
       "      <td>0.092041</td>\n",
       "      <td>0.025191</td>\n",
       "    </tr>\n",
       "    <tr>\n",
       "      <th>00003b41e58ede33b8daf61ab56d9952f17c9ad1c3976cf6e56734528702d694</th>\n",
       "      <td>0.513184</td>\n",
       "      <td>0.324707</td>\n",
       "      <td>0.149536</td>\n",
       "      <td>0.205688</td>\n",
       "      <td>0.002277</td>\n",
       "      <td>0.181152</td>\n",
       "      <td>0.005814</td>\n",
       "      <td>0.498535</td>\n",
       "      <td>NaN</td>\n",
       "      <td>0.211670</td>\n",
       "      <td>...</td>\n",
       "      <td>NaN</td>\n",
       "      <td>NaN</td>\n",
       "      <td>1.007812</td>\n",
       "      <td>0.003754</td>\n",
       "      <td>0.919922</td>\n",
       "      <td>0.255371</td>\n",
       "      <td>1.007812</td>\n",
       "      <td>0.500977</td>\n",
       "      <td>0.182983</td>\n",
       "      <td>0.224603</td>\n",
       "    </tr>\n",
       "    <tr>\n",
       "      <th>00004b22eaeeeb0ec976890c1d9bfc14fd9427e98c4ee9a4693dd914fca22557</th>\n",
       "      <td>0.254395</td>\n",
       "      <td>0.768066</td>\n",
       "      <td>0.563477</td>\n",
       "      <td>0.038025</td>\n",
       "      <td>0.502930</td>\n",
       "      <td>0.168335</td>\n",
       "      <td>0.009483</td>\n",
       "      <td>0.831055</td>\n",
       "      <td>NaN</td>\n",
       "      <td>0.071899</td>\n",
       "      <td>...</td>\n",
       "      <td>NaN</td>\n",
       "      <td>NaN</td>\n",
       "      <td>0.006622</td>\n",
       "      <td>0.001140</td>\n",
       "      <td>0.009529</td>\n",
       "      <td>NaN</td>\n",
       "      <td>0.009407</td>\n",
       "      <td>0.001557</td>\n",
       "      <td>0.000525</td>\n",
       "      <td>0.872615</td>\n",
       "    </tr>\n",
       "  </tbody>\n",
       "</table>\n",
       "<p>5 rows × 189 columns</p>\n",
       "</div>"
      ],
      "text/plain": [
       "                                                         P_2      D_39  \\\n",
       "customer_ID                                                              \n",
       "00000469ba478561f23a92a868bd366de6f6527a684c9a2...  0.568848  0.121399   \n",
       "00001bf2e77ff879fab36aa4fac689b9ba411dae63ae397...  0.841309  0.126465   \n",
       "0000210045da4f81e5f122c6bde5c2a617d03eef67f82c5...  0.697754  0.002724   \n",
       "00003b41e58ede33b8daf61ab56d9952f17c9ad1c3976cf...  0.513184  0.324707   \n",
       "00004b22eaeeeb0ec976890c1d9bfc14fd9427e98c4ee9a...  0.254395  0.768066   \n",
       "\n",
       "                                                         B_1       B_2  \\\n",
       "customer_ID                                                              \n",
       "00000469ba478561f23a92a868bd366de6f6527a684c9a2...  0.010780  1.009766   \n",
       "00001bf2e77ff879fab36aa4fac689b9ba411dae63ae397...  0.016556  1.008789   \n",
       "0000210045da4f81e5f122c6bde5c2a617d03eef67f82c5...  0.001485  0.810059   \n",
       "00003b41e58ede33b8daf61ab56d9952f17c9ad1c3976cf...  0.149536  0.205688   \n",
       "00004b22eaeeeb0ec976890c1d9bfc14fd9427e98c4ee9a...  0.563477  0.038025   \n",
       "\n",
       "                                                         R_1       S_3  \\\n",
       "customer_ID                                                              \n",
       "00000469ba478561f23a92a868bd366de6f6527a684c9a2...  0.006924  0.149414   \n",
       "00001bf2e77ff879fab36aa4fac689b9ba411dae63ae397...  0.009712  0.112183   \n",
       "0000210045da4f81e5f122c6bde5c2a617d03eef67f82c5...  0.002621  0.166138   \n",
       "00003b41e58ede33b8daf61ab56d9952f17c9ad1c3976cf...  0.002277  0.181152   \n",
       "00004b22eaeeeb0ec976890c1d9bfc14fd9427e98c4ee9a...  0.502930  0.168335   \n",
       "\n",
       "                                                        D_41       B_3  \\\n",
       "customer_ID                                                              \n",
       "00000469ba478561f23a92a868bd366de6f6527a684c9a2...  0.000396  0.003576   \n",
       "00001bf2e77ff879fab36aa4fac689b9ba411dae63ae397...  0.006191  0.011383   \n",
       "0000210045da4f81e5f122c6bde5c2a617d03eef67f82c5...  0.004887  0.015945   \n",
       "00003b41e58ede33b8daf61ab56d9952f17c9ad1c3976cf...  0.005814  0.498535   \n",
       "00004b22eaeeeb0ec976890c1d9bfc14fd9427e98c4ee9a...  0.009483  0.831055   \n",
       "\n",
       "                                                       D_42      D_43  ...  \\\n",
       "customer_ID                                                            ...   \n",
       "00000469ba478561f23a92a868bd366de6f6527a684c9a2...  0.10376  0.007397  ...   \n",
       "00001bf2e77ff879fab36aa4fac689b9ba411dae63ae397...      NaN       NaN  ...   \n",
       "0000210045da4f81e5f122c6bde5c2a617d03eef67f82c5...      NaN  0.105286  ...   \n",
       "00003b41e58ede33b8daf61ab56d9952f17c9ad1c3976cf...      NaN  0.211670  ...   \n",
       "00004b22eaeeeb0ec976890c1d9bfc14fd9427e98c4ee9a...      NaN  0.071899  ...   \n",
       "\n",
       "                                                    D_137  D_138     D_139  \\\n",
       "customer_ID                                                                  \n",
       "00000469ba478561f23a92a868bd366de6f6527a684c9a2...    NaN    NaN  0.005913   \n",
       "00001bf2e77ff879fab36aa4fac689b9ba411dae63ae397...    NaN    NaN  0.004345   \n",
       "0000210045da4f81e5f122c6bde5c2a617d03eef67f82c5...    NaN    NaN  1.000977   \n",
       "00003b41e58ede33b8daf61ab56d9952f17c9ad1c3976cf...    NaN    NaN  1.007812   \n",
       "00004b22eaeeeb0ec976890c1d9bfc14fd9427e98c4ee9a...    NaN    NaN  0.006622   \n",
       "\n",
       "                                                       D_140     D_141  \\\n",
       "customer_ID                                                              \n",
       "00000469ba478561f23a92a868bd366de6f6527a684c9a2...  0.001250  0.006542   \n",
       "00001bf2e77ff879fab36aa4fac689b9ba411dae63ae397...  0.000866  0.009117   \n",
       "0000210045da4f81e5f122c6bde5c2a617d03eef67f82c5...  0.008896  0.895996   \n",
       "00003b41e58ede33b8daf61ab56d9952f17c9ad1c3976cf...  0.003754  0.919922   \n",
       "00004b22eaeeeb0ec976890c1d9bfc14fd9427e98c4ee9a...  0.001140  0.009529   \n",
       "\n",
       "                                                       D_142     D_143  \\\n",
       "customer_ID                                                              \n",
       "00000469ba478561f23a92a868bd366de6f6527a684c9a2...       NaN  0.009163   \n",
       "00001bf2e77ff879fab36aa4fac689b9ba411dae63ae397...       NaN  0.002197   \n",
       "0000210045da4f81e5f122c6bde5c2a617d03eef67f82c5...  0.150146  1.009766   \n",
       "00003b41e58ede33b8daf61ab56d9952f17c9ad1c3976cf...  0.255371  1.007812   \n",
       "00004b22eaeeeb0ec976890c1d9bfc14fd9427e98c4ee9a...       NaN  0.009407   \n",
       "\n",
       "                                                       D_144     D_145  \\\n",
       "customer_ID                                                              \n",
       "00000469ba478561f23a92a868bd366de6f6527a684c9a2...  0.003691  0.003220   \n",
       "00001bf2e77ff879fab36aa4fac689b9ba411dae63ae397...  0.000247  0.007778   \n",
       "0000210045da4f81e5f122c6bde5c2a617d03eef67f82c5...  0.457764  0.092041   \n",
       "00003b41e58ede33b8daf61ab56d9952f17c9ad1c3976cf...  0.500977  0.182983   \n",
       "00004b22eaeeeb0ec976890c1d9bfc14fd9427e98c4ee9a...  0.001557  0.000525   \n",
       "\n",
       "                                                    prediction  \n",
       "customer_ID                                                     \n",
       "00000469ba478561f23a92a868bd366de6f6527a684c9a2...    0.033748  \n",
       "00001bf2e77ff879fab36aa4fac689b9ba411dae63ae397...    0.001791  \n",
       "0000210045da4f81e5f122c6bde5c2a617d03eef67f82c5...    0.025191  \n",
       "00003b41e58ede33b8daf61ab56d9952f17c9ad1c3976cf...    0.224603  \n",
       "00004b22eaeeeb0ec976890c1d9bfc14fd9427e98c4ee9a...    0.872615  \n",
       "\n",
       "[5 rows x 189 columns]"
      ]
     },
     "execution_count": 39,
     "metadata": {},
     "output_type": "execute_result"
    }
   ],
   "source": [
    "test =  (\n",
    "    test\n",
    "    .groupby('customer_ID')\n",
    "    .tail(1)\n",
    "    .set_index('customer_ID', drop=True)\n",
    "    .sort_index()\n",
    "    .drop(['S_2'], axis='columns')\n",
    ")\n",
    "test[cat_cols] = enc.transform(test[cat_cols])\n",
    "test[\"prediction\"] = clf.predict_proba(test[cat_cols + num_cols])[:,1]\n",
    "test.head()"
   ]
  },
  {
   "cell_type": "code",
   "execution_count": 40,
   "id": "09a401a9",
   "metadata": {
    "execution": {
     "iopub.execute_input": "2022-05-31T12:59:04.718591Z",
     "iopub.status.busy": "2022-05-31T12:59:04.717661Z",
     "iopub.status.idle": "2022-05-31T12:59:04.919918Z",
     "shell.execute_reply": "2022-05-31T12:59:04.918730Z"
    },
    "papermill": {
     "duration": 0.227926,
     "end_time": "2022-05-31T12:59:04.922360",
     "exception": false,
     "start_time": "2022-05-31T12:59:04.694434",
     "status": "completed"
    },
    "tags": []
   },
   "outputs": [],
   "source": [
    "pred = pd.DataFrame()\n",
    "#pred[\"customer_ID\"] = test[\"customer_ID\"]\n",
    "pred[\"prediction\"] = test[\"prediction\"]"
   ]
  },
  {
   "cell_type": "code",
   "execution_count": 41,
   "id": "035153d4",
   "metadata": {
    "execution": {
     "iopub.execute_input": "2022-05-31T12:59:04.968958Z",
     "iopub.status.busy": "2022-05-31T12:59:04.968584Z",
     "iopub.status.idle": "2022-05-31T12:59:09.851952Z",
     "shell.execute_reply": "2022-05-31T12:59:09.851022Z"
    },
    "papermill": {
     "duration": 4.909443,
     "end_time": "2022-05-31T12:59:09.854488",
     "exception": false,
     "start_time": "2022-05-31T12:59:04.945045",
     "status": "completed"
    },
    "tags": []
   },
   "outputs": [],
   "source": [
    "test[\"prediction\"].to_csv(\"submission.csv\", index=True)"
   ]
  },
  {
   "cell_type": "markdown",
   "id": "bcec4592",
   "metadata": {
    "papermill": {
     "duration": 0.02151,
     "end_time": "2022-05-31T12:59:09.898455",
     "exception": false,
     "start_time": "2022-05-31T12:59:09.876945",
     "status": "completed"
    },
    "tags": []
   },
   "source": [
    "# Work in Progress"
   ]
  },
  {
   "cell_type": "code",
   "execution_count": null,
   "id": "3cfd1200",
   "metadata": {
    "papermill": {
     "duration": 0.02313,
     "end_time": "2022-05-31T12:59:09.943905",
     "exception": false,
     "start_time": "2022-05-31T12:59:09.920775",
     "status": "completed"
    },
    "tags": []
   },
   "outputs": [],
   "source": []
  }
 ],
 "metadata": {
  "kernelspec": {
   "display_name": "Python 3",
   "language": "python",
   "name": "python3"
  },
  "language_info": {
   "codemirror_mode": {
    "name": "ipython",
    "version": 3
   },
   "file_extension": ".py",
   "mimetype": "text/x-python",
   "name": "python",
   "nbconvert_exporter": "python",
   "pygments_lexer": "ipython3",
   "version": "3.7.12"
  },
  "papermill": {
   "default_parameters": {},
   "duration": 284.296881,
   "end_time": "2022-05-31T12:59:11.493232",
   "environment_variables": {},
   "exception": null,
   "input_path": "__notebook__.ipynb",
   "output_path": "__notebook__.ipynb",
   "parameters": {},
   "start_time": "2022-05-31T12:54:27.196351",
   "version": "2.3.4"
  }
 },
 "nbformat": 4,
 "nbformat_minor": 5
}
